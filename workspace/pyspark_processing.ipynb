{
 "cells": [
  {
   "cell_type": "code",
   "execution_count": 2,
   "metadata": {},
   "outputs": [],
   "source": [
    "import pyspark\n",
    "import json"
   ]
  },
  {
   "cell_type": "code",
   "execution_count": 6,
   "metadata": {},
   "outputs": [],
   "source": [
    "artists_data = json.load(open('artists_data.json'))\n",
    "albums_data = json.load(open('albums_data.json'))\n",
    "tracks_data = json.load(open('tracks_data.json'))\n",
    "tracks_features_data = json.load(open('tracks_features_data.json'))"
   ]
  },
  {
   "cell_type": "code",
   "execution_count": 3,
   "metadata": {},
   "outputs": [
    {
     "name": "stderr",
     "output_type": "stream",
     "text": [
      "23/12/04 01:06:26 WARN Utils: Your hostname, tntuan0910 resolves to a loopback address: 127.0.1.1; using 192.168.1.9 instead (on interface wlp0s20f3)\n",
      "23/12/04 01:06:26 WARN Utils: Set SPARK_LOCAL_IP if you need to bind to another address\n",
      "Setting default log level to \"WARN\".\n",
      "To adjust logging level use sc.setLogLevel(newLevel). For SparkR, use setLogLevel(newLevel).\n",
      "23/12/04 01:06:27 WARN NativeCodeLoader: Unable to load native-hadoop library for your platform... using builtin-java classes where applicable\n"
     ]
    }
   ],
   "source": [
    "# Create SparkSession\n",
    "spark = pyspark.sql.SparkSession.builder \\\n",
    "    .appName(\"JSON to DataFrame\") \\\n",
    "    .getOrCreate()"
   ]
  },
  {
   "cell_type": "code",
   "execution_count": 4,
   "metadata": {},
   "outputs": [],
   "source": [
    "from pyspark.sql.types import StructType, StructField, DoubleType, BooleanType, StringType, IntegerType, LongType, ArrayType, DateType\n",
    "\n",
    "artist_schema = StructType([\n",
    "    StructField(\n",
    "        \"_id\",\n",
    "        StructType([\n",
    "            StructField(\"$oid\", StringType(), True)\n",
    "        ])\n",
    "    ),\n",
    "    StructField(\n",
    "        \"external_urls\",\n",
    "        StructType([\n",
    "            StructField(\"spotify\", StringType(), True)\n",
    "        ])\n",
    "    ),\n",
    "    StructField(\n",
    "        \"followers\", \n",
    "        StructType([\n",
    "            StructField(\"href\", StringType(), True),\n",
    "            StructField(\"total\", IntegerType(), True)\n",
    "        ])\n",
    "    ),\n",
    "    StructField(\n",
    "        \"genres\",\n",
    "        ArrayType(StringType(), True)      \n",
    "    ),\n",
    "    StructField(\"href\", StringType(), True),\n",
    "    StructField(\"id\", StringType(), True),\n",
    "    StructField(\n",
    "        \"images\",\n",
    "        ArrayType(\n",
    "            StructType([\n",
    "                StructField(\"height\", IntegerType(), True),\n",
    "                StructField(\"url\", StringType(), True),\n",
    "                StructField(\"width\", IntegerType(), True)\n",
    "            ])\n",
    "        )\n",
    "    ),\n",
    "    StructField(\"name\", StringType(), True),\n",
    "    StructField(\"popularity\", IntegerType(), True),\n",
    "    StructField(\"type\", StringType(), True),\n",
    "    StructField(\"uri\", StringType(), True)\n",
    "])\n",
    "\n",
    "album_schema = StructType([\n",
    "    StructField(\n",
    "        \"_id\",\n",
    "        StructType([\n",
    "            StructField(\"$oid\", StringType(), True)\n",
    "        ])\n",
    "    ),\n",
    "    StructField(\"album_group\", StringType(), True),\n",
    "    StructField(\"album_type\", StringType(), True),\n",
    "    StructField(\n",
    "        \"artists\",\n",
    "        ArrayType(\n",
    "            StructType([\n",
    "                StructField(\n",
    "                    \"external_urls\",\n",
    "                    StructType([\n",
    "                        StructField(\"spotify\", StringType(), True)\n",
    "                    ])\n",
    "                ),\n",
    "                StructField(\"href\", StringType(), True),\n",
    "                StructField(\"id\", StringType(), True),\n",
    "                StructField(\"name\", StringType(), True),\n",
    "                StructField(\"type\", StringType(), True),\n",
    "                StructField(\"uri\", StringType(), True)\n",
    "            ])\n",
    "        )\n",
    "    ),\n",
    "    StructField(\n",
    "        \"available_markets\",\n",
    "        ArrayType(StringType(), True)\n",
    "    ),\n",
    "    StructField(\n",
    "        \"external_urls\",\n",
    "        StructType([\n",
    "            StructField(\"spotify\", StringType(), True)\n",
    "        ])\n",
    "    ),\n",
    "    StructField(\"href\", StringType(), True),\n",
    "    StructField(\"id\", StringType(), True),\n",
    "    StructField(\n",
    "        \"images\",\n",
    "        ArrayType(\n",
    "            StructType([\n",
    "                StructField(\"height\", IntegerType(), True),\n",
    "                StructField(\"url\", StringType(), True),\n",
    "                StructField(\"width\", IntegerType(), True)\n",
    "            ])\n",
    "        )\n",
    "    ),\n",
    "    StructField(\"name\", StringType(), True),\n",
    "    StructField(\"release_date\", DateType(), True),\n",
    "    StructField(\"release_date_precision\", StringType(), True),\n",
    "    StructField(\"total_tracks\", IntegerType(), True),\n",
    "    StructField(\"type\", StringType(), True),\n",
    "    StructField(\"uri\", StringType(), True)\n",
    "])\n",
    "\n",
    "track_schema = StructType([\n",
    "    StructField(\n",
    "        \"_id\",\n",
    "        StructType([\n",
    "            StructField(\"$oid\", StringType(), True)\n",
    "        ])\n",
    "    ),\n",
    "    StructField(\n",
    "        \"artists\",\n",
    "        ArrayType(\n",
    "            StructType([\n",
    "                StructField(\n",
    "                    \"external_urls\",\n",
    "                    StructType([\n",
    "                        StructField(\"spotify\", StringType(), True)\n",
    "                    ])\n",
    "                ),\n",
    "                StructField(\"href\", StringType(), True),\n",
    "                StructField(\"id\", StringType(), True),\n",
    "                StructField(\"name\", StringType(), True),\n",
    "                StructField(\"type\", StringType(), True),\n",
    "                StructField(\"uri\", StringType(), True)\n",
    "            ])\n",
    "        )\n",
    "    ),\n",
    "    StructField(\n",
    "        \"available_markets\", \n",
    "        ArrayType(StringType(), True)\n",
    "    ),\n",
    "    StructField(\"disc_number\", IntegerType(), True),\n",
    "    StructField(\"duration_ms\", LongType(), True),\n",
    "    StructField(\"explicit\", BooleanType(), True),\n",
    "    StructField(\n",
    "        \"external_urls\",\n",
    "        StructType([\n",
    "            StructField(\"spotify\", StringType(), True)\n",
    "        ])\n",
    "    ),\n",
    "    StructField(\"href\", StringType(), True),\n",
    "    StructField(\"id\", StringType(), True),\n",
    "    StructField(\"is_local\", BooleanType(), True),\n",
    "    StructField(\"name\", StringType(), True),\n",
    "    StructField(\"preview_url\", StringType(), True),\n",
    "    StructField(\"track_number\", IntegerType(), True),\n",
    "    StructField(\"type\", StringType(), True),\n",
    "    StructField(\"uri\", StringType(), True)\n",
    "])\n",
    "\n",
    "track_features_schema = StructType([\n",
    "    StructField(\n",
    "        \"_id\",\n",
    "        StructType([\n",
    "            StructField(\"$oid\", StringType(), True)\n",
    "        ])\n",
    "    ),\n",
    "    StructField(\"danceability\", DoubleType(), True),\n",
    "    StructField(\"energy\", DoubleType(), True),\n",
    "    StructField(\"key\", IntegerType(), True),\n",
    "    StructField(\"loudness\", DoubleType(), True),\n",
    "    StructField(\"mode\", IntegerType(), True),\n",
    "    StructField(\"speechiness\", DoubleType(), True),\n",
    "    StructField(\"acousticness\", DoubleType(), True),\n",
    "    StructField(\"instrumentalness\", DoubleType(), True),\n",
    "    StructField(\"liveness\", DoubleType(), True),\n",
    "    StructField(\"valence\", DoubleType(), True),\n",
    "    StructField(\"tempo\", DoubleType(), True),\n",
    "    StructField(\"type\", StringType(), True),\n",
    "    StructField(\"id\", StringType(), True),\n",
    "    StructField(\"uri\", StringType(), True),\n",
    "    StructField(\"track_href\", StringType(), True),\n",
    "    StructField(\"analysis_url\", StringType(), True),\n",
    "    StructField(\"duration_ms\", LongType(), True),\n",
    "    StructField(\"time_signature\", IntegerType(), True)\n",
    "])"
   ]
  },
  {
   "cell_type": "code",
   "execution_count": 7,
   "metadata": {},
   "outputs": [],
   "source": [
    "def read_dataframe(data):\n",
    "    data_json = json.dumps(data)\n",
    "    return spark.read.json(spark.sparkContext.parallelize([data_json]))"
   ]
  },
  {
   "cell_type": "code",
   "execution_count": 8,
   "metadata": {},
   "outputs": [
    {
     "name": "stderr",
     "output_type": "stream",
     "text": [
      "23/12/04 01:07:27 WARN TaskSetManager: Stage 1 contains a task of very large size (1061 KiB). The maximum recommended task size is 1000 KiB.\n",
      "23/12/04 01:07:28 WARN TaskSetManager: Stage 2 contains a task of very large size (8579 KiB). The maximum recommended task size is 1000 KiB.\n",
      "23/12/04 01:07:31 WARN TaskSetManager: Stage 3 contains a task of very large size (7502 KiB). The maximum recommended task size is 1000 KiB.\n",
      "                                                                                \r"
     ]
    }
   ],
   "source": [
    "artists_df = read_dataframe(artists_data)\n",
    "albums_df = read_dataframe(albums_data)\n",
    "tracks_df = read_dataframe(tracks_data)\n",
    "tracks_features_df = read_dataframe(tracks_features_data)"
   ]
  },
  {
   "cell_type": "markdown",
   "metadata": {},
   "source": [
    "## Basic opertation"
   ]
  },
  {
   "cell_type": "code",
   "execution_count": 53,
   "metadata": {},
   "outputs": [
    {
     "data": {
      "text/plain": [
       "[Row(_id=Row($oid='656368ddc946691a6054f1ef'), external_urls=Row(spotify='https://open.spotify.com/artist/5fbhwqYYh4YwUoEs582mq5'), followers=Row(href=None, total=893742), genres=['classic soul', 'disco', 'funk', 'motown', 'philly soul', 'quiet storm', 'soul', 'southern soul'], href='https://api.spotify.com/v1/artists/5fbhwqYYh4YwUoEs582mq5', id='5fbhwqYYh4YwUoEs582mq5', images=[Row(height=400, url='https://i.scdn.co/image/9c5f33797bb3d476c471ee218409b54caccd7c7e', width=400), Row(height=200, url='https://i.scdn.co/image/ae45cbee57c4c2ce2475ad84e75bcc14b3fff3a2', width=200), Row(height=64, url='https://i.scdn.co/image/9b72fb389db39a942f59bb01bb92ef5a429b8b34', width=64)], name='The Spinners', popularity=58, type='artist', uri='spotify:artist:5fbhwqYYh4YwUoEs582mq5'),\n",
       " Row(_id=Row($oid='656368ddc946691a6054f1ec'), external_urls=Row(spotify='https://open.spotify.com/artist/267VY6GX5LyU5c9M85ECZQ'), followers=Row(href=None, total=505224), genres=['alternative rock', 'lo-fi', 'noise pop', 'noise rock', 'permanent wave', 'power pop'], href='https://api.spotify.com/v1/artists/267VY6GX5LyU5c9M85ECZQ', id='267VY6GX5LyU5c9M85ECZQ', images=[Row(height=640, url='https://i.scdn.co/image/ab6761610000e5eb37625f8264394b10ec0eeed6', width=640), Row(height=320, url='https://i.scdn.co/image/ab6761610000517437625f8264394b10ec0eeed6', width=320), Row(height=160, url='https://i.scdn.co/image/ab6761610000f17837625f8264394b10ec0eeed6', width=160)], name='Dinosaur Jr.', popularity=48, type='artist', uri='spotify:artist:267VY6GX5LyU5c9M85ECZQ'),\n",
       " Row(_id=Row($oid='656368ddc946691a6054f201'), external_urls=Row(spotify='https://open.spotify.com/artist/121Q6oslYCMBYZHhOFL1RB'), followers=Row(href=None, total=91382), genres=['early us punk', 'post-punk', 'protopunk', 'punk'], href='https://api.spotify.com/v1/artists/121Q6oslYCMBYZHhOFL1RB', id='121Q6oslYCMBYZHhOFL1RB', images=[Row(height=674, url='https://i.scdn.co/image/f6bd627a2f8125daa5d174255a52a3d3e05695ea', width=1000), Row(height=431, url='https://i.scdn.co/image/af84e5869de2f0d0a06da34580b4e32ac0f5cb13', width=639), Row(height=135, url='https://i.scdn.co/image/4c6d2a085ce95a42f40efb4396b1554d1e0645d9', width=200), Row(height=43, url='https://i.scdn.co/image/3ee82363e18a1c3e519a2e90b2cdd34bf5a96905', width=64)], name='Richard Hell', popularity=33, type='artist', uri='spotify:artist:121Q6oslYCMBYZHhOFL1RB'),\n",
       " Row(_id=Row($oid='656368ddc946691a6054f1ee'), external_urls=Row(spotify='https://open.spotify.com/artist/6rxxu32JCGDpKKMPHxnSJp'), followers=Row(href=None, total=85455), genres=['avant-garde jazz', 'bebop', 'contemporary post-bop', 'free jazz', 'jazz'], href='https://api.spotify.com/v1/artists/6rxxu32JCGDpKKMPHxnSJp', id='6rxxu32JCGDpKKMPHxnSJp', images=[Row(height=1000, url='https://i.scdn.co/image/e77b0fac2fe8b05926adacb88896a00a50a3cbcf', width=1000), Row(height=640, url='https://i.scdn.co/image/9294f71c539ee24bd854b20c7cadbfc8dd7a7c9b', width=640), Row(height=200, url='https://i.scdn.co/image/a522c9459d11a19dd04ad84206108f7640df97c4', width=200), Row(height=64, url='https://i.scdn.co/image/61f30d2e898eb03571f790d5e1ff8e08a9166176', width=64)], name='Eric Dolphy', popularity=31, type='artist', uri='spotify:artist:6rxxu32JCGDpKKMPHxnSJp'),\n",
       " Row(_id=Row($oid='656368ddc946691a6054f1fe'), external_urls=Row(spotify='https://open.spotify.com/artist/7De2eIqeHTw091YeAkkYXV'), followers=Row(href=None, total=46161), genres=['contemporary post-bop', 'free jazz', 'jazz saxophone'], href='https://api.spotify.com/v1/artists/7De2eIqeHTw091YeAkkYXV', id='7De2eIqeHTw091YeAkkYXV', images=[Row(height=677, url='https://i.scdn.co/image/1695e78b0db9e6c1b6092c10559edeafb6deb6cb', width=509), Row(height=266, url='https://i.scdn.co/image/73ed4a7cab1f5c861098737f68b30405b16dd0e7', width=200), Row(height=85, url='https://i.scdn.co/image/2c2883f144dc1e3ed7551759d17802fd4e63695c', width=64)], name='Rahsaan Roland Kirk', popularity=34, type='artist', uri='spotify:artist:7De2eIqeHTw091YeAkkYXV')]"
      ]
     },
     "execution_count": 53,
     "metadata": {},
     "output_type": "execute_result"
    }
   ],
   "source": [
    "# Print first 5 rows\n",
    "artists_df.head(5)"
   ]
  },
  {
   "cell_type": "code",
   "execution_count": 54,
   "metadata": {},
   "outputs": [
    {
     "data": {
      "text/plain": [
       "['_id',\n",
       " 'external_urls',\n",
       " 'followers',\n",
       " 'genres',\n",
       " 'href',\n",
       " 'id',\n",
       " 'images',\n",
       " 'name',\n",
       " 'popularity',\n",
       " 'type',\n",
       " 'uri']"
      ]
     },
     "execution_count": 54,
     "metadata": {},
     "output_type": "execute_result"
    }
   ],
   "source": [
    "# List of columns\n",
    "artists_df.columns"
   ]
  },
  {
   "cell_type": "code",
   "execution_count": 55,
   "metadata": {},
   "outputs": [
    {
     "name": "stdout",
     "output_type": "stream",
     "text": [
      "Row(external_urls=Row(spotify='https://open.spotify.com/artist/5fbhwqYYh4YwUoEs582mq5'))\n",
      "Row(external_urls=Row(spotify='https://open.spotify.com/artist/267VY6GX5LyU5c9M85ECZQ'))\n",
      "Row(external_urls=Row(spotify='https://open.spotify.com/artist/121Q6oslYCMBYZHhOFL1RB'))\n",
      "Row(external_urls=Row(spotify='https://open.spotify.com/artist/6rxxu32JCGDpKKMPHxnSJp'))\n",
      "Row(external_urls=Row(spotify='https://open.spotify.com/artist/7De2eIqeHTw091YeAkkYXV'))\n",
      "Row(external_urls=Row(spotify='https://open.spotify.com/artist/3G3Gdm0ZRAOxLrbyjfhii5'))\n",
      "Row(external_urls=Row(spotify='https://open.spotify.com/artist/0EodhzA6yW1bIdD5B4tcmJ'))\n",
      "Row(external_urls=Row(spotify='https://open.spotify.com/artist/0WwSkZ7LtFUFjGjMZBMt6T'))\n",
      "Row(external_urls=Row(spotify='https://open.spotify.com/artist/0z6zRFzl5njXWLVAisXQBz'))\n",
      "Row(external_urls=Row(spotify='https://open.spotify.com/artist/6vwFR7NilfrQ4AX0d41fWu'))\n",
      "Row(external_urls=Row(spotify='https://open.spotify.com/artist/2h9yQhKyqOMex3QFMVeq7F'))\n",
      "Row(external_urls=Row(spotify='https://open.spotify.com/artist/6jHG1YQkqgojdEzerwvrVv'))\n",
      "Row(external_urls=Row(spotify='https://open.spotify.com/artist/4kwxTgCKMipBKhSnEstNKj'))\n",
      "Row(external_urls=Row(spotify='https://open.spotify.com/artist/6dYrdRlNZSKaVxYg5IrvCH'))\n",
      "Row(external_urls=Row(spotify='https://open.spotify.com/artist/2i8ynmFv4qgRksyDlBgi6d'))\n",
      "Row(external_urls=Row(spotify='https://open.spotify.com/artist/2BGRfQgtzikz1pzAD0kaEn'))\n",
      "Row(external_urls=Row(spotify='https://open.spotify.com/artist/1YfEcTuGvBQ8xSD1f53UnK'))\n",
      "Row(external_urls=Row(spotify='https://open.spotify.com/artist/1XcbmsczGDkYqrqIy8K89H'))\n",
      "Row(external_urls=Row(spotify='https://open.spotify.com/artist/162DCkd8aDKwvjBb74Gu8b'))\n",
      "Row(external_urls=Row(spotify='https://open.spotify.com/artist/2DaxqgrOhkeH0fpeiQq2f4'))\n",
      "Row(external_urls=Row(spotify='https://open.spotify.com/artist/7jy3rLJdDQY21OgRLCZ9sD'))\n",
      "Row(external_urls=Row(spotify='https://open.spotify.com/artist/1ZOlVrZ2MtNSY9LcFYklDB'))\n",
      "Row(external_urls=Row(spotify='https://open.spotify.com/artist/6Tw1ktF4xMmzaLLbe98I2z'))\n",
      "Row(external_urls=Row(spotify='https://open.spotify.com/artist/5m8H6zSadhu1j9Yi04VLqD'))\n",
      "Row(external_urls=Row(spotify='https://open.spotify.com/artist/2Sp19cOHSqAUlE64hekARW'))\n",
      "Row(external_urls=Row(spotify='https://open.spotify.com/artist/3iOE5ItEv5xr9fmKi7GNh2'))\n",
      "Row(external_urls=Row(spotify='https://open.spotify.com/artist/15UsOTVnJzReFVN1VCnxy4'))\n",
      "Row(external_urls=Row(spotify='https://open.spotify.com/artist/5dM7jA0PXh0Ozz8LT2YOCB'))\n",
      "Row(external_urls=Row(spotify='https://open.spotify.com/artist/6mcrZQmgzFGRWf7C0SObou'))\n",
      "Row(external_urls=Row(spotify='https://open.spotify.com/artist/6QtGlUje9TIkLrgPZrESuk'))\n",
      "Row(external_urls=Row(spotify='https://open.spotify.com/artist/1ZikppG9dPedbIgMfnfx8k'))\n",
      "Row(external_urls=Row(spotify='https://open.spotify.com/artist/6PAt558ZEZl0DmdXlnjMgD'))\n",
      "Row(external_urls=Row(spotify='https://open.spotify.com/artist/2x9SpqnPi8rlE9pjHBwmSC'))\n",
      "Row(external_urls=Row(spotify='https://open.spotify.com/artist/6kz7WuPaUa4QVreP27I33i'))\n",
      "Row(external_urls=Row(spotify='https://open.spotify.com/artist/7xYxgSJaIf7yOFLmknYX38'))\n",
      "Row(external_urls=Row(spotify='https://open.spotify.com/artist/0XErJwG6aCEj7NpKsEZrrO'))\n",
      "Row(external_urls=Row(spotify='https://open.spotify.com/artist/5PfRfcBmOb3soZjAscjLHs'))\n",
      "Row(external_urls=Row(spotify='https://open.spotify.com/artist/7Lf3LOZp3U3u2f6cWMd3AH'))\n",
      "Row(external_urls=Row(spotify='https://open.spotify.com/artist/3fMbdgg4jU18AjLCKBhRSm'))\n",
      "Row(external_urls=Row(spotify='https://open.spotify.com/artist/2y8Jo9CKhJvtfeKOsYzRdT'))\n",
      "Row(external_urls=Row(spotify='https://open.spotify.com/artist/336vr2M3Va0FjyvB55lJEd'))\n",
      "Row(external_urls=Row(spotify='https://open.spotify.com/artist/4P0dddbxPil35MNN9G2MEX'))\n",
      "Row(external_urls=Row(spotify='https://open.spotify.com/artist/0UKfenbZb15sqhfPC6zbt3'))\n",
      "Row(external_urls=Row(spotify='https://open.spotify.com/artist/2zMQOJ4Cyl4BYbw6WqaO3h'))\n",
      "Row(external_urls=Row(spotify='https://open.spotify.com/artist/2Mu5NfyYm8n5iTomuKAEHl'))\n",
      "Row(external_urls=Row(spotify='https://open.spotify.com/artist/4DToQR3aKrHQSSRzSz8Nzt'))\n",
      "Row(external_urls=Row(spotify='https://open.spotify.com/artist/7C4sUpWGlTy7IANjruj02I'))\n",
      "Row(external_urls=Row(spotify='https://open.spotify.com/artist/0701Axu6yvUIoctaKMbDIZ'))\n",
      "Row(external_urls=Row(spotify='https://open.spotify.com/artist/47zz7sob9NUcODy0BTDvKx'))\n",
      "Row(external_urls=Row(spotify='https://open.spotify.com/artist/3MdG05syQeRYPPcClLaUGl'))\n",
      "Row(external_urls=Row(spotify='https://open.spotify.com/artist/6lOk7hCr8x3O9vHwylXyHR'))\n",
      "Row(external_urls=Row(spotify='https://open.spotify.com/artist/2rc78XDH9zuJP6bm78lU8Z'))\n",
      "Row(external_urls=Row(spotify='https://open.spotify.com/artist/3BmGtnKgCSGYIUhmivXKWX'))\n",
      "Row(external_urls=Row(spotify='https://open.spotify.com/artist/1DXylZlWbVvlckNqwvjTEt'))\n",
      "Row(external_urls=Row(spotify='https://open.spotify.com/artist/3VBpsrUi2vV7Uj87ONHu7Z'))\n",
      "Row(external_urls=Row(spotify='https://open.spotify.com/artist/0zlJDQgqnr9AocrH9gs1Es'))\n",
      "Row(external_urls=Row(spotify='https://open.spotify.com/artist/0eGh2jSWPBX5GuqIHoZJZG'))\n",
      "Row(external_urls=Row(spotify='https://open.spotify.com/artist/1PXHzxRDiLnjqNrRn2Xbsa'))\n",
      "Row(external_urls=Row(spotify='https://open.spotify.com/artist/5RzjqfPS0Bu4bUMkyNNDpn'))\n",
      "Row(external_urls=Row(spotify='https://open.spotify.com/artist/6aq8T2RcspxVOGgMrTzjWc'))\n",
      "Row(external_urls=Row(spotify='https://open.spotify.com/artist/16VudBYGOd9sMpOtA0szfp'))\n",
      "Row(external_urls=Row(spotify='https://open.spotify.com/artist/0IwlY33zbBXN7zlS9DP2Cj'))\n",
      "Row(external_urls=Row(spotify='https://open.spotify.com/artist/7BFr36uI1dzJyo6tpa5Ued'))\n",
      "Row(external_urls=Row(spotify='https://open.spotify.com/artist/1yNOfXGQNGjAynk77wv85x'))\n",
      "Row(external_urls=Row(spotify='https://open.spotify.com/artist/5fuQrhMRYMtoO9uOlFad4P'))\n",
      "Row(external_urls=Row(spotify='https://open.spotify.com/artist/0f8MDDzIc6M4uH1xH0o0gy'))\n",
      "Row(external_urls=Row(spotify='https://open.spotify.com/artist/3kUKwTJdH8FuWzF8p6Dg9E'))\n",
      "Row(external_urls=Row(spotify='https://open.spotify.com/artist/4t7bXPFEPe0pu1ozhdDLOp'))\n",
      "Row(external_urls=Row(spotify='https://open.spotify.com/artist/1pJEZXU2hJApJW3rM7LmMu'))\n",
      "Row(external_urls=Row(spotify='https://open.spotify.com/artist/1G0Xwj8mza6b03iYkVdzDP'))\n",
      "Row(external_urls=Row(spotify='https://open.spotify.com/artist/4NgfOZCL9Ml67xzM0xzIvC'))\n",
      "Row(external_urls=Row(spotify='https://open.spotify.com/artist/0nJUwPwC9Ti4vvuJ0q3MfT'))\n",
      "Row(external_urls=Row(spotify='https://open.spotify.com/artist/52WV9rEqSP9z9fcxeywOtz'))\n",
      "Row(external_urls=Row(spotify='https://open.spotify.com/artist/6ysQi6NI88X627t2srsWz6'))\n",
      "Row(external_urls=Row(spotify='https://open.spotify.com/artist/7guDJrEfX3qb6FEbdPA5qi'))\n",
      "Row(external_urls=Row(spotify='https://open.spotify.com/artist/5aj3LEYRbuaabjjHkj5oE1'))\n",
      "Row(external_urls=Row(spotify='https://open.spotify.com/artist/3DiDSECUqqY1AuBP8qtaIa'))\n",
      "Row(external_urls=Row(spotify='https://open.spotify.com/artist/3mmySiPoBPzEhRnx7N3HSN'))\n",
      "Row(external_urls=Row(spotify='https://open.spotify.com/artist/4uN3DsfENc7dp0OLO0FEIb'))\n",
      "Row(external_urls=Row(spotify='https://open.spotify.com/artist/7DCnwoFMqGN6eZULdcLZeL'))\n",
      "Row(external_urls=Row(spotify='https://open.spotify.com/artist/0ZIwOAzDuGPspzK7yiTc4S'))\n",
      "Row(external_urls=Row(spotify='https://open.spotify.com/artist/6QDWC6QeGhvCWCv3nUJwoV'))\n",
      "Row(external_urls=Row(spotify='https://open.spotify.com/artist/1m24736Bdew1oQVxTePOCo'))\n",
      "Row(external_urls=Row(spotify='https://open.spotify.com/artist/77zlytAFjPFjUKda8TNIDY'))\n",
      "Row(external_urls=Row(spotify='https://open.spotify.com/artist/3MKwHkhEjcvzva2rasZeWD'))\n",
      "Row(external_urls=Row(spotify='https://open.spotify.com/artist/1ThoqLcyIYvZn7iWbj8fsj'))\n",
      "Row(external_urls=Row(spotify='https://open.spotify.com/artist/0oSGxfWSnnOXhD2fKuz2Gy'))\n",
      "Row(external_urls=Row(spotify='https://open.spotify.com/artist/6jPriOYMyUL9kNonBI1CNd'))\n",
      "Row(external_urls=Row(spotify='https://open.spotify.com/artist/2GVBp7QyHckoOg7rYkLvrA'))\n",
      "Row(external_urls=Row(spotify='https://open.spotify.com/artist/1JXB7XQ9hjLB5pnr1eowKR'))\n",
      "Row(external_urls=Row(spotify='https://open.spotify.com/artist/3l14gV4hIMAjmo7KUvEWTx'))\n",
      "Row(external_urls=Row(spotify='https://open.spotify.com/artist/7FW2qwsY0zLV9GppWatQ5P'))\n",
      "Row(external_urls=Row(spotify='https://open.spotify.com/artist/7hFdUW64G4iU1tz46ITRfN'))\n",
      "Row(external_urls=Row(spotify='https://open.spotify.com/artist/4jXfFzeP66Zy67HM2mvIIF'))\n",
      "Row(external_urls=Row(spotify='https://open.spotify.com/artist/7MSUfLeTdDEoZiJPDSBXgi'))\n",
      "Row(external_urls=Row(spotify='https://open.spotify.com/artist/2lZkXWxkZsZzBocxMjN1or'))\n",
      "Row(external_urls=Row(spotify='https://open.spotify.com/artist/2DoQBgPsB9AdmWpIa2hUSz'))\n",
      "Row(external_urls=Row(spotify='https://open.spotify.com/artist/3nFkdlSjzX9mRTtwJOzDYB'))\n",
      "Row(external_urls=Row(spotify='https://open.spotify.com/artist/3f5fB1YUbkUnW7cf7I0R48'))\n",
      "Row(external_urls=Row(spotify='https://open.spotify.com/artist/23i8EixXKG0EWGRCfHlUGN'))\n"
     ]
    }
   ],
   "source": [
    "# Loop through all values of column external_urls\n",
    "for row in artists_df.select(\"external_urls\").collect():\n",
    "    # Extract url\n",
    "    url = row.external_urls.spotify\n",
    "    print(row)"
   ]
  },
  {
   "cell_type": "code",
   "execution_count": 56,
   "metadata": {},
   "outputs": [],
   "source": [
    "columns_to_remove = [\"_id\", \"external_urls\", \"followers\", \"genres\", \"href\", \"images\", \"type\", \"uri\"]"
   ]
  },
  {
   "cell_type": "code",
   "execution_count": 57,
   "metadata": {},
   "outputs": [
    {
     "data": {
      "text/plain": [
       "[Row(_id=Row($oid='656368ddc946691a6054f1ef'), external_urls=Row(spotify='https://open.spotify.com/artist/5fbhwqYYh4YwUoEs582mq5'), followers=Row(href=None, total=893742), genres=['classic soul', 'disco', 'funk', 'motown', 'philly soul', 'quiet storm', 'soul', 'southern soul'], href='https://api.spotify.com/v1/artists/5fbhwqYYh4YwUoEs582mq5', id='5fbhwqYYh4YwUoEs582mq5', images=[Row(height=400, url='https://i.scdn.co/image/9c5f33797bb3d476c471ee218409b54caccd7c7e', width=400), Row(height=200, url='https://i.scdn.co/image/ae45cbee57c4c2ce2475ad84e75bcc14b3fff3a2', width=200), Row(height=64, url='https://i.scdn.co/image/9b72fb389db39a942f59bb01bb92ef5a429b8b34', width=64)], name='The Spinners', popularity=58, type='artist', uri='spotify:artist:5fbhwqYYh4YwUoEs582mq5'),\n",
       " Row(_id=Row($oid='656368ddc946691a6054f1ec'), external_urls=Row(spotify='https://open.spotify.com/artist/267VY6GX5LyU5c9M85ECZQ'), followers=Row(href=None, total=505224), genres=['alternative rock', 'lo-fi', 'noise pop', 'noise rock', 'permanent wave', 'power pop'], href='https://api.spotify.com/v1/artists/267VY6GX5LyU5c9M85ECZQ', id='267VY6GX5LyU5c9M85ECZQ', images=[Row(height=640, url='https://i.scdn.co/image/ab6761610000e5eb37625f8264394b10ec0eeed6', width=640), Row(height=320, url='https://i.scdn.co/image/ab6761610000517437625f8264394b10ec0eeed6', width=320), Row(height=160, url='https://i.scdn.co/image/ab6761610000f17837625f8264394b10ec0eeed6', width=160)], name='Dinosaur Jr.', popularity=48, type='artist', uri='spotify:artist:267VY6GX5LyU5c9M85ECZQ'),\n",
       " Row(_id=Row($oid='656368ddc946691a6054f201'), external_urls=Row(spotify='https://open.spotify.com/artist/121Q6oslYCMBYZHhOFL1RB'), followers=Row(href=None, total=91382), genres=['early us punk', 'post-punk', 'protopunk', 'punk'], href='https://api.spotify.com/v1/artists/121Q6oslYCMBYZHhOFL1RB', id='121Q6oslYCMBYZHhOFL1RB', images=[Row(height=674, url='https://i.scdn.co/image/f6bd627a2f8125daa5d174255a52a3d3e05695ea', width=1000), Row(height=431, url='https://i.scdn.co/image/af84e5869de2f0d0a06da34580b4e32ac0f5cb13', width=639), Row(height=135, url='https://i.scdn.co/image/4c6d2a085ce95a42f40efb4396b1554d1e0645d9', width=200), Row(height=43, url='https://i.scdn.co/image/3ee82363e18a1c3e519a2e90b2cdd34bf5a96905', width=64)], name='Richard Hell', popularity=33, type='artist', uri='spotify:artist:121Q6oslYCMBYZHhOFL1RB'),\n",
       " Row(_id=Row($oid='656368ddc946691a6054f1ee'), external_urls=Row(spotify='https://open.spotify.com/artist/6rxxu32JCGDpKKMPHxnSJp'), followers=Row(href=None, total=85455), genres=['avant-garde jazz', 'bebop', 'contemporary post-bop', 'free jazz', 'jazz'], href='https://api.spotify.com/v1/artists/6rxxu32JCGDpKKMPHxnSJp', id='6rxxu32JCGDpKKMPHxnSJp', images=[Row(height=1000, url='https://i.scdn.co/image/e77b0fac2fe8b05926adacb88896a00a50a3cbcf', width=1000), Row(height=640, url='https://i.scdn.co/image/9294f71c539ee24bd854b20c7cadbfc8dd7a7c9b', width=640), Row(height=200, url='https://i.scdn.co/image/a522c9459d11a19dd04ad84206108f7640df97c4', width=200), Row(height=64, url='https://i.scdn.co/image/61f30d2e898eb03571f790d5e1ff8e08a9166176', width=64)], name='Eric Dolphy', popularity=31, type='artist', uri='spotify:artist:6rxxu32JCGDpKKMPHxnSJp'),\n",
       " Row(_id=Row($oid='656368ddc946691a6054f1fe'), external_urls=Row(spotify='https://open.spotify.com/artist/7De2eIqeHTw091YeAkkYXV'), followers=Row(href=None, total=46161), genres=['contemporary post-bop', 'free jazz', 'jazz saxophone'], href='https://api.spotify.com/v1/artists/7De2eIqeHTw091YeAkkYXV', id='7De2eIqeHTw091YeAkkYXV', images=[Row(height=677, url='https://i.scdn.co/image/1695e78b0db9e6c1b6092c10559edeafb6deb6cb', width=509), Row(height=266, url='https://i.scdn.co/image/73ed4a7cab1f5c861098737f68b30405b16dd0e7', width=200), Row(height=85, url='https://i.scdn.co/image/2c2883f144dc1e3ed7551759d17802fd4e63695c', width=64)], name='Rahsaan Roland Kirk', popularity=34, type='artist', uri='spotify:artist:7De2eIqeHTw091YeAkkYXV')]"
      ]
     },
     "execution_count": 57,
     "metadata": {},
     "output_type": "execute_result"
    }
   ],
   "source": [
    "artists_df.head(5)"
   ]
  },
  {
   "cell_type": "code",
   "execution_count": 58,
   "metadata": {},
   "outputs": [
    {
     "name": "stdout",
     "output_type": "stream",
     "text": [
      "+--------------------+--------------------+---------------+--------------------+--------------------+--------------------+--------------------+--------------------+----------+------+--------------------+--------------------+\n",
      "|                 _id|       external_urls|      followers|              genres|                href|                  id|              images|                name|popularity|  type|                 uri|                 url|\n",
      "+--------------------+--------------------+---------------+--------------------+--------------------+--------------------+--------------------+--------------------+----------+------+--------------------+--------------------+\n",
      "|{656368ddc946691a...|{https://open.spo...| {NULL, 893742}|[classic soul, di...|https://api.spoti...|5fbhwqYYh4YwUoEs5...|[{400, https://i....|        The Spinners|        58|artist|spotify:artist:5f...|https://open.spot...|\n",
      "|{656368ddc946691a...|{https://open.spo...| {NULL, 505224}|[alternative rock...|https://api.spoti...|267VY6GX5LyU5c9M8...|[{640, https://i....|        Dinosaur Jr.|        48|artist|spotify:artist:26...|https://open.spot...|\n",
      "|{656368ddc946691a...|{https://open.spo...|  {NULL, 91382}|[early us punk, p...|https://api.spoti...|121Q6oslYCMBYZHhO...|[{674, https://i....|        Richard Hell|        33|artist|spotify:artist:12...|https://open.spot...|\n",
      "|{656368ddc946691a...|{https://open.spo...|  {NULL, 85455}|[avant-garde jazz...|https://api.spoti...|6rxxu32JCGDpKKMPH...|[{1000, https://i...|         Eric Dolphy|        31|artist|spotify:artist:6r...|https://open.spot...|\n",
      "|{656368ddc946691a...|{https://open.spo...|  {NULL, 46161}|[contemporary pos...|https://api.spoti...|7De2eIqeHTw091YeA...|[{677, https://i....| Rahsaan Roland Kirk|        34|artist|spotify:artist:7D...|https://open.spot...|\n",
      "|{656368ddc946691a...|{https://open.spo...| {NULL, 824507}|[alternative rock...|https://api.spoti...|3G3Gdm0ZRAOxLrbyj...|[{640, https://i....| my bloody valentine|        55|artist|spotify:artist:3G...|https://open.spot...|\n",
      "|{656368ddc946691a...|{https://open.spo...| {NULL, 533050}|[adult standards,...|https://api.spoti...|0EodhzA6yW1bIdD5B...|[{1263, https://i...|         Bobby Darin|        59|artist|spotify:artist:0E...|https://open.spot...|\n",
      "|{656368ddc946691a...|{https://open.spo...|{NULL, 7118217}|[album rock, clas...|https://api.spoti...|0WwSkZ7LtFUFjGjMZ...|[{640, https://i....|        Dire Straits|        73|artist|spotify:artist:0W...|https://open.spot...|\n",
      "|{656368ddc946691a...|{https://open.spo...| {NULL, 151778}|[alternative rock...|https://api.spoti...|0z6zRFzl5njXWLVAi...|[{1237, https://i...|           Minutemen|        44|artist|spotify:artist:0z...|https://open.spot...|\n",
      "|{656368ddc946691a...|{https://open.spo...| {NULL, 188171}|[freestyle, harle...|https://api.spoti...|6vwFR7NilfrQ4AX0d...|[{640, https://i....|Rob Base & DJ EZ ...|        43|artist|spotify:artist:6v...|https://open.spot...|\n",
      "|{656368ddc946691a...|{https://open.spo...| {NULL, 271222}|[alternative rock...|https://api.spoti...|2h9yQhKyqOMex3QFM...|[{640, https://i....|        Meat Puppets|        42|artist|spotify:artist:2h...|https://open.spot...|\n",
      "|{656368ddc946691a...|{https://open.spo...| {NULL, 658086}|[bboy, east coast...|https://api.spoti...|6jHG1YQkqgojdEzer...|[{674, https://i....|     Eric B. & Rakim|        49|artist|spotify:artist:6j...|https://open.spot...|\n",
      "|{656368ddc946691a...|{https://open.spo...| {NULL, 526069}|[alternative danc...|https://api.spoti...|4kwxTgCKMipBKhSnE...|[{640, https://i....|   Animal Collective|        48|artist|spotify:artist:4k...|https://open.spot...|\n",
      "|{656368ddc946691a...|{https://open.spo...| {NULL, 102285}|[acid house, ambi...|https://api.spoti...|6dYrdRlNZSKaVxYg5...|[{640, https://i....|             The KLF|        40|artist|spotify:artist:6d...|https://open.spot...|\n",
      "|{656368ddc946691a...|{https://open.spo...| {NULL, 190812}|[alternative rock...|https://api.spoti...|2i8ynmFv4qgRksyDl...|[{640, https://i....|                Wire|        47|artist|spotify:artist:2i...|https://open.spot...|\n",
      "|{656368ddc946691a...|{https://open.spo...| {NULL, 545112}|[new wave, new wa...|https://api.spoti...|2BGRfQgtzikz1pzAD...|[{640, https://i....|      Elvis Costello|        53|artist|spotify:artist:2B...|https://open.spot...|\n",
      "|{656368ddc946691a...|{https://open.spo...|{NULL, 2593996}|[east coast hip h...|https://api.spoti...|1YfEcTuGvBQ8xSD1f...|[{640, https://i....|        Busta Rhymes|        69|artist|spotify:artist:1Y...|https://open.spot...|\n",
      "|{656368ddc946691a...|{https://open.spo...|  {NULL, 10305}|                  []|https://api.spoti...|1XcbmsczGDkYqrqIy...|[{640, https://i....|      Stardust Vibes|        60|artist|spotify:artist:1X...|https://open.spot...|\n",
      "|{656368ddc946691a...|{https://open.spo...| {NULL, 258812}|[bebop, contempor...|https://api.spoti...|162DCkd8aDKwvjBb7...|[{672, https://i....|      Weather Report|        40|artist|spotify:artist:16...|https://open.spot...|\n",
      "|{656368ddc946691a...|{https://open.spo...|{NULL, 9398176}|[beatlesque, brit...|https://api.spoti...|2DaxqgrOhkeH0fpei...|[{640, https://i....|               Oasis|        74|artist|spotify:artist:2D...|https://open.spot...|\n",
      "+--------------------+--------------------+---------------+--------------------+--------------------+--------------------+--------------------+--------------------+----------+------+--------------------+--------------------+\n",
      "only showing top 20 rows\n",
      "\n"
     ]
    }
   ],
   "source": [
    "from pyspark.sql.functions import column\n",
    "artists_df.withColumn(\"url\", column(\"external_urls.spotify\")).show()"
   ]
  },
  {
   "cell_type": "code",
   "execution_count": 59,
   "metadata": {},
   "outputs": [],
   "source": [
    "markets = [\"AD\", \"AE\", \"AG\", \"AL\", \"AM\", \"AO\", \"AR\", \"AT\", \"AU\", \"AZ\", \"BA\", \"BB\", \"BD\", \"BE\", \"BF\", \"BG\", \"BH\", \"BI\", \"BJ\", \"BN\", \"BO\", \"BR\", \"BS\", \"BT\", \"BW\", \"BY\", \"BZ\", \"CA\", \"CD\", \"CG\", \"CH\", \"CI\", \"CL\", \"CM\", \"CO\", \"CR\", \"CV\", \"CW\", \"CY\", \"CZ\", \"DE\", \"DJ\", \"DK\", \"DM\", \"DO\", \"DZ\", \"EC\", \"EE\", \"EG\", \"ES\", \"ET\", \"FI\", \"FJ\", \"FM\", \"FR\", \"GA\", \"GB\", \"GD\", \"GE\", \"GH\", \"GM\", \"GN\", \"GQ\", \"GR\", \"GT\", \"GW\", \"GY\", \"HK\", \"HN\", \"HR\", \"HT\", \"HU\", \"ID\", \"IE\", \"IL\", \"IN\", \"IQ\", \"IS\", \"IT\", \"JM\", \"JO\", \"JP\", \"KE\", \"KG\", \"KH\", \"KI\", \"KM\", \"KN\", \"KR\", \"KW\", \"KZ\", \"LA\", \"LB\", \"LC\", \"LI\", \"LK\", \"LR\", \"LS\", \"LT\", \"LU\", \"LV\", \"LY\", \"MA\", \"MC\", \"MD\", \"ME\", \"MG\", \"MH\", \"MK\", \"ML\", \"MN\", \"MO\", \"MR\", \"MT\", \"MU\", \"MV\", \"MW\", \"MX\", \"MY\", \"MZ\", \"NA\", \"NE\", \"NG\", \"NI\", \"NL\", \"NO\", \"NP\", \"NR\", \"NZ\", \"OM\", \"PA\", \"PE\", \"PG\", \"PH\", \"PK\", \"PL\", \"PS\", \"PT\", \"PW\", \"PY\", \"QA\", \"RO\", \"RS\", \"RW\", \"SA\", \"SB\", \"SC\", \"SE\", \"SG\", \"SI\", \"SK\", \"SL\", \"SM\", \"SN\", \"SR\", \"ST\", \"SV\", \"SZ\", \"TD\", \"TG\", \"TH\", \"TJ\", \"TL\", \"TN\", \"TO\", \"TR\", \"TT\", \"TV\", \"TW\", \"TZ\", \"UA\", \"UG\", \"US\", \"UY\", \"UZ\", \"VC\", \"VE\", \"VN\", \"VU\", \"WS\", \"XK\", \"ZA\", \"ZM\", \"ZW\"]\n",
    "genres = [\"acoustic\", \"afrobeat\", \"alt-rock\", \"alternative\", \"ambient\", \"anime\", \"black-metal\", \"bluegrass\", \"blues\", \"bossanova\", \"brazil\", \"breakbeat\", \"british\", \"cantopop\", \"chicago-house\", \"children\", \"chill\", \"classical\", \"club\", \"comedy\", \"country\", \"dance\", \"dancehall\", \"death-metal\", \"deep-house\", \"detroit-techno\", \"disco\", \"disney\", \"drum-and-bass\", \"dub\", \"dubstep\", \"edm\", \"electro\", \"electronic\", \"emo\", \"folk\", \"forro\", \"french\", \"funk\", \"garage\", \"german\", \"gospel\", \"goth\", \"grindcore\", \"groove\", \"grunge\", \"guitar\", \"happy\", \"hard-rock\", \"hardcore\", \"hardstyle\", \"heavy-metal\", \"hip-hop\", \"holidays\", \"honky-tonk\", \"house\", \"idm\", \"indian\", \"indie\", \"indie-pop\", \"industrial\", \"iranian\", \"j-dance\", \"j-idol\", \"j-pop\", \"j-rock\", \"jazz\", \"k-pop\", \"kids\", \"latin\", \"latino\", \"malay\", \"mandopop\", \"metal\", \"metal-misc\", \"metalcore\", \"minimal-techno\", \"movies\", \"mpb\", \"new-age\", \"new-release\", \"opera\", \"pagode\", \"party\", \"philippines-opm\", \"piano\", \"pop\", \"pop-film\", \"post-dubstep\", \"power-pop\", \"progressive-house\", \"psych-rock\", \"punk\", \"punk-rock\", \"r-n-b\", \"rainy-day\", \"reggae\", \"reggaeton\", \"road-trip\", \"rock\", \"rock-n-roll\", \"rockabilly\", \"romance\", \"sad\", \"salsa\", \"samba\", \"sertanejo\", \"show-tunes\", \"singer-songwriter\", \"ska\", \"sleep\", \"songwriter\", \"soul\", \"soundtracks\", \"spanish\", \"study\", \"summer\", \"swedish\", \"synth-pop\", \"tango\", \"techno\", \"trance\", \"trip-hop\", \"turkish\", \"work-out\", \"world-music\"]"
   ]
  },
  {
   "cell_type": "markdown",
   "metadata": {},
   "source": [
    "## Clean artist"
   ]
  },
  {
   "cell_type": "code",
   "execution_count": 7,
   "metadata": {},
   "outputs": [],
   "source": [
    "from pyspark.sql.functions import array_contains, col, explode\n",
    "from typing import List, Dict"
   ]
  },
  {
   "cell_type": "code",
   "execution_count": 10,
   "metadata": {},
   "outputs": [],
   "source": [
    "# def clean_list_value_df(df: pyspark.sql.DataFrame, column: str, unique_items: List) -> pyspark.sql.DataFrame:\n",
    "#     cleaned_df = df\n",
    "#     for item in unique_items:\n",
    "#         cleaned_df = cleaned_df.withColumn(item, array_contains(col(column), item))\n",
    "#     return cleaned_df"
   ]
  },
  {
   "cell_type": "code",
   "execution_count": 11,
   "metadata": {},
   "outputs": [],
   "source": [
    "# # Extract artists's url from external_urls column\n",
    "# cleaned_urls_artists_df = artists_df.withColumn(\"external_urls\", col(\"external_urls.spotify\"))"
   ]
  },
  {
   "cell_type": "code",
   "execution_count": 12,
   "metadata": {},
   "outputs": [],
   "source": [
    "# # Extract artists's total followers from followers column\n",
    "# cleaned_followers_artists_df = cleaned_urls_artists_df.withColumn(\"followers\", col(\"followers.total\"))"
   ]
  },
  {
   "cell_type": "code",
   "execution_count": 13,
   "metadata": {},
   "outputs": [],
   "source": [
    "# # Extract artists's first images from images column\n",
    "# cleaned_images_artists_df = cleaned_followers_artists_df.withColumn(\"image\", col(\"images\")[0].url)"
   ]
  },
  {
   "cell_type": "code",
   "execution_count": 14,
   "metadata": {},
   "outputs": [],
   "source": [
    "# # Rename id columns\n",
    "# cleaned_id_artists_df = cleaned_images_artists_df.withColumnRenamed(\"id\", \"artist_id\")"
   ]
  },
  {
   "cell_type": "code",
   "execution_count": 15,
   "metadata": {},
   "outputs": [
    {
     "name": "stderr",
     "output_type": "stream",
     "text": [
      "                                                                                \r"
     ]
    }
   ],
   "source": [
    "# # Extract artists's genres from genres column\n",
    "# unique_genres = artists_df.select(col(\"genres\")).rdd.flatMap(lambda x: x[0]).distinct().collect()\n",
    "# cleaned_genres_artists_df = clean_list_value_df(cleaned_id_artists_df, \"genres\", unique_genres)"
   ]
  },
  {
   "cell_type": "code",
   "execution_count": 16,
   "metadata": {},
   "outputs": [],
   "source": [
    "# # Remove unnecessary columns\n",
    "# columns_to_remove = [\"_id\", \"genres\", \"href\", \"images\", \"type\", \"uri\"]\n",
    "# cleaned_artist_df = cleaned_genres_artists_df.drop(*columns_to_remove)"
   ]
  },
  {
   "cell_type": "code",
   "execution_count": 8,
   "metadata": {},
   "outputs": [],
   "source": [
    "def cleanList(self, columns: dict, drop: bool=False):\n",
    "    # Check type of argument\n",
    "    if not isinstance(columns, dict):\n",
    "        raise TypeError(\"Columns must be a dictionary\")\n",
    "    if not isinstance(drop, bool):\n",
    "        raise TypeError(\"Drop must be a boolean\")\n",
    "    \n",
    "    df_exploded = self\n",
    "    \n",
    "    for old_column in columns.keys():\n",
    "        new_column = columns[old_column]\n",
    "        df_exploded = df_exploded.select(\"*\", explode(col(old_column)).alias(new_column))\n",
    "    \n",
    "    if drop:\n",
    "        return df_exploded.drop(*columns.keys())\n",
    "    return df_exploded\n",
    "\n",
    "pyspark.sql.DataFrame.cleanList = cleanList"
   ]
  },
  {
   "attachments": {
    "image.png": {
     "image/png": "[encoded data removed]"
    }
   },
   "cell_type": "markdown",
   "metadata": {},
   "source": [
    "![image.png](attachment:image.png)"
   ]
  },
  {
   "cell_type": "code",
   "execution_count": 9,
   "metadata": {},
   "outputs": [],
   "source": [
    "class CleanDataframe:\n",
    "    def __init__(self, df: pyspark.sql.DataFrame):\n",
    "        self.__df = df \n",
    "        \n",
    "    def get_dataframe(self) -> pyspark.sql.DataFrame: \n",
    "        return self.__df\n",
    "    \n",
    "    \n",
    "class SilverCleanArtistDataframe(CleanDataframe):\n",
    "    def __init__(self, df: pyspark.sql.DataFrame):\n",
    "        super().__init__(df)\n",
    "    \n",
    "    def clean(self) -> pyspark.sql.DataFrame:\n",
    "        # Get the dataframe\n",
    "        cleaned_df = self.get_dataframe()\n",
    "        \n",
    "        # Extract artists's url from external_urls column \n",
    "        \n",
    "        cleaned_df = cleaned_df.withColumn(\"external_urls\", col(\"external_urls.spotify\"))\n",
    "        \n",
    "        # Extract artists's total followers from followers column\n",
    "        cleaned_df = cleaned_df.withColumn(\"followers\", col(\"followers.total\"))\n",
    "        \n",
    "        # Extract artists's first images from images column\n",
    "        cleaned_df = cleaned_df.withColumn(\"image_url\", col(\"images\")[0].url)\n",
    "        \n",
    "        # Rename id columns\n",
    "        cleaned_df = cleaned_df.withColumnRenamed(\"id\", \"artist_id\")\n",
    "        \n",
    "        # Extract artists's genres from genres column\n",
    "        cleaned_df = cleaned_df.cleanList({\"genres\": \"genre\"})\n",
    "        \n",
    "        # Split artist and genres into different dataframe\n",
    "        artists_df = cleaned_df.select(\"artist_id\", \"external_urls\", \"followers\", \"href\", \"image_url\", \"name\", \"popularity\", \"type\", \"uri\")\n",
    "        genres_df = cleaned_df.select(\"artist_id\", \"genre\")\n",
    "        return artists_df, genres_df\n",
    "    \n",
    "class CleanAlbumDataframe(CleanDataframe):\n",
    "    def __init__(self, df: pyspark.sql.DataFrame):\n",
    "        super().__init__(df)\n",
    "        \n",
    "    def clean(self) -> pyspark.sql.DataFrame:\n",
    "        # Get the dataframe\n",
    "        cleaned_df = self.get_dataframe()\n",
    "        \n",
    "        # Extract artists's id from artists column\n",
    "        cleaned_df = cleaned_df.withColumn(\"artist_id\", col(\"artists\")[0].id)\n",
    "        \n",
    "        # Extract albums's url from external_urls column\n",
    "        cleaned_df = cleaned_df.withColumn(\"external_urls\", col(\"external_urls.spotify\")) \n",
    "        \n",
    "        # Extract albums's first images from images column\n",
    "        cleaned_df = cleaned_df.withColumn(\"image_url\", col(\"images\")[0].url)\n",
    "        \n",
    "        # Rename id columns\n",
    "        cleaned_df = cleaned_df.withColumnRenamed(\"id\", \"album_id\")\n",
    "        \n",
    "        # Extract albums's available markets from available_markets column\n",
    "        cleaned_df = cleaned_df.cleanList({\"available_markets\": \"available_market\"})\n",
    "        \n",
    "        # # Remove unnecessary columns\n",
    "        # columns_to_remove = [\"_id\", \"artists\", \"available_markets\", \"href\", \"images\", \"type\", \"uri\"]\n",
    "        # cleaned_df = cleaned_df.drop(*columns_to_remove)\n",
    "        return cleaned_df\n",
    "    \n",
    "class CleanTrackDataframe(CleanDataframe):\n",
    "    def __init__(self, df: pyspark.sql.DataFrame):\n",
    "        super().__init__(df)\n",
    "    \n",
    "    def clean(self) -> pyspark.sql.DataFrame:\n",
    "        # Get the dataframe\n",
    "        cleaned_df = self.get_dataframe()\n",
    "        \n",
    "        # Extract artists's id from artists column\n",
    "        cleaned_df = cleaned_df.withColumn(\"artist_id\", col(\"artists\")[0].id)\n",
    "        \n",
    "        # Extract tracks's url from external_urls column\n",
    "        cleaned_df = cleaned_df.withColumn(\"external_urls\", col(\"external_urls.spotify\")) \n",
    "        \n",
    "        # Rename id columns\n",
    "        cleaned_df = cleaned_df.withColumnRenamed(\"id\", \"track_id\")\n",
    "        \n",
    "        # Extract tracks's available markets from available_markets column\n",
    "        cleaned_df = cleaned_df.cleanList({\"available_markets\": \"available_market\"})\n",
    "        \n",
    "        # # Remove unnecessary columns\n",
    "        # columns_to_remove = [\"_id\", \"artists\", \"available_markets\", \"duration_ms\", \"href\", \"is_local\", \"type\", \"uri\"]\n",
    "        # cleaned_df = cleaned_df.drop(*columns_to_remove)\n",
    "        return cleaned_df\n",
    "    \n",
    "class CleanTrackFeaturesDataframe(CleanDataframe):\n",
    "    def __init__(self, df: pyspark.sql.DataFrame):\n",
    "        super().__init__(df)\n",
    "    \n",
    "    def clean(self) -> pyspark.sql.DataFrame:\n",
    "        # Get the dataframe\n",
    "        cleaned_df = self.get_dataframe()\n",
    "        \n",
    "        # Rename id columns\n",
    "        cleaned_df = cleaned_df.withColumnRenamed(\"id\", \"track_id\")\n",
    "        \n",
    "        # # Remove unnecessary columns\n",
    "        # columns_to_remove = [\"_id\", \"type\", \"uri\", \"track_href\", \"analysis_url\"]\n",
    "        # cleaned_df = cleaned_df.drop(*columns_to_remove)\n",
    "        return cleaned_df"
   ]
  },
  {
   "cell_type": "code",
   "execution_count": 11,
   "metadata": {},
   "outputs": [
    {
     "name": "stdout",
     "output_type": "stream",
     "text": [
      "+--------------------+--------------------+---------+--------------------+--------------------+------------+----------+------+--------------------+\n",
      "|           artist_id|       external_urls|followers|                href|           image_url|        name|popularity|  type|                 uri|\n",
      "+--------------------+--------------------+---------+--------------------+--------------------+------------+----------+------+--------------------+\n",
      "|5fbhwqYYh4YwUoEs5...|https://open.spot...|   893742|https://api.spoti...|https://i.scdn.co...|The Spinners|        58|artist|spotify:artist:5f...|\n",
      "|5fbhwqYYh4YwUoEs5...|https://open.spot...|   893742|https://api.spoti...|https://i.scdn.co...|The Spinners|        58|artist|spotify:artist:5f...|\n",
      "|5fbhwqYYh4YwUoEs5...|https://open.spot...|   893742|https://api.spoti...|https://i.scdn.co...|The Spinners|        58|artist|spotify:artist:5f...|\n",
      "|5fbhwqYYh4YwUoEs5...|https://open.spot...|   893742|https://api.spoti...|https://i.scdn.co...|The Spinners|        58|artist|spotify:artist:5f...|\n",
      "|5fbhwqYYh4YwUoEs5...|https://open.spot...|   893742|https://api.spoti...|https://i.scdn.co...|The Spinners|        58|artist|spotify:artist:5f...|\n",
      "+--------------------+--------------------+---------+--------------------+--------------------+------------+----------+------+--------------------+\n",
      "only showing top 5 rows\n",
      "\n"
     ]
    }
   ],
   "source": [
    "card = SilverCleanArtistDataframe(artists_df)\n",
    "cleaned_artist_df, cleaned_artist_genres_df = card.clean()\n",
    "cleaned_artist_df.show(5)"
   ]
  },
  {
   "cell_type": "code",
   "execution_count": 12,
   "metadata": {},
   "outputs": [
    {
     "name": "stdout",
     "output_type": "stream",
     "text": [
      "+--------------------+------------+\n",
      "|           artist_id|       genre|\n",
      "+--------------------+------------+\n",
      "|5fbhwqYYh4YwUoEs5...|classic soul|\n",
      "|5fbhwqYYh4YwUoEs5...|       disco|\n",
      "|5fbhwqYYh4YwUoEs5...|        funk|\n",
      "|5fbhwqYYh4YwUoEs5...|      motown|\n",
      "|5fbhwqYYh4YwUoEs5...| philly soul|\n",
      "+--------------------+------------+\n",
      "only showing top 5 rows\n",
      "\n"
     ]
    }
   ],
   "source": [
    "cleaned_artist_genres_df.show(5)"
   ]
  },
  {
   "cell_type": "code",
   "execution_count": 171,
   "metadata": {},
   "outputs": [
    {
     "name": "stderr",
     "output_type": "stream",
     "text": [
      "23/12/02 21:47:02 WARN TaskSetManager: Stage 135 contains a task of very large size (2083 KiB). The maximum recommended task size is 1000 KiB.\n"
     ]
    },
    {
     "name": "stdout",
     "output_type": "stream",
     "text": [
      "+--------------------+-----------+----------+--------------------+--------------------+--------------------+--------------------+--------------------+--------------------+--------------------+------------+----------------------+------------+-----+--------------------+--------------------+--------------------+----------------+\n",
      "|                 _id|album_group|album_type|             artists|   available_markets|       external_urls|                href|            album_id|              images|                name|release_date|release_date_precision|total_tracks| type|                 uri|           artist_id|           image_url|available_market|\n",
      "+--------------------+-----------+----------+--------------------+--------------------+--------------------+--------------------+--------------------+--------------------+--------------------+------------+----------------------+------------+-----+--------------------+--------------------+--------------------+----------------+\n",
      "|{656368dec946691a...|      album|     album|[{{https://open.s...|[AR, AU, AT, BE, ...|https://open.spot...|https://api.spoti...|52jhlrdp8zqbd2bOY...|[{640, https://i....|Emptiness at The ...|  2021-10-29|                   day|          16|album|spotify:album:52j...|267VY6GX5LyU5c9M8...|https://i.scdn.co...|              AR|\n",
      "|{656368dec946691a...|      album|     album|[{{https://open.s...|[AR, AU, AT, BE, ...|https://open.spot...|https://api.spoti...|52jhlrdp8zqbd2bOY...|[{640, https://i....|Emptiness at The ...|  2021-10-29|                   day|          16|album|spotify:album:52j...|267VY6GX5LyU5c9M8...|https://i.scdn.co...|              AU|\n",
      "|{656368dec946691a...|      album|     album|[{{https://open.s...|[AR, AU, AT, BE, ...|https://open.spot...|https://api.spoti...|52jhlrdp8zqbd2bOY...|[{640, https://i....|Emptiness at The ...|  2021-10-29|                   day|          16|album|spotify:album:52j...|267VY6GX5LyU5c9M8...|https://i.scdn.co...|              AT|\n",
      "|{656368dec946691a...|      album|     album|[{{https://open.s...|[AR, AU, AT, BE, ...|https://open.spot...|https://api.spoti...|52jhlrdp8zqbd2bOY...|[{640, https://i....|Emptiness at The ...|  2021-10-29|                   day|          16|album|spotify:album:52j...|267VY6GX5LyU5c9M8...|https://i.scdn.co...|              BE|\n",
      "|{656368dec946691a...|      album|     album|[{{https://open.s...|[AR, AU, AT, BE, ...|https://open.spot...|https://api.spoti...|52jhlrdp8zqbd2bOY...|[{640, https://i....|Emptiness at The ...|  2021-10-29|                   day|          16|album|spotify:album:52j...|267VY6GX5LyU5c9M8...|https://i.scdn.co...|              BO|\n",
      "+--------------------+-----------+----------+--------------------+--------------------+--------------------+--------------------+--------------------+--------------------+--------------------+------------+----------------------+------------+-----+--------------------+--------------------+--------------------+----------------+\n",
      "only showing top 5 rows\n",
      "\n"
     ]
    }
   ],
   "source": [
    "cald = CleanAlbumDataframe(albums_df)\n",
    "cleaned_album_df = cald.clean()\n",
    "cleaned_album_df.show(5)"
   ]
  },
  {
   "cell_type": "code",
   "execution_count": 172,
   "metadata": {},
   "outputs": [
    {
     "name": "stderr",
     "output_type": "stream",
     "text": [
      "23/12/02 21:47:02 WARN TaskSetManager: Stage 138 contains a task of very large size (26993 KiB). The maximum recommended task size is 1000 KiB.\n",
      "[Stage 138:======================================>                  (2 + 1) / 3]\r"
     ]
    },
    {
     "name": "stdout",
     "output_type": "stream",
     "text": [
      "+--------------------+--------------------+--------------------+-----------+-----------+--------+--------------------+--------------------+--------------------+--------+--------------------+--------------------+------------+-----+--------------------+--------------------+----------------+\n",
      "|                 _id|             artists|   available_markets|disc_number|duration_ms|explicit|       external_urls|                href|            track_id|is_local|                name|         preview_url|track_number| type|                 uri|           artist_id|available_market|\n",
      "+--------------------+--------------------+--------------------+-----------+-----------+--------+--------------------+--------------------+--------------------+--------+--------------------+--------------------+------------+-----+--------------------+--------------------+----------------+\n",
      "|{656368e0c946691a...|[{{https://open.s...|[AR, AU, AT, BE, ...|          1|     217031|   false|https://open.spot...|https://api.spoti...|3AtJCNwFUN5OjQ9QQ...|   false|Did You Hear Abou...|https://p.scdn.co...|           1|track|spotify:track:3At...|6Tw1ktF4xMmzaLLbe...|              AR|\n",
      "|{656368e0c946691a...|[{{https://open.s...|[AR, AU, AT, BE, ...|          1|     217031|   false|https://open.spot...|https://api.spoti...|3AtJCNwFUN5OjQ9QQ...|   false|Did You Hear Abou...|https://p.scdn.co...|           1|track|spotify:track:3At...|6Tw1ktF4xMmzaLLbe...|              AU|\n",
      "|{656368e0c946691a...|[{{https://open.s...|[AR, AU, AT, BE, ...|          1|     217031|   false|https://open.spot...|https://api.spoti...|3AtJCNwFUN5OjQ9QQ...|   false|Did You Hear Abou...|https://p.scdn.co...|           1|track|spotify:track:3At...|6Tw1ktF4xMmzaLLbe...|              AT|\n",
      "|{656368e0c946691a...|[{{https://open.s...|[AR, AU, AT, BE, ...|          1|     217031|   false|https://open.spot...|https://api.spoti...|3AtJCNwFUN5OjQ9QQ...|   false|Did You Hear Abou...|https://p.scdn.co...|           1|track|spotify:track:3At...|6Tw1ktF4xMmzaLLbe...|              BE|\n",
      "|{656368e0c946691a...|[{{https://open.s...|[AR, AU, AT, BE, ...|          1|     217031|   false|https://open.spot...|https://api.spoti...|3AtJCNwFUN5OjQ9QQ...|   false|Did You Hear Abou...|https://p.scdn.co...|           1|track|spotify:track:3At...|6Tw1ktF4xMmzaLLbe...|              BO|\n",
      "+--------------------+--------------------+--------------------+-----------+-----------+--------+--------------------+--------------------+--------------------+--------+--------------------+--------------------+------------+-----+--------------------+--------------------+----------------+\n",
      "only showing top 5 rows\n",
      "\n"
     ]
    },
    {
     "name": "stderr",
     "output_type": "stream",
     "text": [
      "                                                                                \r"
     ]
    }
   ],
   "source": [
    "ctrd = CleanTrackDataframe(tracks_df)\n",
    "cleaned_track_df = ctrd.clean()\n",
    "cleaned_track_df.show(5)"
   ]
  },
  {
   "cell_type": "code",
   "execution_count": 173,
   "metadata": {},
   "outputs": [
    {
     "name": "stderr",
     "output_type": "stream",
     "text": [
      "23/12/02 21:47:04 WARN TaskSetManager: Stage 141 contains a task of very large size (7706 KiB). The maximum recommended task size is 1000 KiB.\n"
     ]
    },
    {
     "name": "stdout",
     "output_type": "stream",
     "text": [
      "+--------------------+------------+------+---+--------+----+-----------+------------+----------------+--------+-------+-------+--------------+--------------------+--------------------+--------------------+--------------------+-----------+--------------+\n",
      "|                 _id|danceability|energy|key|loudness|mode|speechiness|acousticness|instrumentalness|liveness|valence|  tempo|          type|            track_id|                 uri|          track_href|        analysis_url|duration_ms|time_signature|\n",
      "+--------------------+------------+------+---+--------+----+-----------+------------+----------------+--------+-------+-------+--------------+--------------------+--------------------+--------------------+--------------------+-----------+--------------+\n",
      "|{656368eac946691a...|       0.235|  0.41|  8| -12.264|   0|     0.0304|        0.39|         5.48E-5|   0.118|  0.221| 95.873|audio_features|3c5QeZvMs3lXNpHIn...|spotify:track:3c5...|https://api.spoti...|https://api.spoti...|     147813|             3|\n",
      "|{656368eac946691a...|       0.298|0.0101|  2| -24.673|   0|     0.0415|       0.987|           0.234|   0.151| 0.0585| 93.861|audio_features|0SZ0Q1xxVJbdhAfSh...|spotify:track:0SZ...|https://api.spoti...|https://api.spoti...|     253710|             3|\n",
      "|{656368eac946691a...|       0.631| 0.494|  6| -13.656|   1|     0.0479|       0.146|         0.00288|    0.12|  0.906| 97.569|audio_features|36dH33lWsl5RNM8Sx...|spotify:track:36d...|https://api.spoti...|https://api.spoti...|     200508|             4|\n",
      "|{656368eac946691a...|       0.213| 0.371| 10| -12.553|   0|     0.0313|       0.268|         7.79E-4|  0.0931|  0.253|170.665|audio_features|5L6FijEcJAtI7LJeX...|spotify:track:5L6...|https://api.spoti...|https://api.spoti...|     138463|             4|\n",
      "|{656368eac946691a...|       0.717|  0.27|  0| -16.047|   1|      0.196|       0.978|         5.71E-4|   0.692|  0.589|121.322|audio_features|1dmCi60xEVkuMIOHQ...|spotify:track:1dm...|https://api.spoti...|https://api.spoti...|     290682|             4|\n",
      "+--------------------+------------+------+---+--------+----+-----------+------------+----------------+--------+-------+-------+--------------+--------------------+--------------------+--------------------+--------------------+-----------+--------------+\n",
      "only showing top 5 rows\n",
      "\n"
     ]
    }
   ],
   "source": [
    "ctfd = CleanTrackFeaturesDataframe(tracks_features_df)\n",
    "cleaned_track_features_df = ctfd.clean()\n",
    "cleaned_track_features_df.show(5)"
   ]
  },
  {
   "cell_type": "markdown",
   "metadata": {},
   "source": [
    "## Clean album"
   ]
  },
  {
   "cell_type": "code",
   "execution_count": 69,
   "metadata": {},
   "outputs": [],
   "source": [
    "# Extract artists's id from artists column\n",
    "cleaned_artists_id_albums_df = albums_df.withColumn(\"artist_id\", col(\"artists\")[0].id)"
   ]
  },
  {
   "cell_type": "code",
   "execution_count": 70,
   "metadata": {},
   "outputs": [],
   "source": [
    "# Extract albums's url from external_urls column\n",
    "cleaned_urls_albums_df = cleaned_artists_id_albums_df.withColumn(\"external_urls\", col(\"external_urls.spotify\")) "
   ]
  },
  {
   "cell_type": "code",
   "execution_count": 71,
   "metadata": {},
   "outputs": [],
   "source": [
    "# Extract albums's first images from images column\n",
    "cleaned_images_albums_df = cleaned_urls_albums_df.withColumn(\"image\", col(\"images\")[0].url)"
   ]
  },
  {
   "cell_type": "code",
   "execution_count": 72,
   "metadata": {},
   "outputs": [],
   "source": [
    "# Rename id columns\n",
    "cleaned_id_albums_df = cleaned_images_albums_df.withColumnRenamed(\"id\", \"album_id\")"
   ]
  },
  {
   "cell_type": "code",
   "execution_count": 73,
   "metadata": {},
   "outputs": [
    {
     "name": "stderr",
     "output_type": "stream",
     "text": [
      "23/11/30 20:38:36 WARN TaskSetManager: Stage 54 contains a task of very large size (2083 KiB). The maximum recommended task size is 1000 KiB.\n"
     ]
    },
    {
     "name": "stderr",
     "output_type": "stream",
     "text": [
      "                                                                                \r"
     ]
    },
    {
     "name": "stdout",
     "output_type": "stream",
     "text": [
      "['_id', 'album_group', 'album_type', 'artists', 'available_markets', 'external_urls', 'href', 'album_id', 'images', 'name', 'release_date', 'release_date_precision', 'total_tracks', 'type', 'uri', 'artist_id', 'image', 'AT', 'BR', 'BG', 'CO', 'LV', 'MY', 'NZ', 'CH', 'ZA', 'EG', 'IN', 'AL', 'AM', 'FJ', 'MV', 'SL', 'SB', 'GN', 'KG', 'LA', 'MR', 'MU', 'AO', 'CI', 'CG', 'TJ', 'VE', 'ET', 'CL', 'EC', 'HN', 'HK', 'NO', 'PL', 'US', 'TH', 'OM', 'DZ', 'GH', 'BB', 'BF', 'GY', 'KI', 'NE', 'PG', 'SZ', 'TG', 'AR', 'CZ', 'EE', 'HU', 'IE', 'MT', 'PA', 'AD', 'LI', 'JP', 'TN', 'PS', 'BY', 'TZ', 'BW', 'DM', 'ML', 'PW', 'AZ', 'KH', 'GQ', 'CY', 'SV', 'GT', 'IS', 'SE', 'TR', 'IL', 'SA', 'AE', 'KZ', 'LK', 'AG', 'CV', 'LS', 'LR', 'MW', 'KN', 'TO', 'TT', 'TD', 'KM', 'AU', 'CA', 'DK', 'FI', 'SK', 'LB', 'UA', 'HR', 'PK', 'GM', 'GD', 'MH', 'NR', 'WS', 'SN', 'SC', 'MO', 'BJ', 'MG', 'MZ', 'CD', 'BE', 'DE', 'LU', 'NL', 'NI', 'PE', 'SG', 'ES', 'GB', 'MC', 'RO', 'BA', 'ME', 'SI', 'UG', 'BZ', 'BT', 'CW', 'NA', 'TV', 'VU', 'RW', 'XK', 'BO', 'GR', 'IT', 'PY', 'TW', 'MA', 'JO', 'MD', 'MK', 'RS', 'KE', 'NG', 'BS', 'GW', 'HT', 'SR', 'BN', 'BI', 'NP', 'UZ', 'CR', 'DO', 'FR', 'LT', 'MX', 'PH', 'PT', 'UY', 'ID', 'VN', 'BH', 'QA', 'KW', 'KR', 'BD', 'GE', 'JM', 'FM', 'SM', 'ST', 'LC', 'VC', 'TL', 'CM', 'GA', 'MN', 'ZW', 'DJ', 'ZM', 'IQ', 'LY']\n"
     ]
    }
   ],
   "source": [
    "# Extract albums's available markets from available_markets column\n",
    "unique_markets = albums_df.select(col(\"available_markets\")).rdd.flatMap(lambda x: x[0]).distinct().collect()\n",
    "cleaned_markets_albums_df = clean_list_value_df(cleaned_id_albums_df, \"available_markets\", unique_markets)"
   ]
  },
  {
   "cell_type": "code",
   "execution_count": 74,
   "metadata": {},
   "outputs": [],
   "source": [
    "# Remove unnecessary columns\n",
    "columns_to_remove = [\"_id\", \"artists\", \"available_markets\", \"href\", \"images\", \"type\", \"uri\"]\n",
    "cleaned_albums_df = cleaned_markets_albums_df.drop(*columns_to_remove)"
   ]
  },
  {
   "cell_type": "code",
   "execution_count": 75,
   "metadata": {},
   "outputs": [
    {
     "name": "stderr",
     "output_type": "stream",
     "text": [
      "23/11/30 20:38:53 WARN TaskSetManager: Stage 58 contains a task of very large size (2083 KiB). The maximum recommended task size is 1000 KiB.\n"
     ]
    },
    {
     "name": "stdout",
     "output_type": "stream",
     "text": [
      "+-----------+----------+--------------------+--------------------+--------------------+------------+----------------------+------------+--------------------+--------------------+----+----+----+----+----+----+----+----+----+----+----+-----+-----+----+-----+-----+-----+----+-----+-----+-----+----+-----+----+-----+-----+----+-----+----+----+----+----+----+----+-----+----+-----+-----+-----+-----+-----+-----+-----+-----+-----+-----+-----+----+----+----+----+----+----+----+----+----+----+----+-----+-----+-----+-----+-----+-----+-----+-----+-----+-----+----+----+----+----+----+----+----+----+----+-----+----+-----+-----+-----+-----+-----+-----+-----+-----+-----+-----+-----+-----+----+----+----+-----+----+----+-----+-----+-----+-----+-----+-----+-----+-----+-----+-----+-----+-----+-----+----+----+----+----+----+----+----+----+----+----+----+----+----+----+-----+-----+-----+----+-----+-----+-----+----+----+----+----+----+----+----+-----+-----+-----+----+----+-----+----+-----+-----+-----+-----+-----+-----+-----+-----+----+----+----+----+----+----+----+-----+----+----+-----+-----+-----+----+----+-----+-----+-----+-----+-----+-----+-----+-----+----+-----+-----+-----+-----+-----+-----+-----+\n",
      "|album_group|album_type|       external_urls|            album_id|                name|release_date|release_date_precision|total_tracks|           artist_id|               image|  AT|  BR|  BG|  CO|  LV|  MY|  NZ|  CH|  ZA|  EG|  IN|   AL|   AM|  FJ|   MV|   SL|   SB|  GN|   KG|   LA|   MR|  MU|   AO|  CI|   CG|   TJ|  VE|   ET|  CL|  EC|  HN|  HK|  NO|  PL|   US|  TH|   OM|   DZ|   GH|   BB|   BF|   GY|   KI|   NE|   PG|   SZ|   TG|  AR|  CZ|  EE|  HU|  IE|  MT|  PA|  AD|  LI|  JP|  TN|   PS|   BY|   TZ|   BW|   DM|   ML|   PW|   AZ|   KH|   GQ|  CY|  SV|  GT|  IS|  SE|  TR|  IL|  SA|  AE|   KZ|  LK|   AG|   CV|   LS|   LR|   MW|   KN|   TO|   TT|   TD|   KM|   AU|   CA|  DK|  FI|  SK|   LB|  UA|  HR|   PK|   GM|   GD|   MH|   NR|   WS|   SN|   SC|   MO|   BJ|   MG|   MZ|   CD|  BE|  DE|  LU|  NL|  NI|  PE|  SG|  ES|  GB|  MC|  RO|  BA|  ME|  SI|   UG|   BZ|   BT|  CW|   NA|   TV|   VU|  RW|  XK|  BO|  GR|  IT|  PY|  TW|   MA|   JO|   MD|  MK|  RS|   KE|  NG|   BS|   GW|   HT|   SR|   BN|   BI|   NP|   UZ|  CR|  DO|  FR|  LT|  MX|  PH|  PT|   UY|  ID|  VN|   BH|   QA|   KW|  KR|  BD|   GE|   JM|   FM|   SM|   ST|   LC|   VC|   TL|  CM|   GA|   MN|   ZW|   DJ|   ZM|   IQ|   LY|\n",
      "+-----------+----------+--------------------+--------------------+--------------------+------------+----------------------+------------+--------------------+--------------------+----+----+----+----+----+----+----+----+----+----+----+-----+-----+----+-----+-----+-----+----+-----+-----+-----+----+-----+----+-----+-----+----+-----+----+----+----+----+----+----+-----+----+-----+-----+-----+-----+-----+-----+-----+-----+-----+-----+-----+----+----+----+----+----+----+----+----+----+----+----+-----+-----+-----+-----+-----+-----+-----+-----+-----+-----+----+----+----+----+----+----+----+----+----+-----+----+-----+-----+-----+-----+-----+-----+-----+-----+-----+-----+-----+-----+----+----+----+-----+----+----+-----+-----+-----+-----+-----+-----+-----+-----+-----+-----+-----+-----+-----+----+----+----+----+----+----+----+----+----+----+----+----+----+----+-----+-----+-----+----+-----+-----+-----+----+----+----+----+----+----+----+-----+-----+-----+----+----+-----+----+-----+-----+-----+-----+-----+-----+-----+-----+----+----+----+----+----+----+----+-----+----+----+-----+-----+-----+----+----+-----+-----+-----+-----+-----+-----+-----+-----+----+-----+-----+-----+-----+-----+-----+-----+\n",
      "|      album|     album|https://open.spot...|52jhlrdp8zqbd2bOY...|Emptiness at The ...|  2021-10-29|                   day|          16|267VY6GX5LyU5c9M8...|https://i.scdn.co...|true|true|true|true|true|true|true|true|true|true|true| true| true|true| true| true| true|true| true| true| true|true| true|true| true| true|true| true|true|true|true|true|true|true| true|true| true| true| true| true| true| true| true| true| true| true| true|true|true|true|true|true|true|true|true|true|true|true| true| true| true| true| true| true| true| true| true| true|true|true|true|true|true|true|true|true|true| true|true| true| true| true| true| true| true| true| true| true| true| true| true|true|true|true| true|true|true| true| true| true| true| true| true| true| true| true| true| true| true| true|true|true|true|true|true|true|true|true|true|true|true|true|true|true| true| true| true|true| true| true| true|true|true|true|true|true|true|true| true| true| true|true|true| true|true| true| true| true| true| true| true| true| true|true|true|true|true|true|true|true| true|true|true| true| true| true|true|true| true| true| true| true| true| true| true| true|true| true| true| true| true| true| true| true|\n",
      "|      album|     album|https://open.spot...|45iziPsWX55fzqhGY...|Live at Third Man...|  2020-09-25|                   day|           7|4DToQR3aKrHQSSRzS...|https://i.scdn.co...|true|true|true|true|true|true|true|true|true|true|true| true| true|true| true| true| true|true| true| true| true|true| true|true| true| true|true| true|true|true|true|true|true|true| true|true| true| true| true| true| true| true| true| true| true| true| true|true|true|true|true|true|true|true|true|true|true|true| true| true| true| true| true| true| true| true| true| true|true|true|true|true|true|true|true|true|true| true|true| true| true| true| true| true| true| true| true| true| true| true| true|true|true|true| true|true|true| true| true| true| true| true| true| true| true| true| true| true| true| true|true|true|true|true|true|true|true|true|true|true|true|true|true|true| true| true| true|true| true| true| true|true|true|true|true|true|true|true| true| true| true|true|true| true|true| true| true| true| true| true| true| true| true|true|true|true|true|true|true|true| true|true|true| true| true| true|true|true| true| true| true| true| true| true| true| true|true| true| true| true| true| true| true| true|\n",
      "|      album|     album|https://open.spot...|6IfrO26rrFYAEbKLP...|Live in Tokyo, Ja...|  2020-11-20|                   day|          21|2Mu5NfyYm8n5iTomu...|https://i.scdn.co...|true|true|true|true|true|true|true|true|true|true|true| true| true|true| true| true| true|true| true| true| true|true| true|true| true| true|true| true|true|true|true|true|true|true|false|true| true| true| true| true| true| true| true| true| true| true| true|true|true|true|true|true|true|true|true|true|true|true| true| true| true| true| true| true| true| true| true| true|true|true|true|true|true|true|true|true|true| true|true| true| true| true| true| true| true| true| true| true| true| true|false|true|true|true| true|true|true| true| true| true| true| true| true| true| true| true| true| true| true| true|true|true|true|true|true|true|true|true|true|true|true|true|true|true| true| true| true|true| true| true| true|true|true|true|true|true|true|true| true| true| true|true|true| true|true| true| true| true| true| true| true| true| true|true|true|true|true|true|true|true| true|true|true| true| true| true|true|true| true| true| true| true| true| true| true| true|true| true| true| true| true| true| true| true|\n",
      "|      album|     album|https://open.spot...|4cJeoBBfD97Kw9hAC...|Outward Bound (RV...|  2006-01-01|                   day|           9|6rxxu32JCGDpKKMPH...|https://i.scdn.co...|true|true|true|true|true|true|true|true|true|true|true|false|false|true|false|false|false|true|false|false|false|true|false|true|false|false|true|false|true|true|true|true|true|true|false|true|false|false|false|false|false|false|false|false|false|false|false|true|true|true|true|true|true|true|true|true|true|true|false|false|false|false|false|false|false|false|false|false|true|true|true|true|true|true|true|true|true|false|true|false|false|false|false|false|false|false|false|false|false|false| true|true|true|true|false|true|true|false|false|false|false|false|false|false|false|false|false|false|false|false|true|true|true|true|true|true|true|true|true|true|true|true|true|true|false|false|false|true|false|false|false|true|true|true|true|true|true|true|false|false|false|true|true|false|true|false|false|false|false|false|false|false|false|true|true|true|true|true|true|true|false|true|true|false|false|false|true|true|false|false|false|false|false|false|false|false|true|false|false|false|false|false|false|false|\n",
      "|      album|     album|https://open.spot...|5H97xNbDGyAtqYkyX...|A Burning Love (L...|  2022-09-28|                   day|          10|5fbhwqYYh4YwUoEs5...|https://i.scdn.co...|true|true|true|true|true|true|true|true|true|true|true| true| true|true| true| true| true|true| true| true| true|true| true|true| true| true|true| true|true|true|true|true|true|true|false|true| true| true| true| true| true| true| true| true| true| true| true|true|true|true|true|true|true|true|true|true|true|true| true| true| true| true| true| true| true| true| true| true|true|true|true|true|true|true|true|true|true| true|true| true| true| true| true| true| true| true| true| true| true| true|false|true|true|true| true|true|true| true| true| true| true| true| true| true| true| true| true| true| true| true|true|true|true|true|true|true|true|true|true|true|true|true|true|true| true| true| true|true| true| true| true|true|true|true|true|true|true|true| true| true| true|true|true| true|true| true| true| true| true| true| true| true| true|true|true|true|true|true|true|true| true|true|true| true| true| true|true|true| true| true| true| true| true| true| true| true|true| true| true| true| true| true| true| true|\n",
      "+-----------+----------+--------------------+--------------------+--------------------+------------+----------------------+------------+--------------------+--------------------+----+----+----+----+----+----+----+----+----+----+----+-----+-----+----+-----+-----+-----+----+-----+-----+-----+----+-----+----+-----+-----+----+-----+----+----+----+----+----+----+-----+----+-----+-----+-----+-----+-----+-----+-----+-----+-----+-----+-----+----+----+----+----+----+----+----+----+----+----+----+-----+-----+-----+-----+-----+-----+-----+-----+-----+-----+----+----+----+----+----+----+----+----+----+-----+----+-----+-----+-----+-----+-----+-----+-----+-----+-----+-----+-----+-----+----+----+----+-----+----+----+-----+-----+-----+-----+-----+-----+-----+-----+-----+-----+-----+-----+-----+----+----+----+----+----+----+----+----+----+----+----+----+----+----+-----+-----+-----+----+-----+-----+-----+----+----+----+----+----+----+----+-----+-----+-----+----+----+-----+----+-----+-----+-----+-----+-----+-----+-----+-----+----+----+----+----+----+----+----+-----+----+----+-----+-----+-----+----+----+-----+-----+-----+-----+-----+-----+-----+-----+----+-----+-----+-----+-----+-----+-----+-----+\n",
      "only showing top 5 rows\n",
      "\n"
     ]
    }
   ],
   "source": [
    "cleaned_albums_df.show(5)"
   ]
  },
  {
   "cell_type": "markdown",
   "metadata": {},
   "source": [
    "## Clean track"
   ]
  },
  {
   "cell_type": "code",
   "execution_count": 76,
   "metadata": {},
   "outputs": [],
   "source": [
    "# Extract artists's id from artists column\n",
    "cleaned_artists_id_tracks_df = tracks_df.withColumn(\"artist_id\", col(\"artists\")[0].id)"
   ]
  },
  {
   "cell_type": "code",
   "execution_count": 77,
   "metadata": {},
   "outputs": [],
   "source": [
    "# Extract tracks's url from external_urls column\n",
    "cleaned_urls_tracks_df = cleaned_artists_id_tracks_df.withColumn(\"external_urls\", col(\"external_urls.spotify\"))"
   ]
  },
  {
   "cell_type": "code",
   "execution_count": 78,
   "metadata": {},
   "outputs": [],
   "source": [
    "# Rename id columns\n",
    "cleaned_id_tracks_df = cleaned_urls_tracks_df.withColumnRenamed(\"id\", \"track_id\")"
   ]
  },
  {
   "cell_type": "code",
   "execution_count": 79,
   "metadata": {},
   "outputs": [
    {
     "name": "stderr",
     "output_type": "stream",
     "text": [
      "23/11/30 20:38:53 WARN TaskSetManager: Stage 59 contains a task of very large size (26993 KiB). The maximum recommended task size is 1000 KiB.\n",
      "                                                                                \r"
     ]
    },
    {
     "name": "stdout",
     "output_type": "stream",
     "text": [
      "['_id', 'artists', 'available_markets', 'disc_number', 'duration_ms', 'explicit', 'external_urls', 'href', 'track_id', 'is_local', 'name', 'preview_url', 'track_number', 'type', 'uri', 'artist_id', 'AT', 'BR', 'BG', 'CO', 'LV', 'MY', 'NZ', 'CH', 'ZA', 'EG', 'IN', 'AL', 'AM', 'FJ', 'MV', 'SL', 'SB', 'GN', 'KG', 'LA', 'MR', 'MU', 'AO', 'CI', 'CG', 'TJ', 'VE', 'ET', 'CL', 'EC', 'HN', 'HK', 'NO', 'PL', 'TH', 'OM', 'DZ', 'GH', 'BB', 'BF', 'GY', 'KI', 'NE', 'PG', 'SZ', 'TG', 'US', 'AR', 'CZ', 'EE', 'HU', 'IE', 'MT', 'PA', 'AD', 'LI', 'JP', 'TN', 'PS', 'BY', 'TZ', 'BW', 'DM', 'ML', 'PW', 'AZ', 'KH', 'GQ', 'CY', 'SV', 'GT', 'IS', 'SE', 'TR', 'IL', 'SA', 'AE', 'KZ', 'LK', 'AG', 'CV', 'LS', 'LR', 'MW', 'KN', 'TO', 'TT', 'TD', 'KM', 'AU', 'DK', 'FI', 'SK', 'LB', 'UA', 'HR', 'PK', 'GM', 'GD', 'MH', 'NR', 'WS', 'SN', 'SC', 'MO', 'BJ', 'MG', 'MZ', 'CD', 'CA', 'BE', 'DE', 'LU', 'NL', 'NI', 'PE', 'SG', 'ES', 'GB', 'MC', 'RO', 'BA', 'ME', 'SI', 'UG', 'BZ', 'BT', 'CW', 'NA', 'TV', 'VU', 'RW', 'XK', 'BO', 'GR', 'IT', 'PY', 'TW', 'MA', 'JO', 'MD', 'MK', 'RS', 'KE', 'NG', 'BS', 'GW', 'HT', 'SR', 'BN', 'BI', 'NP', 'UZ', 'CR', 'DO', 'FR', 'LT', 'MX', 'PH', 'PT', 'UY', 'ID', 'VN', 'BH', 'QA', 'KW', 'KR', 'BD', 'GE', 'JM', 'FM', 'SM', 'ST', 'LC', 'VC', 'TL', 'CM', 'GA', 'MN', 'ZW', 'DJ', 'ZM', 'IQ', 'LY']\n"
     ]
    }
   ],
   "source": [
    "# Extract tracks's available markets from available_markets column\n",
    "unique_markets = tracks_df.select(col(\"available_markets\")).rdd.flatMap(lambda x: x[0]).distinct().collect()\n",
    "cleaned_markets_tracks_df = clean_list_value_df(cleaned_id_tracks_df, \"available_markets\", unique_markets)"
   ]
  },
  {
   "cell_type": "code",
   "execution_count": 80,
   "metadata": {},
   "outputs": [],
   "source": [
    "# Remove unnecessary columns\n",
    "columns_to_remove = [\"_id\", \"artists\", \"available_markets\", \"duration_ms\", \"href\", \"is_local\", \"type\", \"uri\"]\n",
    "cleaned_tracks_df = cleaned_markets_tracks_df.drop(*columns_to_remove)"
   ]
  },
  {
   "cell_type": "code",
   "execution_count": 81,
   "metadata": {},
   "outputs": [
    {
     "name": "stderr",
     "output_type": "stream",
     "text": [
      "23/11/30 20:39:12 WARN TaskSetManager: Stage 63 contains a task of very large size (26993 KiB). The maximum recommended task size is 1000 KiB.\n",
      "[Stage 63:======================================>                   (2 + 1) / 3]\r"
     ]
    },
    {
     "name": "stdout",
     "output_type": "stream",
     "text": [
      "+-----------+--------+--------------------+--------------------+--------------------+--------------------+------------+--------------------+----+----+----+----+----+----+----+----+----+----+----+----+----+----+----+----+----+----+----+----+----+----+----+----+----+----+----+----+----+----+----+----+----+----+----+----+----+----+----+----+----+----+----+----+----+----+-----+----+----+----+----+----+----+----+----+----+----+----+----+----+----+----+----+----+----+----+----+----+----+----+----+----+----+----+----+----+----+----+----+----+----+----+----+----+----+----+----+----+----+----+----+----+----+----+----+----+----+----+----+----+----+----+----+----+----+----+----+----+----+-----+----+----+----+----+----+----+----+----+----+----+----+----+----+----+----+----+----+----+----+----+----+----+----+----+----+----+----+----+----+----+----+----+----+----+----+----+----+----+----+----+----+----+----+----+----+----+----+----+----+----+----+----+----+----+----+----+----+----+----+----+----+----+----+----+----+----+----+----+----+----+----+----+----+----+\n",
      "|disc_number|explicit|       external_urls|            track_id|                name|         preview_url|track_number|           artist_id|  AT|  BR|  BG|  CO|  LV|  MY|  NZ|  CH|  ZA|  EG|  IN|  AL|  AM|  FJ|  MV|  SL|  SB|  GN|  KG|  LA|  MR|  MU|  AO|  CI|  CG|  TJ|  VE|  ET|  CL|  EC|  HN|  HK|  NO|  PL|  TH|  OM|  DZ|  GH|  BB|  BF|  GY|  KI|  NE|  PG|  SZ|  TG|   US|  AR|  CZ|  EE|  HU|  IE|  MT|  PA|  AD|  LI|  JP|  TN|  PS|  BY|  TZ|  BW|  DM|  ML|  PW|  AZ|  KH|  GQ|  CY|  SV|  GT|  IS|  SE|  TR|  IL|  SA|  AE|  KZ|  LK|  AG|  CV|  LS|  LR|  MW|  KN|  TO|  TT|  TD|  KM|  AU|  DK|  FI|  SK|  LB|  UA|  HR|  PK|  GM|  GD|  MH|  NR|  WS|  SN|  SC|  MO|  BJ|  MG|  MZ|  CD|   CA|  BE|  DE|  LU|  NL|  NI|  PE|  SG|  ES|  GB|  MC|  RO|  BA|  ME|  SI|  UG|  BZ|  BT|  CW|  NA|  TV|  VU|  RW|  XK|  BO|  GR|  IT|  PY|  TW|  MA|  JO|  MD|  MK|  RS|  KE|  NG|  BS|  GW|  HT|  SR|  BN|  BI|  NP|  UZ|  CR|  DO|  FR|  LT|  MX|  PH|  PT|  UY|  ID|  VN|  BH|  QA|  KW|  KR|  BD|  GE|  JM|  FM|  SM|  ST|  LC|  VC|  TL|  CM|  GA|  MN|  ZW|  DJ|  ZM|  IQ|  LY|\n",
      "+-----------+--------+--------------------+--------------------+--------------------+--------------------+------------+--------------------+----+----+----+----+----+----+----+----+----+----+----+----+----+----+----+----+----+----+----+----+----+----+----+----+----+----+----+----+----+----+----+----+----+----+----+----+----+----+----+----+----+----+----+----+----+----+-----+----+----+----+----+----+----+----+----+----+----+----+----+----+----+----+----+----+----+----+----+----+----+----+----+----+----+----+----+----+----+----+----+----+----+----+----+----+----+----+----+----+----+----+----+----+----+----+----+----+----+----+----+----+----+----+----+----+----+----+----+----+----+-----+----+----+----+----+----+----+----+----+----+----+----+----+----+----+----+----+----+----+----+----+----+----+----+----+----+----+----+----+----+----+----+----+----+----+----+----+----+----+----+----+----+----+----+----+----+----+----+----+----+----+----+----+----+----+----+----+----+----+----+----+----+----+----+----+----+----+----+----+----+----+----+----+----+----+\n",
      "|          1|   false|https://open.spot...|3AtJCNwFUN5OjQ9QQ...|Did You Hear Abou...|https://p.scdn.co...|           1|6Tw1ktF4xMmzaLLbe...|true|true|true|true|true|true|true|true|true|true|true|true|true|true|true|true|true|true|true|true|true|true|true|true|true|true|true|true|true|true|true|true|true|true|true|true|true|true|true|true|true|true|true|true|true|true|false|true|true|true|true|true|true|true|true|true|true|true|true|true|true|true|true|true|true|true|true|true|true|true|true|true|true|true|true|true|true|true|true|true|true|true|true|true|true|true|true|true|true|true|true|true|true|true|true|true|true|true|true|true|true|true|true|true|true|true|true|true|true|false|true|true|true|true|true|true|true|true|true|true|true|true|true|true|true|true|true|true|true|true|true|true|true|true|true|true|true|true|true|true|true|true|true|true|true|true|true|true|true|true|true|true|true|true|true|true|true|true|true|true|true|true|true|true|true|true|true|true|true|true|true|true|true|true|true|true|true|true|true|true|true|true|true|true|\n",
      "|          1|   false|https://open.spot...|2ii34jOmsT0dymBGu...|Hava Nageela - Li...|https://p.scdn.co...|          10|6Tw1ktF4xMmzaLLbe...|true|true|true|true|true|true|true|true|true|true|true|true|true|true|true|true|true|true|true|true|true|true|true|true|true|true|true|true|true|true|true|true|true|true|true|true|true|true|true|true|true|true|true|true|true|true|false|true|true|true|true|true|true|true|true|true|true|true|true|true|true|true|true|true|true|true|true|true|true|true|true|true|true|true|true|true|true|true|true|true|true|true|true|true|true|true|true|true|true|true|true|true|true|true|true|true|true|true|true|true|true|true|true|true|true|true|true|true|true|false|true|true|true|true|true|true|true|true|true|true|true|true|true|true|true|true|true|true|true|true|true|true|true|true|true|true|true|true|true|true|true|true|true|true|true|true|true|true|true|true|true|true|true|true|true|true|true|true|true|true|true|true|true|true|true|true|true|true|true|true|true|true|true|true|true|true|true|true|true|true|true|true|true|true|\n",
      "|          1|   false|https://open.spot...|1dmCi60xEVkuMIOHQ...|Gotta Travel On -...|https://p.scdn.co...|           2|6Tw1ktF4xMmzaLLbe...|true|true|true|true|true|true|true|true|true|true|true|true|true|true|true|true|true|true|true|true|true|true|true|true|true|true|true|true|true|true|true|true|true|true|true|true|true|true|true|true|true|true|true|true|true|true|false|true|true|true|true|true|true|true|true|true|true|true|true|true|true|true|true|true|true|true|true|true|true|true|true|true|true|true|true|true|true|true|true|true|true|true|true|true|true|true|true|true|true|true|true|true|true|true|true|true|true|true|true|true|true|true|true|true|true|true|true|true|true|false|true|true|true|true|true|true|true|true|true|true|true|true|true|true|true|true|true|true|true|true|true|true|true|true|true|true|true|true|true|true|true|true|true|true|true|true|true|true|true|true|true|true|true|true|true|true|true|true|true|true|true|true|true|true|true|true|true|true|true|true|true|true|true|true|true|true|true|true|true|true|true|true|true|true|\n",
      "|          1|   false|https://open.spot...|5pNNAWwksEhtNuiNz...|Cu Cu Ru Cu Cu Pa...|https://p.scdn.co...|           8|6Tw1ktF4xMmzaLLbe...|true|true|true|true|true|true|true|true|true|true|true|true|true|true|true|true|true|true|true|true|true|true|true|true|true|true|true|true|true|true|true|true|true|true|true|true|true|true|true|true|true|true|true|true|true|true|false|true|true|true|true|true|true|true|true|true|true|true|true|true|true|true|true|true|true|true|true|true|true|true|true|true|true|true|true|true|true|true|true|true|true|true|true|true|true|true|true|true|true|true|true|true|true|true|true|true|true|true|true|true|true|true|true|true|true|true|true|true|true|false|true|true|true|true|true|true|true|true|true|true|true|true|true|true|true|true|true|true|true|true|true|true|true|true|true|true|true|true|true|true|true|true|true|true|true|true|true|true|true|true|true|true|true|true|true|true|true|true|true|true|true|true|true|true|true|true|true|true|true|true|true|true|true|true|true|true|true|true|true|true|true|true|true|true|\n",
      "|          1|   false|https://open.spot...|1vuh0rZZNYekJgvY8...|Man Smart (Woman ...|https://p.scdn.co...|           5|6Tw1ktF4xMmzaLLbe...|true|true|true|true|true|true|true|true|true|true|true|true|true|true|true|true|true|true|true|true|true|true|true|true|true|true|true|true|true|true|true|true|true|true|true|true|true|true|true|true|true|true|true|true|true|true|false|true|true|true|true|true|true|true|true|true|true|true|true|true|true|true|true|true|true|true|true|true|true|true|true|true|true|true|true|true|true|true|true|true|true|true|true|true|true|true|true|true|true|true|true|true|true|true|true|true|true|true|true|true|true|true|true|true|true|true|true|true|true|false|true|true|true|true|true|true|true|true|true|true|true|true|true|true|true|true|true|true|true|true|true|true|true|true|true|true|true|true|true|true|true|true|true|true|true|true|true|true|true|true|true|true|true|true|true|true|true|true|true|true|true|true|true|true|true|true|true|true|true|true|true|true|true|true|true|true|true|true|true|true|true|true|true|true|\n",
      "+-----------+--------+--------------------+--------------------+--------------------+--------------------+------------+--------------------+----+----+----+----+----+----+----+----+----+----+----+----+----+----+----+----+----+----+----+----+----+----+----+----+----+----+----+----+----+----+----+----+----+----+----+----+----+----+----+----+----+----+----+----+----+----+-----+----+----+----+----+----+----+----+----+----+----+----+----+----+----+----+----+----+----+----+----+----+----+----+----+----+----+----+----+----+----+----+----+----+----+----+----+----+----+----+----+----+----+----+----+----+----+----+----+----+----+----+----+----+----+----+----+----+----+----+----+----+----+-----+----+----+----+----+----+----+----+----+----+----+----+----+----+----+----+----+----+----+----+----+----+----+----+----+----+----+----+----+----+----+----+----+----+----+----+----+----+----+----+----+----+----+----+----+----+----+----+----+----+----+----+----+----+----+----+----+----+----+----+----+----+----+----+----+----+----+----+----+----+----+----+----+----+----+\n",
      "only showing top 5 rows\n",
      "\n"
     ]
    },
    {
     "name": "stderr",
     "output_type": "stream",
     "text": [
      "                                                                                \r"
     ]
    }
   ],
   "source": [
    "cleaned_tracks_df.show(5)"
   ]
  },
  {
   "cell_type": "markdown",
   "metadata": {},
   "source": [
    "## Clean track features"
   ]
  },
  {
   "cell_type": "code",
   "execution_count": 82,
   "metadata": {},
   "outputs": [],
   "source": [
    "# Rename id columns\n",
    "cleaned_id_tracks_features_df = tracks_features_df.withColumnRenamed(\"id\", \"track_id\")"
   ]
  },
  {
   "cell_type": "code",
   "execution_count": 84,
   "metadata": {},
   "outputs": [],
   "source": [
    "# Remove unnecessary columns\n",
    "columns_to_remove = [\"_id\", \"type\", \"uri\", \"track_href\", \"analysis_url\"]\n",
    "cleaned_tracks_features_df = cleaned_id_tracks_features_df.drop(*columns_to_remove)"
   ]
  },
  {
   "cell_type": "code",
   "execution_count": 85,
   "metadata": {},
   "outputs": [
    {
     "name": "stderr",
     "output_type": "stream",
     "text": [
      "23/11/30 20:39:15 WARN TaskSetManager: Stage 69 contains a task of very large size (7706 KiB). The maximum recommended task size is 1000 KiB.\n"
     ]
    },
    {
     "name": "stdout",
     "output_type": "stream",
     "text": [
      "+------------+------+---+--------+----+-----------+------------+----------------+--------+-------+-------+--------------------+-----------+--------------+\n",
      "|danceability|energy|key|loudness|mode|speechiness|acousticness|instrumentalness|liveness|valence|  tempo|            track_id|duration_ms|time_signature|\n",
      "+------------+------+---+--------+----+-----------+------------+----------------+--------+-------+-------+--------------------+-----------+--------------+\n",
      "|       0.235|  0.41|  8| -12.264|   0|     0.0304|        0.39|         5.48E-5|   0.118|  0.221| 95.873|3c5QeZvMs3lXNpHIn...|     147813|             3|\n",
      "|       0.298|0.0101|  2| -24.673|   0|     0.0415|       0.987|           0.234|   0.151| 0.0585| 93.861|0SZ0Q1xxVJbdhAfSh...|     253710|             3|\n",
      "|       0.631| 0.494|  6| -13.656|   1|     0.0479|       0.146|         0.00288|    0.12|  0.906| 97.569|36dH33lWsl5RNM8Sx...|     200508|             4|\n",
      "|       0.213| 0.371| 10| -12.553|   0|     0.0313|       0.268|         7.79E-4|  0.0931|  0.253|170.665|5L6FijEcJAtI7LJeX...|     138463|             4|\n",
      "|       0.717|  0.27|  0| -16.047|   1|      0.196|       0.978|         5.71E-4|   0.692|  0.589|121.322|1dmCi60xEVkuMIOHQ...|     290682|             4|\n",
      "+------------+------+---+--------+----+-----------+------------+----------------+--------+-------+-------+--------------------+-----------+--------------+\n",
      "only showing top 5 rows\n",
      "\n"
     ]
    }
   ],
   "source": [
    "cleaned_tracks_features_df.show(5)"
   ]
  },
  {
   "cell_type": "markdown",
   "metadata": {},
   "source": [
    "## Final Class"
   ]
  },
  {
   "cell_type": "code",
   "execution_count": 3,
   "metadata": {},
   "outputs": [],
   "source": [
    "from typing import List, Dict\n",
    "from pyspark.sql.functions import array_contains, col, explode"
   ]
  },
  {
   "cell_type": "code",
   "execution_count": 4,
   "metadata": {},
   "outputs": [
    {
     "ename": "NameError",
     "evalue": "name 'pyspark' is not defined",
     "output_type": "error",
     "traceback": [
      "\u001b[0;31m---------------------------------------------------------------------------\u001b[0m",
      "\u001b[0;31mNameError\u001b[0m                                 Traceback (most recent call last)",
      "Cell \u001b[0;32mIn[4], line 18\u001b[0m\n\u001b[1;32m     15\u001b[0m         \u001b[38;5;28;01mreturn\u001b[39;00m df_exploded\u001b[38;5;241m.\u001b[39mdrop(\u001b[38;5;241m*\u001b[39mcolumns\u001b[38;5;241m.\u001b[39mkeys())\n\u001b[1;32m     16\u001b[0m     \u001b[38;5;28;01mreturn\u001b[39;00m df_exploded\n\u001b[0;32m---> 18\u001b[0m \u001b[43mpyspark\u001b[49m\u001b[38;5;241m.\u001b[39msql\u001b[38;5;241m.\u001b[39mDataFrame\u001b[38;5;241m.\u001b[39mcleanList \u001b[38;5;241m=\u001b[39m cleanList\n",
      "\u001b[0;31mNameError\u001b[0m: name 'pyspark' is not defined"
     ]
    }
   ],
   "source": [
    "def cleanList(self, columns: dict, drop: bool=False):\n",
    "    # Check type of argument\n",
    "    if not isinstance(columns, dict):\n",
    "        raise TypeError(\"Columns must be a dictionary\")\n",
    "    if not isinstance(drop, bool):\n",
    "        raise TypeError(\"Drop must be a boolean\")\n",
    "    \n",
    "    df_exploded = self\n",
    "    \n",
    "    for old_column in columns.keys():\n",
    "        new_column = columns[old_column]\n",
    "        df_exploded = df_exploded.select(\"*\", explode(col(old_column)).alias(new_column))\n",
    "    \n",
    "    if drop:\n",
    "        return df_exploded.drop(*columns.keys())\n",
    "    return df_exploded\n",
    "\n",
    "pyspark.sql.DataFrame.cleanList = cleanList"
   ]
  },
  {
   "cell_type": "code",
   "execution_count": 2,
   "metadata": {},
   "outputs": [
    {
     "ename": "NameError",
     "evalue": "name 'pyspark' is not defined",
     "output_type": "error",
     "traceback": [
      "\u001b[0;31m---------------------------------------------------------------------------\u001b[0m",
      "\u001b[0;31mNameError\u001b[0m                                 Traceback (most recent call last)",
      "Cell \u001b[0;32mIn[2], line 1\u001b[0m\n\u001b[0;32m----> 1\u001b[0m \u001b[38;5;28;43;01mclass\u001b[39;49;00m\u001b[43m \u001b[49m\u001b[38;5;21;43;01mCleanDataframe\u001b[39;49;00m\u001b[43m:\u001b[49m\n\u001b[1;32m      2\u001b[0m \u001b[43m    \u001b[49m\u001b[38;5;28;43;01mdef\u001b[39;49;00m\u001b[43m \u001b[49m\u001b[38;5;21;43m__init__\u001b[39;49m\u001b[43m(\u001b[49m\u001b[38;5;28;43mself\u001b[39;49m\u001b[43m,\u001b[49m\u001b[43m \u001b[49m\u001b[43mdf\u001b[49m\u001b[43m:\u001b[49m\u001b[43m \u001b[49m\u001b[43mpyspark\u001b[49m\u001b[38;5;241;43m.\u001b[39;49m\u001b[43msql\u001b[49m\u001b[38;5;241;43m.\u001b[39;49m\u001b[43mDataFrame\u001b[49m\u001b[43m)\u001b[49m\u001b[43m:\u001b[49m\n\u001b[1;32m      3\u001b[0m \u001b[38;5;250;43m        \u001b[39;49m\u001b[38;5;124;43;03m\"\"\"\u001b[39;49;00m\n\u001b[1;32m      4\u001b[0m \u001b[38;5;124;43;03m        Initialize CleanDataframe with a DataFrame.\u001b[39;49;00m\n\u001b[1;32m      5\u001b[0m \u001b[38;5;124;43;03m        \"\"\"\u001b[39;49;00m\n",
      "Cell \u001b[0;32mIn[2], line 2\u001b[0m, in \u001b[0;36mCleanDataframe\u001b[0;34m()\u001b[0m\n\u001b[1;32m      1\u001b[0m \u001b[38;5;28;01mclass\u001b[39;00m \u001b[38;5;21;01mCleanDataframe\u001b[39;00m:\n\u001b[0;32m----> 2\u001b[0m     \u001b[38;5;28;01mdef\u001b[39;00m \u001b[38;5;21m__init__\u001b[39m(\u001b[38;5;28mself\u001b[39m, df: \u001b[43mpyspark\u001b[49m\u001b[38;5;241m.\u001b[39msql\u001b[38;5;241m.\u001b[39mDataFrame):\n\u001b[1;32m      3\u001b[0m \u001b[38;5;250m        \u001b[39m\u001b[38;5;124;03m\"\"\"\u001b[39;00m\n\u001b[1;32m      4\u001b[0m \u001b[38;5;124;03m        Initialize CleanDataframe with a DataFrame.\u001b[39;00m\n\u001b[1;32m      5\u001b[0m \u001b[38;5;124;03m        \"\"\"\u001b[39;00m\n\u001b[1;32m      6\u001b[0m         \u001b[38;5;28;01mif\u001b[39;00m \u001b[38;5;129;01mnot\u001b[39;00m \u001b[38;5;28misinstance\u001b[39m(df, pyspark\u001b[38;5;241m.\u001b[39msql\u001b[38;5;241m.\u001b[39mDataFrame):\n",
      "\u001b[0;31mNameError\u001b[0m: name 'pyspark' is not defined"
     ]
    }
   ],
   "source": [
    "class CleanDataframe:\n",
    "    def __init__(self, df: pyspark.sql.DataFrame):\n",
    "        \"\"\"\n",
    "        Initialize CleanDataframe with a DataFrame.\n",
    "        \"\"\"\n",
    "        if not isinstance(df, pyspark.sql.DataFrame):\n",
    "           raise TypeError(\"df must be a pyspark.sql.DataFrame\") \n",
    "        \n",
    "        self._original_df = df\n",
    "        self._df = df        \n",
    "    \n",
    "    def get_dataframe(self) -> pyspark.sql.DataFrame:\n",
    "        \"\"\"\n",
    "        Get the cleaned DataFrame.\n",
    "        \"\"\"\n",
    "        return self._df\n",
    "    \n",
    "    def get_original_dataframe(self) -> pyspark.sql.DataFrame:\n",
    "        \"\"\"\n",
    "        Get the original DataFrame.\n",
    "        \"\"\"\n",
    "        return self._original_df\n",
    "\n",
    "class SilverCleanDataframe(CleanDataframe):\n",
    "    def __init__(self, df: pyspark.sql.DataFrame,\n",
    "                 nested_columns: Dict[str, pyspark.sql.Column] = None,\n",
    "                 list_value_columns: Dict[str, str] = None,\n",
    "                 remove_old_list_value_columns: bool = True,\n",
    "                 split_df: bool = False,\n",
    "                 column_to_split: str = None,\n",
    "                 primary_foreign_key: str = None):\n",
    "        \"\"\"\n",
    "        Initialize SilverCleanDataframe with additional parameters.\n",
    "        \"\"\"\n",
    "        if not isinstance(df, pyspark.sql.DataFrame):\n",
    "           raise TypeError(\"df must be a pyspark.sql.DataFrame\")\n",
    "        if not isinstance(nested_columns, dict) and nested_columns is not None:\n",
    "            raise TypeError(\"nested_columns must be a dictionary\")\n",
    "        if not isinstance(list_value_columns, dict) and list_value_columns is not None:\n",
    "            raise TypeError(\"list_value_columns must be a dictionary\")\n",
    "        if not isinstance(remove_old_list_value_columns, bool):\n",
    "            raise TypeError(\"remove_old_list_value_columns must be a boolean\")\n",
    "        if not isinstance(split_df, bool):\n",
    "            raise TypeError(\"split_df must be a boolean\")\n",
    "        if not isinstance(column_to_split, str) and column_to_split is not None:\n",
    "            raise TypeError(\"column_to_split must be a string\")\n",
    "        if not isinstance(primary_foreign_key, str) and primary_foreign_key is not None:\n",
    "            raise TypeError(\"primary_foreign_key must be a string\")\n",
    "        \n",
    "        if split_df:\n",
    "            if not column_to_split or not primary_foreign_key:\n",
    "                raise ValueError(\"Both column_to_split and primary_foreign_key must be specified when split_df is True\")\n",
    "        \n",
    "        \n",
    "        super().__init__(df)\n",
    "        self._nested_columns = nested_columns\n",
    "        self._list_value_columns = list_value_columns\n",
    "        self._remove_old_list_value_columns = remove_old_list_value_columns\n",
    "        self._split_df = split_df\n",
    "        self._column_to_split = column_to_split\n",
    "        self._primary_foreign_key = primary_foreign_key\n",
    "        pyspark.sql.DataFrame.cleanList = cleanList\n",
    "\n",
    "    def _clean_nested_columns(self, nested_columns: Dict[str, pyspark.sql.Column]):\n",
    "        \"\"\"\n",
    "        Clean nested columns.\n",
    "        \"\"\"\n",
    "        for new_column, field_to_extract in nested_columns.items():\n",
    "            self._df = self._df.withColumn(new_column, field_to_extract)\n",
    "    \n",
    "    def _clean_list_value_columns(self, list_value_columns: Dict[str, str]):\n",
    "        \"\"\"\n",
    "        Clean list value columns.\n",
    "        \"\"\"\n",
    "        self._df = self._df.cleanList(list_value_columns, drop=self._remove_old_list_value_columns)\n",
    "        \n",
    "    def _split_dataframe(self, column_to_split: str, primary_foreign_key: str):\n",
    "        \"\"\"\n",
    "        Split the DataFrame.\n",
    "        \"\"\"\n",
    "        df1 = self._df.select(\"*\").drop(column_to_split)\n",
    "        df2 = self._df.select(primary_foreign_key, column_to_split)\n",
    "        self._df = (df1, df2)\n",
    "    \n",
    "    def clean(self):\n",
    "        \"\"\"\n",
    "        Clean the DataFrame.\n",
    "        \"\"\"\n",
    "        \n",
    "        if self._nested_columns:\n",
    "            # Clean nested columns\n",
    "            self._clean_nested_columns(self._nested_columns)\n",
    "\n",
    "        if self._list_value_columns:\n",
    "            # Clean list value columns\n",
    "            self._clean_list_value_columns(self._list_value_columns)\n",
    "\n",
    "        if self._split_df:\n",
    "            # Split dataframe\n",
    "            self._split_dataframe(self._column_to_split, self._primary_foreign_key)\n",
    "        \n",
    "        # Return the cleaned DataFrame\n",
    "        return self.get_dataframe()"
   ]
  },
  {
   "cell_type": "code",
   "execution_count": 66,
   "metadata": {},
   "outputs": [
    {
     "name": "stdout",
     "output_type": "stream",
     "text": [
      "100\n"
     ]
    }
   ],
   "source": [
    "card = SilverCleanDataframe(df=artists_df,\n",
    "                            nested_columns={\"external_urls\": col(\"external_urls.spotify\"), \"followers\": col(\"followers.total\"), \"image_url\": col(\"images\")[0].url},\n",
    "                            list_value_columns={\"genres\": \"genre\"},\n",
    "                            remove_old_list_value_columns=True,\n",
    "                            split_df=True,\n",
    "                            column_to_split=\"genre\",\n",
    "                            primary_foreign_key=\"id\")\n",
    "silver_cleaned_artist_df, silver_cleaned_artist_genres_df = card.clean()"
   ]
  },
  {
   "cell_type": "code",
   "execution_count": 36,
   "metadata": {},
   "outputs": [],
   "source": [
    "cald = SilverCleanDataframe(df=albums_df,\n",
    "                            nested_columns={\"external_urls\": col(\"external_urls.spotify\"), \"image_url\": col(\"images\")[0].url})\n",
    "silver_cleaned_album_df = cald.clean()"
   ]
  },
  {
   "cell_type": "code",
   "execution_count": 39,
   "metadata": {},
   "outputs": [],
   "source": [
    "ctrl = SilverCleanDataframe(df=tracks_df,\n",
    "                            nested_columns={\"external_urls\": col(\"external_urls.spotify\")})\n",
    "silver_cleaned_track_df = ctrl.clean()"
   ]
  },
  {
   "cell_type": "code",
   "execution_count": 42,
   "metadata": {},
   "outputs": [],
   "source": [
    "ctfd = SilverCleanDataframe(df=tracks_features_df)\n",
    "silver_cleaned_track_features_df = ctfd.clean()"
   ]
  },
  {
   "cell_type": "code",
   "execution_count": 46,
   "metadata": {},
   "outputs": [],
   "source": [
    "# Drop unnecessary columns\n",
    "silver_cleaned_artist_df = silver_cleaned_artist_df.drop(\"_id\", \"href\", \"images\", \"type\", \"uri\")\n",
    "silver_cleaned_album_df = silver_cleaned_album_df.drop(\"_id\", \"copyrights\", \"external_ids\", \"genres\", \"href\", \"images\", \"type\", \"uri\")\n",
    "silver_cleaned_track_df = silver_cleaned_track_df.drop(\"_id\", \"duration_ms\", \"external_ids\", \"href\", \"is_local\", \"type\", \"uri\")\n",
    "silver_cleaned_track_features_df = silver_cleaned_track_features_df.drop(\"_id\", \"type\", \"uri\", \"track_href\", \"analysis_url\")"
   ]
  },
  {
   "cell_type": "code",
   "execution_count": 62,
   "metadata": {},
   "outputs": [
    {
     "data": {
      "text/plain": [
       "DataFrame[external_urls: string, followers: bigint, id: string, name: string, popularity: bigint, image_url: string]"
      ]
     },
     "execution_count": 62,
     "metadata": {},
     "output_type": "execute_result"
    }
   ],
   "source": [
    "silver_cleaned_artist_df"
   ]
  },
  {
   "cell_type": "code",
   "execution_count": 56,
   "metadata": {},
   "outputs": [],
   "source": [
    "# Drop duplicates\n",
    "silver_cleaned_artist_df = silver_cleaned_artist_df.dropDuplicates(subset=[\"id\", \"\"])"
   ]
  },
  {
   "cell_type": "code",
   "execution_count": 58,
   "metadata": {},
   "outputs": [
    {
     "data": {
      "text/plain": [
       "96"
      ]
     },
     "execution_count": 58,
     "metadata": {},
     "output_type": "execute_result"
    }
   ],
   "source": [
    "silver_cleaned_artist_df.count()"
   ]
  }
 ],
 "metadata": {
  "kernelspec": {
   "display_name": "Python 3 (ipykernel)",
   "language": "python",
   "name": "python3"
  },
  "language_info": {
   "codemirror_mode": {
    "name": "ipython",
    "version": 3
   },
   "file_extension": ".py",
   "mimetype": "text/x-python",
   "name": "python",
   "nbconvert_exporter": "python",
   "pygments_lexer": "ipython3",
   "version": "3.11.6"
  }
 },
 "nbformat": 4,
 "nbformat_minor": 4
}
