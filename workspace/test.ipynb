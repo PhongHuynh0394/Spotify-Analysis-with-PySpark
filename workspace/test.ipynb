{
 "cells": [
  {
   "cell_type": "code",
   "execution_count": 1,
   "metadata": {},
   "outputs": [
    {
     "name": "stderr",
     "output_type": "stream",
     "text": [
      "23/12/04 15:45:02 WARN Utils: Your hostname, tntuan0910 resolves to a loopback address: 127.0.1.1; using 192.168.1.9 instead (on interface wlp0s20f3)\n",
      "23/12/04 15:45:02 WARN Utils: Set SPARK_LOCAL_IP if you need to bind to another address\n",
      "Setting default log level to \"WARN\".\n",
      "To adjust logging level use sc.setLogLevel(newLevel). For SparkR, use setLogLevel(newLevel).\n",
      "23/12/04 15:45:03 WARN NativeCodeLoader: Unable to load native-hadoop library for your platform... using builtin-java classes where applicable\n",
      "23/12/04 15:45:04 WARN Utils: Service 'SparkUI' could not bind on port 4040. Attempting port 4041.\n",
      "                                                                                \r"
     ]
    },
    {
     "name": "stdout",
     "output_type": "stream",
     "text": [
      "+-------+-------+\n",
      "|   name|numbers|\n",
      "+-------+-------+\n",
      "|  Alice|  false|\n",
      "|    Bob|  false|\n",
      "|Charlie|  false|\n",
      "+-------+-------+\n",
      "\n"
     ]
    }
   ],
   "source": [
    "from pyspark.sql import DataFrame\n",
    "\n",
    "# Define the cleanList method\n",
    "def cleanList(self, column_name):\n",
    "    # Implement the logic to clean the list in the specified column\n",
    "    # For example, let's assume we want to remove any null values from the list\n",
    "    return self.withColumn(column_name, self[column_name].isNull())\n",
    "\n",
    "# Create a class A\n",
    "class A:\n",
    "    def __init__(self, dataframe):\n",
    "        # Extend the DataFrame class with the cleanList method\n",
    "        DataFrame.cleanList = cleanList\n",
    "\n",
    "        self.dataframe = dataframe\n",
    "\n",
    "    def clean_list(self, column_name):\n",
    "        self.dataframe = self.dataframe.cleanList(column_name)\n",
    "        return self.dataframe\n",
    "\n",
    "# Test the cleanList method\n",
    "from pyspark.sql import SparkSession\n",
    "\n",
    "# Create a SparkSession\n",
    "spark = SparkSession.builder.getOrCreate()\n",
    "\n",
    "# Create a sample DataFrame\n",
    "data = [(\"Alice\", [1, None, 3]), (\"Bob\", [4, 5, 6]), (\"Charlie\", [None, 8, 9])]\n",
    "df = spark.createDataFrame(data, [\"name\", \"numbers\"])\n",
    "\n",
    "# Create an instance of class A\n",
    "a = A(df)\n",
    "\n",
    "# Call the cleanList method from the constructor\n",
    "cleaned_df = a.clean_list(\"numbers\")\n",
    "\n",
    "# Show the cleaned DataFrame\n",
    "cleaned_df.show()"
   ]
  },
  {
   "cell_type": "code",
   "execution_count": 2,
   "metadata": {},
   "outputs": [],
   "source": [
    "# - \"9047:9047\"   # Web UI (HTTP)\n",
    "# - \"31010:31010\" # ODBC/JDBC clients\n",
    "# - \"32010:32010\" # Apache Arrow Flight clients\n",
    "import json\n",
    "import requests\n",
    "import time\n",
    "import pandas as pd\n",
    "\n",
    "username = 'dremio'\n",
    "password = 'dremio123'\n",
    "headers = {'content-type': 'application/json'}\n",
    "host = 'localhost'\n",
    "dremioServer = f'http://{host}:9047'\n",
    "\n",
    "def apiGet(endpoint):\n",
    "    return json.loads(requests.get('{server}/api/v3/{endpoint}'\n",
    "                                   .format(server=dremioServer, endpoint=endpoint), headers=headers).text)\n",
    "\n",
    "def apiPost(endpoint, body=None):\n",
    "    text = requests.post('{server}/api/v3/{endpoint}'\n",
    "                        .format(server=dremioServer, endpoint=endpoint), headers=headers, data=json.dumps(body)).text\n",
    "\n",
    "    # a post may return no data\n",
    "    if text:\n",
    "        return json.loads(text)\n",
    "    else:\n",
    "        return None\n",
    "\n",
    "def apiPut(endpoint, body=None):\n",
    "    return requests.put('{server}/api/v3/{endpoint}'.format(server=dremioServer, endpoint=endpoint), headers=headers, data=json.dumps(body)).text\n",
    "\n",
    "def apiDelete(endpoint):\n",
    "    return requests.delete('{server}/api/v3/{endpoint}'.format(server=dremioServer, endpoint=endpoint), headers=headers)\n",
    "\n",
    "def login(username, password):\n",
    "    # we login using the old api for now\n",
    "    loginData = {'userName': username, 'password': password}\n",
    "    headers = {'content-type': 'application/json'}\n",
    "    response = requests.post(f'{dremioServer}/apiv2/login', headers=headers, data=json.dumps(loginData))\n",
    "    data = json.loads(response.text)\n",
    "\n",
    "    # retrieve the login token\n",
    "    token = data['token']\n",
    "    return {'content-type': 'application/json', 'authorization': '_dremio{authToken}'.format(authToken=token)}\n",
    "\n",
    "def querySQL(query):\n",
    "  queryResponse = apiPost('sql', body={'sql': query})\n",
    "  jobid = queryResponse['id']\n",
    "  # result = apiGet('job/{}/results'.format(jobid)) \n",
    "  return jobid\n",
    "\n",
    "headers = login(username, password)"
   ]
  },
  {
   "cell_type": "code",
   "execution_count": null,
   "metadata": {},
   "outputs": [],
   "source": []
  },
  {
   "cell_type": "code",
   "execution_count": 5,
   "metadata": {},
   "outputs": [
    {
     "name": "stdout",
     "output_type": "stream",
     "text": [
      "Waiting for the job to complete...\n",
      "PLANNING\n",
      "RUNNING\n"
     ]
    },
    {
     "data": {
      "text/html": [
       "<div>\n",
       "<style scoped>\n",
       "    .dataframe tbody tr th:only-of-type {\n",
       "        vertical-align: middle;\n",
       "    }\n",
       "\n",
       "    .dataframe tbody tr th {\n",
       "        vertical-align: top;\n",
       "    }\n",
       "\n",
       "    .dataframe thead th {\n",
       "        text-align: right;\n",
       "    }\n",
       "</style>\n",
       "<table border=\"1\" class=\"dataframe\">\n",
       "  <thead>\n",
       "    <tr style=\"text-align: right;\">\n",
       "      <th></th>\n",
       "      <th>EXPR$0</th>\n",
       "    </tr>\n",
       "  </thead>\n",
       "  <tbody>\n",
       "    <tr>\n",
       "      <th>0</th>\n",
       "      <td>9375</td>\n",
       "    </tr>\n",
       "  </tbody>\n",
       "</table>\n",
       "</div>"
      ],
      "text/plain": [
       "   EXPR$0\n",
       "0    9375"
      ]
     },
     "execution_count": 5,
     "metadata": {},
     "output_type": "execute_result"
    }
   ],
   "source": [
    "location = 'home.albums'\n",
    "query = f\"SELECT count(*) FROM {location}\"\n",
    "jobid = querySQL(query)\n",
    "print('Waiting for the job to complete...')\n",
    "job_status = requests.request(\"GET\", dremioServer + \"/api/v3/job/\" +jobid, headers=headers).json()['jobState']\n",
    "\n",
    "while job_status != 'COMPLETED':\n",
    "    time.sleep(1)\n",
    "    print(job_status)\n",
    "    job_status = requests.request(\"GET\", dremioServer + \"/api/v3/job/\" +jobid, headers=headers).json()['jobState']\n",
    "\n",
    "response = requests.request(\"GET\", dremioServer + f\"/api/v3/job/\"+jobid+\"/results\", headers=headers)\n",
    "df = pd.DataFrame(response.json()['rows'])\n",
    "df\n",
    "\n"
   ]
  },
  {
   "cell_type": "code",
   "execution_count": 8,
   "metadata": {},
   "outputs": [
    {
     "name": "stderr",
     "output_type": "stream",
     "text": [
      "/tmp/ipykernel_9927/3045977396.py:8: SADeprecationWarning: The dbapi() classmethod on dialect classes has been renamed to import_dbapi().  Implement an import_dbapi() classmethod directly on class <class 'sqlalchemy_dremio.flight.DremioDialect_flight'> to remove this warning; the old .dbapi() classmethod may be maintained for backwards compatibility.\n",
      "  engine = create_engine(path)\n"
     ]
    },
    {
     "ename": "AttributeError",
     "evalue": "'Engine' object has no attribute 'execute'",
     "output_type": "error",
     "traceback": [
      "\u001b[0;31m---------------------------------------------------------------------------\u001b[0m",
      "\u001b[0;31mAttributeError\u001b[0m                            Traceback (most recent call last)",
      "\u001b[1;32m/home/phonghuynh/Desktop/Tech/project_school/workspace/test.ipynb Cell 4\u001b[0m line \u001b[0;36m9\n\u001b[1;32m      <a href='vscode-notebook-cell://wsl%2Bubuntu-22.04/home/phonghuynh/Desktop/Tech/project_school/workspace/test.ipynb#W3sdnNjb2RlLXJlbW90ZQ%3D%3D?line=6'>7</a>\u001b[0m path \u001b[39m=\u001b[39m \u001b[39mf\u001b[39m\u001b[39m\"\u001b[39m\u001b[39mdremio+flight://\u001b[39m\u001b[39m{\u001b[39;00musername\u001b[39m}\u001b[39;00m\u001b[39m:\u001b[39m\u001b[39m{\u001b[39;00mpassword\u001b[39m}\u001b[39;00m\u001b[39m@\u001b[39m\u001b[39m{\u001b[39;00mhost\u001b[39m}\u001b[39;00m\u001b[39m:\u001b[39m\u001b[39m{\u001b[39;00mport\u001b[39m}\u001b[39;00m\u001b[39m/home\u001b[39m\u001b[39m\"\u001b[39m\n\u001b[1;32m      <a href='vscode-notebook-cell://wsl%2Bubuntu-22.04/home/phonghuynh/Desktop/Tech/project_school/workspace/test.ipynb#W3sdnNjb2RlLXJlbW90ZQ%3D%3D?line=7'>8</a>\u001b[0m engine \u001b[39m=\u001b[39m create_engine(path)\n\u001b[0;32m----> <a href='vscode-notebook-cell://wsl%2Bubuntu-22.04/home/phonghuynh/Desktop/Tech/project_school/workspace/test.ipynb#W3sdnNjb2RlLXJlbW90ZQ%3D%3D?line=8'>9</a>\u001b[0m result \u001b[39m=\u001b[39m engine\u001b[39m.\u001b[39;49mexecute(\u001b[39m'\u001b[39m\u001b[39mSELECT * FROM albums\u001b[39m\u001b[39m'\u001b[39m)\u001b[39m.\u001b[39mfetchall()\n\u001b[1;32m     <a href='vscode-notebook-cell://wsl%2Bubuntu-22.04/home/phonghuynh/Desktop/Tech/project_school/workspace/test.ipynb#W3sdnNjb2RlLXJlbW90ZQ%3D%3D?line=9'>10</a>\u001b[0m \u001b[39mprint\u001b[39m(result)\n",
      "\u001b[0;31mAttributeError\u001b[0m: 'Engine' object has no attribute 'execute'"
     ]
    },
    {
     "name": "stderr",
     "output_type": "stream",
     "text": [
      "E1206 22:39:16.039064152   11548 ssl_transport_security.cc:1501]       Handshake failed with fatal error SSL_ERROR_SSL: error:0A00010B:SSL routines::wrong version number.\n",
      "E1206 22:39:51.038952017   11548 ssl_transport_security.cc:1501]       Handshake failed with fatal error SSL_ERROR_SSL: error:0A00010B:SSL routines::wrong version number.\n",
      "E1206 22:39:56.039275963   11548 ssl_transport_security.cc:1501]       Handshake failed with fatal error SSL_ERROR_SSL: error:0A00010B:SSL routines::wrong version number.\n",
      "E1206 22:40:26.039051170   11548 ssl_transport_security.cc:1501]       Handshake failed with fatal error SSL_ERROR_SSL: error:0A00010B:SSL routines::wrong version number.\n",
      "E1206 22:40:31.039195498   11548 ssl_transport_security.cc:1501]       Handshake failed with fatal error SSL_ERROR_SSL: error:0A00010B:SSL routines::wrong version number.\n",
      "E1206 22:41:46.038647787   11548 ssl_transport_security.cc:1501]       Handshake failed with fatal error SSL_ERROR_SSL: error:0A00010B:SSL routines::wrong version number.\n",
      "E1206 22:41:51.038423800   11548 ssl_transport_security.cc:1501]       Handshake failed with fatal error SSL_ERROR_SSL: error:0A00010B:SSL routines::wrong version number.\n",
      "E1206 22:44:01.036886258   11548 ssl_transport_security.cc:1501]       Handshake failed with fatal error SSL_ERROR_SSL: error:0A00010B:SSL routines::wrong version number.\n",
      "E1206 22:44:06.036936209   11548 ssl_transport_security.cc:1501]       Handshake failed with fatal error SSL_ERROR_SSL: error:0A00010B:SSL routines::wrong version number.\n",
      "E1206 22:45:36.037332912   11548 ssl_transport_security.cc:1501]       Handshake failed with fatal error SSL_ERROR_SSL: error:0A00010B:SSL routines::wrong version number.\n",
      "E1206 22:46:11.036352861   11548 ssl_transport_security.cc:1501]       Handshake failed with fatal error SSL_ERROR_SSL: error:0A00010B:SSL routines::wrong version number.\n"
     ]
    }
   ],
   "source": [
    "from sqlalchemy import create_engine\n",
    "username = 'dremio'\n",
    "password = 'dremio123'\n",
    "headers = {'content-type': 'application/json'}\n",
    "host = 'localhost'\n",
    "port = 32010\n",
    "path = f\"dremio+flight://{username}:{password}@{host}:{port}/home\"\n",
    "engine = create_engine(path)\n",
    "result = engine.execute('SELECT * FROM albums').fetchall()\n",
    "print(result)"
   ]
  }
 ],
 "metadata": {
  "kernelspec": {
   "display_name": "Python 3 (ipykernel)",
   "language": "python",
   "name": "python3"
  },
  "language_info": {
   "codemirror_mode": {
    "name": "ipython",
    "version": 3
   },
   "file_extension": ".py",
   "mimetype": "text/x-python",
   "name": "python",
   "nbconvert_exporter": "python",
   "pygments_lexer": "ipython3",
   "version": "3.9.18"
  }
 },
 "nbformat": 4,
 "nbformat_minor": 4
}
