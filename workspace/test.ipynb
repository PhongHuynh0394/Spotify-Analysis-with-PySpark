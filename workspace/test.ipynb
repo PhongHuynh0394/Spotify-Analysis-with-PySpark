{
 "cells": [
  {
   "cell_type": "code",
   "execution_count": 1,
   "metadata": {},
   "outputs": [
    {
     "name": "stderr",
     "output_type": "stream",
     "text": [
      "23/12/04 15:45:02 WARN Utils: Your hostname, tntuan0910 resolves to a loopback address: 127.0.1.1; using 192.168.1.9 instead (on interface wlp0s20f3)\n",
      "23/12/04 15:45:02 WARN Utils: Set SPARK_LOCAL_IP if you need to bind to another address\n",
      "Setting default log level to \"WARN\".\n",
      "To adjust logging level use sc.setLogLevel(newLevel). For SparkR, use setLogLevel(newLevel).\n",
      "23/12/04 15:45:03 WARN NativeCodeLoader: Unable to load native-hadoop library for your platform... using builtin-java classes where applicable\n",
      "23/12/04 15:45:04 WARN Utils: Service 'SparkUI' could not bind on port 4040. Attempting port 4041.\n",
      "                                                                                \r"
     ]
    },
    {
     "name": "stdout",
     "output_type": "stream",
     "text": [
      "+-------+-------+\n",
      "|   name|numbers|\n",
      "+-------+-------+\n",
      "|  Alice|  false|\n",
      "|    Bob|  false|\n",
      "|Charlie|  false|\n",
      "+-------+-------+\n",
      "\n"
     ]
    }
   ],
   "source": [
    "from pyspark.sql import DataFrame\n",
    "\n",
    "# Define the cleanList method\n",
    "def cleanList(self, column_name):\n",
    "    # Implement the logic to clean the list in the specified column\n",
    "    # For example, let's assume we want to remove any null values from the list\n",
    "    return self.withColumn(column_name, self[column_name].isNull())\n",
    "\n",
    "# Create a class A\n",
    "class A:\n",
    "    def __init__(self, dataframe):\n",
    "        # Extend the DataFrame class with the cleanList method\n",
    "        DataFrame.cleanList = cleanList\n",
    "\n",
    "        self.dataframe = dataframe\n",
    "\n",
    "    def clean_list(self, column_name):\n",
    "        self.dataframe = self.dataframe.cleanList(column_name)\n",
    "        return self.dataframe\n",
    "\n",
    "# Test the cleanList method\n",
    "from pyspark.sql import SparkSession\n",
    "\n",
    "# Create a SparkSession\n",
    "spark = SparkSession.builder.getOrCreate()\n",
    "\n",
    "# Create a sample DataFrame\n",
    "data = [(\"Alice\", [1, None, 3]), (\"Bob\", [4, 5, 6]), (\"Charlie\", [None, 8, 9])]\n",
    "df = spark.createDataFrame(data, [\"name\", \"numbers\"])\n",
    "\n",
    "# Create an instance of class A\n",
    "a = A(df)\n",
    "\n",
    "# Call the cleanList method from the constructor\n",
    "cleaned_df = a.clean_list(\"numbers\")\n",
    "\n",
    "# Show the cleaned DataFrame\n",
    "cleaned_df.show()"
   ]
  }
 ],
 "metadata": {
  "kernelspec": {
   "display_name": "Python 3 (ipykernel)",
   "language": "python",
   "name": "python3"
  },
  "language_info": {
   "codemirror_mode": {
    "name": "ipython",
    "version": 3
   },
   "file_extension": ".py",
   "mimetype": "text/x-python",
   "name": "python",
   "nbconvert_exporter": "python",
   "pygments_lexer": "ipython3",
   "version": "3.11.6"
  }
 },
 "nbformat": 4,
 "nbformat_minor": 4
}
