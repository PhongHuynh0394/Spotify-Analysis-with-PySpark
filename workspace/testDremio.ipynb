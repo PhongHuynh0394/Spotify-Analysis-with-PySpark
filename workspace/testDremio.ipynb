{
 "cells": [
  {
   "cell_type": "code",
   "execution_count": null,
   "metadata": {},
   "outputs": [],
   "source": [
    "#!pip install pyarrow\n",
    "\n",
    "import pyarrow\n",
    "from pyarrow import flight\n",
    "import pandas as pd\n",
    "\n",
    "host = 'localhost'\n",
    "port = '32010'\n",
    "uid = 'tntuan0910'\n",
    "pwd = 'Hoang999@'\n",
    "\n",
    "#Connect\n",
    "client = flight.FlightClient('grpc+tcp://' + host + ':' + port)\n",
    "\n",
    "#Authenticate\n",
    "bearer_token = client.authenticate_basic_token(uid, pwd) \n",
    "options = flight.FlightCallOptions(headers=[bearer_token])\n",
    "\n",
    "#Query\n",
    "sql= \"SELECT * FROM home.track WHERE artist_id = '3TVXtAsR1Inumwj472S9r4'\"\n",
    "info = client.get_flight_info(flight.FlightDescriptor.for_command(sql),options)\n",
    "reader = client.do_get(info.endpoints[0].ticket, options)\n",
    "\n",
    "#Print\n",
    "df=reader.read_all().to_pandas()\n",
    "df"
   ]
  }
 ],
 "metadata": {
  "kernelspec": {
   "display_name": "base",
   "language": "python",
   "name": "python3"
  },
  "language_info": {
   "codemirror_mode": {
    "name": "ipython",
    "version": 3
   },
   "file_extension": ".py",
   "mimetype": "text/x-python",
   "name": "python",
   "nbconvert_exporter": "python",
   "pygments_lexer": "ipython3",
   "version": "3.11.5"
  }
 },
 "nbformat": 4,
 "nbformat_minor": 2
}
