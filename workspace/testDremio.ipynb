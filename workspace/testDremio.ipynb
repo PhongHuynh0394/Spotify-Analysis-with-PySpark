{
 "cells": [
  {
   "cell_type": "code",
   "execution_count": 5,
   "metadata": {},
   "outputs": [],
   "source": [
    "from dremio_client import init\n",
    "import pandas as pd"
   ]
  },
  {
   "cell_type": "code",
   "execution_count": 6,
   "metadata": {},
   "outputs": [],
   "source": [
    "client = init(simple_client=True)"
   ]
  },
  {
   "cell_type": "code",
   "execution_count": 7,
   "metadata": {},
   "outputs": [],
   "source": [
    "results = client.query(\"select * from @tntuan0910.titanic limit 10\")"
   ]
  },
  {
   "cell_type": "code",
   "execution_count": 8,
   "metadata": {},
   "outputs": [
    {
     "ename": "DremioException",
     "evalue": "job failed {'jobState': 'FAILED', 'errorMessage': 'Lexical error at line 1, column 15.  Encountered: \"@\" (64), after : \"\"', 'startedAt': '2023-12-05T17:17:02.785Z', 'endedAt': '2023-12-05T17:17:02.796Z', 'queryType': 'REST', 'queueName': '', 'queueId': '', 'cancellationReason': ''}: None",
     "output_type": "error",
     "traceback": [
      "\u001b[0;31m---------------------------------------------------------------------------\u001b[0m",
      "\u001b[0;31mDremioException\u001b[0m                           Traceback (most recent call last)",
      "\u001b[1;32m/home/tuan/Workspace/pythonDS/workspace/testDremio.ipynb Cell 4\u001b[0m line \u001b[0;36m1\n\u001b[0;32m----> <a href='vscode-notebook-cell:/home/tuan/Workspace/pythonDS/workspace/testDremio.ipynb#W2sZmlsZQ%3D%3D?line=0'>1</a>\u001b[0m pd\u001b[39m.\u001b[39;49mDataFrame(results)\n",
      "File \u001b[0;32m~/miniconda3/lib/python3.11/site-packages/pandas/core/frame.py:798\u001b[0m, in \u001b[0;36mDataFrame.__init__\u001b[0;34m(self, data, index, columns, dtype, copy)\u001b[0m\n\u001b[1;32m    796\u001b[0m         data \u001b[39m=\u001b[39m np\u001b[39m.\u001b[39masarray(data)\n\u001b[1;32m    797\u001b[0m     \u001b[39melse\u001b[39;00m:\n\u001b[0;32m--> 798\u001b[0m         data \u001b[39m=\u001b[39m \u001b[39mlist\u001b[39;49m(data)\n\u001b[1;32m    799\u001b[0m \u001b[39mif\u001b[39;00m \u001b[39mlen\u001b[39m(data) \u001b[39m>\u001b[39m \u001b[39m0\u001b[39m:\n\u001b[1;32m    800\u001b[0m     \u001b[39mif\u001b[39;00m is_dataclass(data[\u001b[39m0\u001b[39m]):\n",
      "File \u001b[0;32m~/miniconda3/lib/python3.11/site-packages/dremio_client/util/query.py:77\u001b[0m, in \u001b[0;36mrun\u001b[0;34m(token, base_url, query, context, sleep_time, ssl_verify)\u001b[0m\n\u001b[1;32m     74\u001b[0m         \u001b[39mbreak\u001b[39;00m\n\u001b[1;32m     75\u001b[0m     \u001b[39mif\u001b[39;00m state[\u001b[39m\"\u001b[39m\u001b[39mjobState\u001b[39m\u001b[39m\"\u001b[39m] \u001b[39min\u001b[39;00m {\u001b[39m\"\u001b[39m\u001b[39mCANCELED\u001b[39m\u001b[39m\"\u001b[39m, \u001b[39m\"\u001b[39m\u001b[39mFAILED\u001b[39m\u001b[39m\"\u001b[39m}:\n\u001b[1;32m     76\u001b[0m         \u001b[39m# todo add info about why did it fail\u001b[39;00m\n\u001b[0;32m---> 77\u001b[0m         \u001b[39mraise\u001b[39;00m DremioException(\u001b[39m\"\u001b[39m\u001b[39mjob failed \u001b[39m\u001b[39m\"\u001b[39m \u001b[39m+\u001b[39m \u001b[39mstr\u001b[39m(state), \u001b[39mNone\u001b[39;00m)\n\u001b[1;32m     78\u001b[0m     time\u001b[39m.\u001b[39msleep(sleep_time)\n\u001b[1;32m     79\u001b[0m count \u001b[39m=\u001b[39m \u001b[39m0\u001b[39m\n",
      "\u001b[0;31mDremioException\u001b[0m: job failed {'jobState': 'FAILED', 'errorMessage': 'Lexical error at line 1, column 15.  Encountered: \"@\" (64), after : \"\"', 'startedAt': '2023-12-05T17:17:02.785Z', 'endedAt': '2023-12-05T17:17:02.796Z', 'queryType': 'REST', 'queueName': '', 'queueId': '', 'cancellationReason': ''}: None"
     ]
    }
   ],
   "source": [
    "pd.DataFrame(results)"
   ]
  }
 ],
 "metadata": {
  "kernelspec": {
   "display_name": "base",
   "language": "python",
   "name": "python3"
  },
  "language_info": {
   "codemirror_mode": {
    "name": "ipython",
    "version": 3
   },
   "file_extension": ".py",
   "mimetype": "text/x-python",
   "name": "python",
   "nbconvert_exporter": "python",
   "pygments_lexer": "ipython3",
   "version": "3.11.5"
  }
 },
 "nbformat": 4,
 "nbformat_minor": 2
}
