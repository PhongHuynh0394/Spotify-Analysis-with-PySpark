{
 "cells": [
  {
   "cell_type": "code",
   "execution_count": 1,
   "id": "aba38431-3dab-4761-bfd5-1a6def1525b7",
   "metadata": {},
   "outputs": [],
   "source": [
    "from pyspark.sql import SparkSession\n",
    "from pyspark import SparkConf\n",
    "from pyspark.sql.types import *\n",
    "import pandas as pd\n",
    "from datetime import datetime"
   ]
  },
  {
   "cell_type": "code",
   "execution_count": 2,
   "id": "7a354bf8-1900-41b0-8c71-96901e9ed070",
   "metadata": {},
   "outputs": [],
   "source": [
    "from contextlib import contextmanager\n",
    "\n",
    "@contextmanager\n",
    "def SparkIO(conf: SparkConf = SparkConf()):\n",
    "    app_name = conf.get(\"spark.app.name\")\n",
    "    master = conf.get(\"spark.master\")\n",
    "    print(f'Create SparkSession app {app_name} with {master} mode')\n",
    "    spark = SparkSession.builder.config(conf=conf).getOrCreate()\n",
    "    try:\n",
    "        yield spark\n",
    "    finally:\n",
    "        print(f'Stop SparkSession app {app_name}')\n",
    "        spark.stop()\n"
   ]
  },
  {
   "cell_type": "code",
   "execution_count": 5,
   "id": "0957e5e9-254f-4ea6-9fe9-c566ffdf6ce3",
   "metadata": {},
   "outputs": [],
   "source": [
    "table_names = [\"albums_data\", \"artists_data\", \"tracks_data\", \"tracks_features_data\"]"
   ]
  },
  {
   "cell_type": "code",
   "execution_count": 6,
   "id": "f32e5b97-59c4-421f-b2d1-b75ffb92b78d",
   "metadata": {},
   "outputs": [
    {
     "name": "stdout",
     "output_type": "stream",
     "text": [
      "Create SparkSession app ELT-app-2023-11-27 08:27:58.462619 with local[*] mode\n",
      "Stop SparkSession app ELT-app-2023-11-27 08:27:58.462619\n"
     ]
    }
   ],
   "source": [
    "conf = (SparkConf().setAppName(\"ELT-app-{}\".format(datetime.today()))\n",
    "        .set(\"spark.executor.memory\", \"2g\")\n",
    "        .setMaster(\"local[*]\"))\n",
    "\n",
    "with SparkIO(conf) as spark:\n",
    "    hdfs_uri1 = f\"hdfs://namenode:8020/bronze_layer/{table_names[0]}.parquet\"\n",
    "    hdfs_uri2 = f\"hdfs://namenode:8020/bronze_layer/{table_names[1]}.parquet\"\n",
    "    hdfs_uri3 = f\"hdfs://namenode:8020/bronze_layer/{table_names[2]}.parquet\"\n",
    "    hdfs_uri4 = f\"hdfs://namenode:8020/bronze_layer/{table_names[3]}.parquet\"\n",
    "    albums = spark.read.parquet(hdfs_uri1, header=True, inferSchema=True).toPandas()\n",
    "    artist = spark.read.parquet(hdfs_uri2, header=True, inferSchema=True).toPandas()\n",
    "    track = spark.read.parquet(hdfs_uri3, header=True, inferSchema=True).toPandas()\n",
    "    track_feat = spark.read.parquet(hdfs_uri4, header=True, inferSchema=True).toPandas()"
   ]
  },
  {
   "cell_type": "code",
   "execution_count": 22,
   "id": "748491a6-2411-45a6-b23b-26b8cb221509",
   "metadata": {},
   "outputs": [
    {
     "data": {
      "text/plain": [
       "album_group               object\n",
       "album_type                object\n",
       "artists                   object\n",
       "available_markets         object\n",
       "external_urls             object\n",
       "href                      object\n",
       "id                        object\n",
       "images                    object\n",
       "name                      object\n",
       "release_date              object\n",
       "release_date_precision    object\n",
       "total_tracks               int64\n",
       "type                      object\n",
       "uri                       object\n",
       "dtype: object"
      ]
     },
     "execution_count": 22,
     "metadata": {},
     "output_type": "execute_result"
    }
   ],
   "source": [
    "albums.dtypes"
   ]
  },
  {
   "cell_type": "markdown",
   "id": "56670baf-c88b-433f-92d5-d9a631b9853a",
   "metadata": {},
   "source": [
    "requirements: silver layer:\n",
    "1. tách cột đưa bảng về dạng chuẩn tất cả các bảng\n",
    "2. drop columns không cần thiếc\n",
    "3. format type (spark)"
   ]
  },
  {
   "cell_type": "code",
   "execution_count": 28,
   "id": "a4b10c93-4d2a-4f9e-b8c5-b3a21e0bc44a",
   "metadata": {},
   "outputs": [
    {
     "data": {
      "text/html": [
       "<div>\n",
       "<style scoped>\n",
       "    .dataframe tbody tr th:only-of-type {\n",
       "        vertical-align: middle;\n",
       "    }\n",
       "\n",
       "    .dataframe tbody tr th {\n",
       "        vertical-align: top;\n",
       "    }\n",
       "\n",
       "    .dataframe thead th {\n",
       "        text-align: right;\n",
       "    }\n",
       "</style>\n",
       "<table border=\"1\" class=\"dataframe\">\n",
       "  <thead>\n",
       "    <tr style=\"text-align: right;\">\n",
       "      <th></th>\n",
       "      <th>album_group</th>\n",
       "      <th>album_type</th>\n",
       "      <th>artists</th>\n",
       "      <th>available_markets</th>\n",
       "      <th>external_urls</th>\n",
       "      <th>href</th>\n",
       "      <th>id</th>\n",
       "      <th>images</th>\n",
       "      <th>name</th>\n",
       "      <th>release_date</th>\n",
       "      <th>release_date_precision</th>\n",
       "      <th>total_tracks</th>\n",
       "      <th>type</th>\n",
       "      <th>uri</th>\n",
       "    </tr>\n",
       "  </thead>\n",
       "  <tbody>\n",
       "    <tr>\n",
       "      <th>0</th>\n",
       "      <td>album</td>\n",
       "      <td>album</td>\n",
       "      <td>[{'name': None, 'id': None, 'href': None, 'typ...</td>\n",
       "      <td>[AR, AU, AT, BE, BO, BR, BG, CL, CO, CR, CY, C...</td>\n",
       "      <td>{'spotify': 'https://open.spotify.com/album/6I...</td>\n",
       "      <td>https://api.spotify.com/v1/albums/6IfrO26rrFYA...</td>\n",
       "      <td>6IfrO26rrFYAEbKLPjYZF0</td>\n",
       "      <td>[{'width': 640, 'url': None, 'height': 640}, {...</td>\n",
       "      <td>Live in Tokyo, Japan '99</td>\n",
       "      <td>2020-11-20</td>\n",
       "      <td>day</td>\n",
       "      <td>21</td>\n",
       "      <td>album</td>\n",
       "      <td>spotify:album:6IfrO26rrFYAEbKLPjYZF0</td>\n",
       "    </tr>\n",
       "  </tbody>\n",
       "</table>\n",
       "</div>"
      ],
      "text/plain": [
       "  album_group album_type                                            artists  \\\n",
       "0       album      album  [{'name': None, 'id': None, 'href': None, 'typ...   \n",
       "\n",
       "                                   available_markets  \\\n",
       "0  [AR, AU, AT, BE, BO, BR, BG, CL, CO, CR, CY, C...   \n",
       "\n",
       "                                       external_urls  \\\n",
       "0  {'spotify': 'https://open.spotify.com/album/6I...   \n",
       "\n",
       "                                                href                      id  \\\n",
       "0  https://api.spotify.com/v1/albums/6IfrO26rrFYA...  6IfrO26rrFYAEbKLPjYZF0   \n",
       "\n",
       "                                              images  \\\n",
       "0  [{'width': 640, 'url': None, 'height': 640}, {...   \n",
       "\n",
       "                       name release_date release_date_precision  total_tracks  \\\n",
       "0  Live in Tokyo, Japan '99   2020-11-20                    day            21   \n",
       "\n",
       "    type                                   uri  \n",
       "0  album  spotify:album:6IfrO26rrFYAEbKLPjYZF0  "
      ]
     },
     "execution_count": 28,
     "metadata": {},
     "output_type": "execute_result"
    }
   ],
   "source": [
    "albums.head(1)"
   ]
  }
 ],
 "metadata": {
  "kernelspec": {
   "display_name": "Python 3 (ipykernel)",
   "language": "python",
   "name": "python3"
  },
  "language_info": {
   "codemirror_mode": {
    "name": "ipython",
    "version": 3
   },
   "file_extension": ".py",
   "mimetype": "text/x-python",
   "name": "python",
   "nbconvert_exporter": "python",
   "pygments_lexer": "ipython3",
   "version": "3.11.6"
  }
 },
 "nbformat": 4,
 "nbformat_minor": 5
}
