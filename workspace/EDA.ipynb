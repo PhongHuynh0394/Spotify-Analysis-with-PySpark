{
 "cells": [
  {
   "cell_type": "markdown",
   "id": "e2409568",
   "metadata": {},
   "source": [
    "This notebook is a summary of the ETL process for the project. The data has been crawled and stored in MongoDB. The ETL process starts by reading the data from MongoDB and storing it in HDFS. We process and transform the data through three layers: Bronze, Silver, and Gold. Afterwards, we perform EDA (Exploratory Data Analysis) and use the data to build a Spotify Recommendation System model.\n",
    "\n",
    "For more details, please visit our repo: [**Spotify Analysis with PySpark**](https://github.com/PhongHuynh0394/Spotify-Analysis-with-PySpark).\n",
    "\n",
    "Link: https://github.com/PhongHuynh0394/Spotify-Analysis-with-PySpark"
   ]
  },
  {
   "cell_type": "markdown",
   "id": "534a4c3f-59bb-4895-a051-514c81d4683b",
   "metadata": {},
   "source": [
    "# ETL (Extract, Transform, Load)"
   ]
  },
  {
   "cell_type": "markdown",
   "id": "31d39494-9784-425b-a683-876e1c738242",
   "metadata": {},
   "source": [
    "## Import Module"
   ]
  },
  {
   "cell_type": "code",
   "execution_count": 130,
   "id": "da62edbb-ba3e-4caa-9193-6e4ef451c42b",
   "metadata": {},
   "outputs": [],
   "source": [
    "import os\n",
    "import pyspark\n",
    "import seaborn as sns\n",
    "import pandas as pd\n",
    "import pyarrow\n",
    "import seaborn as sns\n",
    "import matplotlib.pyplot as plt\n",
    "from pyspark.sql import SparkSession\n",
    "from pyspark import SparkConf\n",
    "from pyspark.sql.types import *\n",
    "from pyspark.sql.functions import collect_list, col, concat_ws, substring\n",
    "from pyspark.sql.functions import col, split, monotonically_increasing_id\n",
    "from pyspark.ml.feature import CountVectorizer\n",
    "from pyspark.sql import DataFrame\n",
    "from pyarrow import flight\n",
    "from datetime import datetime\n",
    "# from sklearn.feature_selection import mutual_info_regression\n",
    "# from sklearn.model_selection import train_test_split\n",
    "# from sklearn.preprocessing import StandardScaler\n",
    "# from sklearn.metrics.pairwise import cosine_similarity\n",
    "from sklearn.neighbors import NearestNeighbors"
   ]
  },
  {
   "cell_type": "markdown",
   "id": "58ef2d0c-ab1d-400b-b372-6cd93bd16bcf",
   "metadata": {},
   "source": [
    "## IO Managaer"
   ]
  },
  {
   "cell_type": "markdown",
   "id": "e809433d-ac62-4e7e-96f6-c3b0aec8c273",
   "metadata": {},
   "source": [
    "### Spark IO"
   ]
  },
  {
   "cell_type": "code",
   "execution_count": 131,
   "id": "6f6b192d-650f-48cc-9492-827ebe85ffb3",
   "metadata": {},
   "outputs": [],
   "source": [
    "from contextlib import contextmanager\n",
    "\n",
    "@contextmanager\n",
    "def SparkIO(conf: SparkConf = SparkConf()):\n",
    "    app_name = conf.get(\"spark.app.name\")\n",
    "    master = conf.get(\"spark.master\")\n",
    "    print(f'Create SparkSession app {app_name} with {master} mode')\n",
    "    spark = SparkSession.builder.config(conf=conf).getOrCreate()\n",
    "    try:\n",
    "        yield spark\n",
    "    except Exception:\n",
    "        raise Exception\n",
    "    finally:\n",
    "        print(f'Stop SparkSession app {app_name}')\n",
    "        spark.stop()"
   ]
  },
  {
   "cell_type": "markdown",
   "id": "a9fc6f2d-54aa-4e79-9ae3-29ea9b94fd31",
   "metadata": {},
   "source": [
    "### MongoDB IO"
   ]
  },
  {
   "cell_type": "code",
   "execution_count": 132,
   "id": "b1851fce-c21e-4a1f-86cb-fe4ca0952cef",
   "metadata": {},
   "outputs": [],
   "source": [
    "from pymongo import MongoClient\n",
    "from pymongo.errors import ConnectionFailure\n",
    "from contextlib import contextmanager\n",
    "import os\n",
    "\n",
    "@contextmanager\n",
    "def MongodbIO():\n",
    "    user = os.getenv(\"MONGODB_USER\")\n",
    "    password = os.getenv(\"MONGODB_PASSWORD\")\n",
    "    cluster = os.getenv(\"MONGODB_SRV\")\n",
    "    cluster = cluster.split(\"//\")[-1]\n",
    "    uri = f\"mongodb+srv://{user}:{password}@{cluster}/?retryWrites=true&w=majority\"\n",
    "    try:\n",
    "        client = MongoClient(uri)\n",
    "        print(f\"MongoDB Connected\")\n",
    "        yield client\n",
    "    except ConnectionFailure:\n",
    "        print(f\"Failed to connect with MongoDB\")\n",
    "        raise ConnectionFailure\n",
    "    finally:\n",
    "        print(\"Close connection to MongoDB\")\n",
    "        client.close()"
   ]
  },
  {
   "cell_type": "markdown",
   "id": "9d9ddd02-00fe-4725-af18-bb5e8ce4ae77",
   "metadata": {},
   "source": [
    "## Bronze layer\n",
    "In this layer, we'll fully load all raw data from MongoDB to HDFS and store it as a Parquet file. However, before proceeding with this, we'll establish the data schema for the Spark DataFrame instead of relying on the dynamic schema of the PySpark DataFrame. This precautionary step will help us avoid errors related to schema or data types when writing data to Parquet or loading data from MongoDB Atlas."
   ]
  },
  {
   "cell_type": "code",
   "execution_count": 133,
   "id": "75a4ec80-8301-415d-8497-b3c15d3d6bb2",
   "metadata": {},
   "outputs": [],
   "source": [
    "def getSchema(table_name):\n",
    "    \"\"\"This function create Pyspark Schema\"\"\"\n",
    "    artist_schema = StructType([\n",
    "        StructField(\"_id\", StringType(), True),\n",
    "        StructField(\n",
    "            \"external_urls\",\n",
    "            StructType([\n",
    "                StructField(\"spotify\", StringType(), True)\n",
    "            ])\n",
    "        ),\n",
    "        StructField(\n",
    "            \"followers\", \n",
    "            StructType([\n",
    "                StructField(\"href\", StringType(), True),\n",
    "                StructField(\"total\", IntegerType(), True)\n",
    "            ])\n",
    "        ),\n",
    "        StructField(\n",
    "            \"genres\",\n",
    "            ArrayType(StringType(), True)      \n",
    "        ),\n",
    "        StructField(\"href\", StringType(), True),\n",
    "        StructField(\"id\", StringType(), True),\n",
    "        StructField(\n",
    "            \"images\",\n",
    "            ArrayType(\n",
    "                StructType([\n",
    "                    StructField(\"height\", IntegerType(), True),\n",
    "                    StructField(\"url\", StringType(), True),\n",
    "                    StructField(\"width\", IntegerType(), True)\n",
    "                ])\n",
    "            )\n",
    "        ),\n",
    "        StructField(\"name\", StringType(), True),\n",
    "        StructField(\"popularity\", IntegerType(), True),\n",
    "        StructField(\"type\", StringType(), True),\n",
    "        StructField(\"uri\", StringType(), True)\n",
    "    ])\n",
    "\n",
    "    album_schema = StructType([\n",
    "        StructField(\"_id\", StringType(), True),\n",
    "        StructField(\"album_type\", StringType(), True),\n",
    "        StructField(\n",
    "            \"copyrights\",\n",
    "            ArrayType(\n",
    "                StructType([\n",
    "                    StructField(\"text\", StringType(), True),\n",
    "                    StructField(\"type\", StringType(), True)\n",
    "                ])\n",
    "            )\n",
    "        ),\n",
    "        StructField(\n",
    "            \"external_ids\",\n",
    "            StructType([\n",
    "                StructField(\"upc\", StringType(), True)\n",
    "            ])\n",
    "        ),\n",
    "        StructField(\n",
    "            \"external_urls\",\n",
    "            StructType([\n",
    "                StructField(\"spotify\", StringType(), True)\n",
    "            ])\n",
    "        ),\n",
    "        StructField(\n",
    "            \"genres\",\n",
    "            ArrayType(StringType(), True)\n",
    "        ),\n",
    "        StructField(\"href\", StringType(), True),\n",
    "        StructField(\"id\", StringType(), True),\n",
    "        StructField(\n",
    "            \"images\",\n",
    "            ArrayType(\n",
    "                StructType([\n",
    "                    StructField(\"height\", IntegerType(), True),\n",
    "                    StructField(\"url\", StringType(), True),\n",
    "                    StructField(\"width\", IntegerType(), True)\n",
    "                ])\n",
    "            )\n",
    "        ),\n",
    "        StructField(\"label\", StringType(), True),\n",
    "        StructField(\"name\", StringType(), True),\n",
    "        StructField(\"popularity\", IntegerType(), True),\n",
    "        StructField(\"release_date\", StringType(), True),\n",
    "        StructField(\"release_date_precision\", StringType(), True),\n",
    "        StructField(\"total_tracks\", IntegerType(), True),\n",
    "        StructField(\"type\", StringType(), True),\n",
    "        StructField(\"uri\", StringType(), True),\n",
    "        StructField(\"artist_id\", StringType(), True)\n",
    "    ])\n",
    "\n",
    "    track_schema = StructType([\n",
    "        StructField(\"_id\", StringType(), True),\n",
    "        StructField(\"disc_number\", IntegerType(), True),\n",
    "        StructField(\"duration_ms\", LongType(), True),\n",
    "        StructField(\"explicit\", BooleanType(), True),\n",
    "        StructField(\n",
    "            \"external_ids\",\n",
    "            StructType([\n",
    "                StructField(\"isrc\", StringType(), True)\n",
    "            ])\n",
    "        ),\n",
    "        StructField(\n",
    "            \"external_urls\",\n",
    "            StructType([\n",
    "                StructField(\"spotify\", StringType(), True)\n",
    "            ])\n",
    "        ),\n",
    "        StructField(\"href\", StringType(), True),\n",
    "        StructField(\"id\", StringType(), True),\n",
    "        StructField(\"is_local\", BooleanType(), True),\n",
    "        StructField(\"name\", StringType(), True),\n",
    "        StructField(\"popularity\", IntegerType(), True),\n",
    "        StructField(\"preview_url\", StringType(), True),\n",
    "        StructField(\"track_number\", IntegerType(), True),\n",
    "        StructField(\"type\", StringType(), True),\n",
    "        StructField(\"uri\", StringType(), True),\n",
    "        StructField(\"artist_id\", StringType(), True),\n",
    "        StructField(\"album_id\", StringType(), True)\n",
    "    ])\n",
    "\n",
    "    track_features_schema = StructType([\n",
    "        StructField(\"_id\", StringType(), True),\n",
    "        StructField(\"danceability\", DoubleType(), True),\n",
    "        StructField(\"energy\", DoubleType(), True),\n",
    "        StructField(\"key\", IntegerType(), True),\n",
    "        StructField(\"loudness\", DoubleType(), True),\n",
    "        StructField(\"mode\", IntegerType(), True),\n",
    "        StructField(\"speechiness\", DoubleType(), True),\n",
    "        StructField(\"acousticness\", DoubleType(), True),\n",
    "        StructField(\"instrumentalness\", DoubleType(), True),\n",
    "        StructField(\"liveness\", DoubleType(), True),\n",
    "        StructField(\"valence\", DoubleType(), True),\n",
    "        StructField(\"tempo\", DoubleType(), True),\n",
    "        StructField(\"type\", StringType(), True),\n",
    "        StructField(\"id\", StringType(), True),\n",
    "        StructField(\"uri\", StringType(), True),\n",
    "        StructField(\"track_href\", StringType(), True),\n",
    "        StructField(\"analysis_url\", StringType(), True),\n",
    "        StructField(\"duration_ms\", LongType(), True),\n",
    "        StructField(\"time_signature\", IntegerType(), True)\n",
    "    ])\n",
    "    if 'artist' in table_name:\n",
    "        return artist_schema\n",
    "    elif 'album' in table_name:\n",
    "        return album_schema\n",
    "    elif 'feature' in table_name:\n",
    "        return track_features_schema\n",
    "    else:\n",
    "        return track_schema"
   ]
  },
  {
   "cell_type": "code",
   "execution_count": 134,
   "id": "84b405e0-a812-4885-a8ea-0e71af606161",
   "metadata": {},
   "outputs": [],
   "source": [
    "def bronze_layer_task(spark: SparkSession, mongo_uri: str, database_name: str, table_name: str) -> None:\n",
    "    \"\"\"Extract data from MongoDB to HDFS at bronze layer\"\"\"\n",
    "\n",
    "    hdfs_uri = f\"hdfs://namenode:8020/bronze_layer/{table_name}.parquet\"\n",
    "\n",
    "    spark_data = (spark.read.format(\"mongodb\")\n",
    "              .schema(getSchema(table_name))\n",
    "              .option(\"uri\", mongo_uri)\n",
    "              .option('database', database_name)\n",
    "              .option('collection', table_name)\n",
    "              .load()\n",
    "              .select([col for col in getSchema(table_name).fieldNames() if col != '_id']) # eliminate _id field\n",
    "              )\n",
    "\n",
    "    print(f\"Writing {table_name}\")\n",
    "    spark_data.write.parquet(hdfs_uri, mode=\"overwrite\")\n",
    "    print(f\"Bronze: Successfully writing {table_name}.parquet\")\n",
    "\n",
    "\n",
    "def IngestHadoop(client, uri, spark: SparkSession):\n",
    "    \"\"\"Extract data From MongoDB and Load to HDFS\"\"\"\n",
    "\n",
    "    database_name = os.getenv(\"MONGODB_DATABASE\")\n",
    "    mongo_db = client[database_name] \n",
    "    collections = mongo_db.list_collection_names() #get all collectons\n",
    "\n",
    "    #Running task concurrently\n",
    "    for collection in collections:\n",
    "        print(f\"{collection} start being Ingested...\")\n",
    "        bronze_layer_task(spark, uri, database_name, collection) #collection is also the name of table"
   ]
  },
  {
   "cell_type": "markdown",
   "id": "c76ac5d2-aa59-47f4-acdf-56ff1950e542",
   "metadata": {},
   "source": [
    "## Silver layer\n",
    "In this phase, we'll handle the transformation of each table individually. To carry out the transformation for the silver layer, let's create a dedicated Silver class for this task."
   ]
  },
  {
   "cell_type": "code",
   "execution_count": 135,
   "id": "ef51f88c-9554-4c11-b2b3-bee1532d280a",
   "metadata": {},
   "outputs": [],
   "source": [
    "from pyspark.sql.functions import col, explode\n",
    "import pyspark\n",
    "from typing import Dict, List"
   ]
  },
  {
   "cell_type": "code",
   "execution_count": 136,
   "id": "adacf2b9-72d9-4458-a2f3-53fac6e83d07",
   "metadata": {},
   "outputs": [],
   "source": [
    "def cleanList(self, columns: dict, drop: bool = False):\n",
    "    # Check type of argument\n",
    "    if not isinstance(columns, dict):\n",
    "        raise TypeError(\"Columns must be a dictionary\")\n",
    "    if not isinstance(drop, bool):\n",
    "        raise TypeError(\"Drop must be a boolean\")\n",
    "\n",
    "    df_exploded = self\n",
    "\n",
    "    for old_column in columns.keys():\n",
    "        new_column = columns[old_column]\n",
    "        df_exploded = df_exploded.select(\n",
    "            \"*\", explode(col(old_column)).alias(new_column))\n",
    "\n",
    "    if drop:\n",
    "        return df_exploded.drop(*columns.keys())\n",
    "    return df_exploded"
   ]
  },
  {
   "cell_type": "markdown",
   "id": "1c25a51f-3cf1-43c9-aef9-a6a022ee1001",
   "metadata": {},
   "source": [
    "We have developed a custom method for the ```pyspark.sql.DataFrame``` class. This method addresses the issue in Pyspark Dataframe where a value is not a single unit value but a list value."
   ]
  },
  {
   "cell_type": "markdown",
   "id": "418c9531-74af-4ef5-b170-57ca677a0c4c",
   "metadata": {},
   "source": [
    "Perform data transforming in Silver layer:\n",
    "- Process nested columns (optional)\n",
    "- Process list values (optional)\n",
    "- Split Dataframe to convert into 3NF-Normalization"
   ]
  },
  {
   "cell_type": "code",
   "execution_count": 137,
   "id": "a0b15e6a-ffbf-4151-9f5b-693e49b17901",
   "metadata": {},
   "outputs": [
    {
     "name": "stdout",
     "output_type": "stream",
     "text": [
      "-RECORD 0---------------------------------------------------------------------------------------------------------------------------------------------------------------------------------------------------------------------------------------------------\n",
      " external_urls | {https://open.spotify.com/artist/3TVXtAsR1Inumwj472S9r4}                                                                                                                                                                                   \n",
      " followers     | {null, 82834676}                                                                                                                                                                                                                           \n",
      " genres        | [canadian hip hop, canadian pop, hip hop, pop rap, rap]                                                                                                                                                                                    \n",
      " href          | https://api.spotify.com/v1/artists/3TVXtAsR1Inumwj472S9r4                                                                                                                                                                                  \n",
      " id            | 3TVXtAsR1Inumwj472S9r4                                                                                                                                                                                                                     \n",
      " images        | [{640, https://i.scdn.co/image/ab6761610000e5eb4293385d324db8558179afd9, 640}, {320, https://i.scdn.co/image/ab676161000051744293385d324db8558179afd9, 320}, {160, https://i.scdn.co/image/ab6761610000f1784293385d324db8558179afd9, 160}] \n",
      " name          | Drake                                                                                                                                                                                                                                      \n",
      " popularity    | 95                                                                                                                                                                                                                                         \n",
      " type          | artist                                                                                                                                                                                                                                     \n",
      " uri           | spotify:artist:3TVXtAsR1Inumwj472S9r4                                                                                                                                                                                                      \n",
      "-RECORD 1---------------------------------------------------------------------------------------------------------------------------------------------------------------------------------------------------------------------------------------------------\n",
      " external_urls | {https://open.spotify.com/artist/4q3ewBCX7sLwd24euuV69X}                                                                                                                                                                                   \n",
      " followers     | {null, 77477234}                                                                                                                                                                                                                           \n",
      " genres        | [reggaeton, trap latino, urbano latino]                                                                                                                                                                                                    \n",
      " href          | https://api.spotify.com/v1/artists/4q3ewBCX7sLwd24euuV69X                                                                                                                                                                                  \n",
      " id            | 4q3ewBCX7sLwd24euuV69X                                                                                                                                                                                                                     \n",
      " images        | [{640, https://i.scdn.co/image/ab6761610000e5eb9ad50e478a469448c6f369df, 640}, {320, https://i.scdn.co/image/ab676161000051749ad50e478a469448c6f369df, 320}, {160, https://i.scdn.co/image/ab6761610000f1789ad50e478a469448c6f369df, 160}] \n",
      " name          | Bad Bunny                                                                                                                                                                                                                                  \n",
      " popularity    | 95                                                                                                                                                                                                                                         \n",
      " type          | artist                                                                                                                                                                                                                                     \n",
      " uri           | spotify:artist:4q3ewBCX7sLwd24euuV69X                                                                                                                                                                                                      \n",
      "only showing top 2 rows\n",
      "\n"
     ]
    }
   ],
   "source": [
    "hdfs_uri = f\"hdfs://namenode:8020/bronze_layer/artists_data.parquet\"\n",
    "artists_data = spark.read.parquet(hdfs_uri, inferSchema=True, header=True)\n",
    "artists_data.show(2, vertical=True, truncate=False)"
   ]
  },
  {
   "cell_type": "code",
   "execution_count": 138,
   "id": "b5aebbf6-55c1-46db-a2d3-06d38049ee3e",
   "metadata": {},
   "outputs": [
    {
     "name": "stdout",
     "output_type": "stream",
     "text": [
      "Row(external_urls=Row(spotify='https://open.spotify.com/artist/3TVXtAsR1Inumwj472S9r4'))\n"
     ]
    }
   ],
   "source": [
    "## Process nested columns\n",
    "print(artists_data.select(\"external_urls\").first())"
   ]
  },
  {
   "cell_type": "code",
   "execution_count": 139,
   "id": "74530229-cbfb-4ce5-9f0a-80ca1c733a81",
   "metadata": {},
   "outputs": [
    {
     "name": "stdout",
     "output_type": "stream",
     "text": [
      "-RECORD 0-------------------------------------------------------------------------------------------------------------------------------------------------------------------------------------------------------------------------------------------------------\n",
      " external_urls     | {https://open.spotify.com/artist/3TVXtAsR1Inumwj472S9r4}                                                                                                                                                                                   \n",
      " followers         | {null, 82834676}                                                                                                                                                                                                                           \n",
      " genres            | [canadian hip hop, canadian pop, hip hop, pop rap, rap]                                                                                                                                                                                    \n",
      " href              | https://api.spotify.com/v1/artists/3TVXtAsR1Inumwj472S9r4                                                                                                                                                                                  \n",
      " id                | 3TVXtAsR1Inumwj472S9r4                                                                                                                                                                                                                     \n",
      " images            | [{640, https://i.scdn.co/image/ab6761610000e5eb4293385d324db8558179afd9, 640}, {320, https://i.scdn.co/image/ab676161000051744293385d324db8558179afd9, 320}, {160, https://i.scdn.co/image/ab6761610000f1784293385d324db8558179afd9, 160}] \n",
      " name              | Drake                                                                                                                                                                                                                                      \n",
      " popularity        | 95                                                                                                                                                                                                                                         \n",
      " type              | artist                                                                                                                                                                                                                                     \n",
      " uri               | spotify:artist:3TVXtAsR1Inumwj472S9r4                                                                                                                                                                                                      \n",
      " new_external_urls | https://open.spotify.com/artist/3TVXtAsR1Inumwj472S9r4                                                                                                                                                                                     \n",
      "only showing top 1 row\n",
      "\n"
     ]
    }
   ],
   "source": [
    "artists_data.withColumn(colName=\"new_external_urls\", col=col(\"external_urls.spotify\")).show(1, vertical=True, truncate=False)"
   ]
  },
  {
   "cell_type": "markdown",
   "id": "dbf24f9d-cbbb-426d-b012-6f778c5cd287",
   "metadata": {},
   "source": [
    "It is observed that the URL, previously nested within the \"external_urls\" column, has been successfully extracted and relocated to a newly created column called \"new_external_urls.\""
   ]
  },
  {
   "cell_type": "code",
   "execution_count": 140,
   "id": "51e498f3-2f7b-44b2-b8d3-a5fb9283de5f",
   "metadata": {},
   "outputs": [
    {
     "name": "stdout",
     "output_type": "stream",
     "text": [
      "-RECORD 0------------------------------------------------------------------------------------------------------------------------------------------------------------------------------------------------------------------------------------------------------\n",
      " external_urls    | {https://open.spotify.com/artist/3TVXtAsR1Inumwj472S9r4}                                                                                                                                                                                   \n",
      " followers        | {null, 82834676}                                                                                                                                                                                                                           \n",
      " genres           | [canadian hip hop, canadian pop, hip hop, pop rap, rap]                                                                                                                                                                                    \n",
      " href             | https://api.spotify.com/v1/artists/3TVXtAsR1Inumwj472S9r4                                                                                                                                                                                  \n",
      " id               | 3TVXtAsR1Inumwj472S9r4                                                                                                                                                                                                                     \n",
      " images           | [{640, https://i.scdn.co/image/ab6761610000e5eb4293385d324db8558179afd9, 640}, {320, https://i.scdn.co/image/ab676161000051744293385d324db8558179afd9, 320}, {160, https://i.scdn.co/image/ab6761610000f1784293385d324db8558179afd9, 160}] \n",
      " name             | Drake                                                                                                                                                                                                                                      \n",
      " popularity       | 95                                                                                                                                                                                                                                         \n",
      " type             | artist                                                                                                                                                                                                                                     \n",
      " uri              | spotify:artist:3TVXtAsR1Inumwj472S9r4                                                                                                                                                                                                      \n",
      " artist_url       | https://open.spotify.com/artist/3TVXtAsR1Inumwj472S9r4                                                                                                                                                                                     \n",
      " artist_followers | 82834676                                                                                                                                                                                                                                   \n",
      " artist_image     | https://i.scdn.co/image/ab6761610000e5eb4293385d324db8558179afd9                                                                                                                                                                           \n",
      "only showing top 1 row\n",
      "\n"
     ]
    }
   ],
   "source": [
    "cleaned_nested_columns = artists_data.alias(\"artists_data\")\n",
    "nested_columns={\"artist_url\": col(\"external_urls.spotify\"), \n",
    "                \"artist_followers\": col(\"followers.total\"),\n",
    "                \"artist_image\": col(\"images\")[0].url}\n",
    "for new_column, field_to_extract in nested_columns.items():\n",
    "    cleaned_nested_columns = cleaned_nested_columns.withColumn(colName=new_column, col=field_to_extract)\n",
    "cleaned_nested_columns.show(1, vertical=True, truncate=False)"
   ]
  },
  {
   "cell_type": "code",
   "execution_count": 141,
   "id": "bf63e16a-00ed-4e85-b545-27bb8e6620ff",
   "metadata": {},
   "outputs": [
    {
     "name": "stdout",
     "output_type": "stream",
     "text": [
      "+--------------------+------------+--------------------+\n",
      "|                  id|        name|              genres|\n",
      "+--------------------+------------+--------------------+\n",
      "|3TVXtAsR1Inumwj47...|       Drake|[canadian hip hop...|\n",
      "|4q3ewBCX7sLwd24eu...|   Bad Bunny|[reggaeton, trap ...|\n",
      "|4q3ewBCX7sLwd24eu...|   Bad Bunny|[reggaeton, trap ...|\n",
      "|06HL4z0CvFAxyc27G...|Taylor Swift|               [pop]|\n",
      "|1Xyo4u8uXC1ZmMpat...|  The Weeknd|[canadian contemp...|\n",
      "+--------------------+------------+--------------------+\n",
      "only showing top 5 rows\n",
      "\n"
     ]
    }
   ],
   "source": [
    "## Process list values\n",
    "cleaned_nested_columns.select([\"id\", \"name\", \"genres\"]).show(5)"
   ]
  },
  {
   "cell_type": "markdown",
   "id": "b34e808d-2a03-4a37-83ef-2e8c8816020a",
   "metadata": {},
   "source": [
    "Column ```genres``` contains values that are not a single unit value."
   ]
  },
  {
   "cell_type": "code",
   "execution_count": 142,
   "id": "28ae7775-1f3a-41e8-9826-cdcd4a245ddf",
   "metadata": {},
   "outputs": [
    {
     "name": "stdout",
     "output_type": "stream",
     "text": [
      "+--------------------+-----+----------------+\n",
      "|                  id| name|           genre|\n",
      "+--------------------+-----+----------------+\n",
      "|3TVXtAsR1Inumwj47...|Drake|canadian hip hop|\n",
      "|3TVXtAsR1Inumwj47...|Drake|    canadian pop|\n",
      "|3TVXtAsR1Inumwj47...|Drake|         hip hop|\n",
      "|3TVXtAsR1Inumwj47...|Drake|         pop rap|\n",
      "|3TVXtAsR1Inumwj47...|Drake|             rap|\n",
      "+--------------------+-----+----------------+\n",
      "only showing top 5 rows\n",
      "\n"
     ]
    }
   ],
   "source": [
    "cleaned_list_values = cleaned_nested_columns.cleanList(columns={\"genres\": \"genre\"})\n",
    "cleaned_list_values.select([\"id\", \"name\", \"genre\"]).show(5)"
   ]
  },
  {
   "cell_type": "code",
   "execution_count": 143,
   "id": "63d1ca8a-b74d-4706-ac40-30828ab7420b",
   "metadata": {},
   "outputs": [],
   "source": [
    "## Split dataframe on column genre\n",
    "column_to_split = \"genre\"\n",
    "primary_foreign_key = \"id\"\n",
    "cleaned_artist = cleaned_list_values.select(\"*\").drop(column_to_split)\n",
    "cleaned_artist_genres = cleaned_list_values.select(primary_foreign_key, column_to_split)"
   ]
  },
  {
   "cell_type": "code",
   "execution_count": 144,
   "id": "13a0436e-95c0-4373-a22b-ce66d73cde44",
   "metadata": {},
   "outputs": [
    {
     "name": "stdout",
     "output_type": "stream",
     "text": [
      "+--------------------+-----+\n",
      "|                  id| name|\n",
      "+--------------------+-----+\n",
      "|3TVXtAsR1Inumwj47...|Drake|\n",
      "|3TVXtAsR1Inumwj47...|Drake|\n",
      "|3TVXtAsR1Inumwj47...|Drake|\n",
      "|3TVXtAsR1Inumwj47...|Drake|\n",
      "|3TVXtAsR1Inumwj47...|Drake|\n",
      "+--------------------+-----+\n",
      "only showing top 5 rows\n",
      "\n"
     ]
    }
   ],
   "source": [
    "cleaned_artist.select([\"id\", \"name\"]).show(5)"
   ]
  },
  {
   "cell_type": "code",
   "execution_count": 145,
   "id": "3a50ca31-7a24-4edf-80ed-7396e02e1051",
   "metadata": {},
   "outputs": [
    {
     "name": "stdout",
     "output_type": "stream",
     "text": [
      "+--------------------+----------------+\n",
      "|                  id|           genre|\n",
      "+--------------------+----------------+\n",
      "|3TVXtAsR1Inumwj47...|canadian hip hop|\n",
      "|3TVXtAsR1Inumwj47...|    canadian pop|\n",
      "|3TVXtAsR1Inumwj47...|         hip hop|\n",
      "|3TVXtAsR1Inumwj47...|         pop rap|\n",
      "|3TVXtAsR1Inumwj47...|             rap|\n",
      "+--------------------+----------------+\n",
      "only showing top 5 rows\n",
      "\n"
     ]
    }
   ],
   "source": [
    "cleaned_artist_genres.show(5)"
   ]
  },
  {
   "cell_type": "markdown",
   "id": "0966736e",
   "metadata": {},
   "source": [
    "We can observed that the previous dataframe is splitted into two new dataframe ```cleaned_artist``` and ```cleaned_artist_genres```. The primary key of ```cleaned_artist``` is ```id``` and this is also the foreign key to the ```cleaned_artist_genres```."
   ]
  },
  {
   "cell_type": "markdown",
   "id": "d66f1a74-59f7-4937-ad88-15bb10eaaa2b",
   "metadata": {},
   "source": [
    "Combine every methods to a CleanDataframe class"
   ]
  },
  {
   "cell_type": "code",
   "execution_count": 146,
   "id": "760e8217-c770-41ee-9901-ad41f3d2c242",
   "metadata": {},
   "outputs": [],
   "source": [
    "class CleanDataframe:\n",
    "    def __init__(self, df: pyspark.sql.DataFrame):\n",
    "        \"\"\"\n",
    "        Initialize CleanDataframe with a DataFrame.\n",
    "        \"\"\"\n",
    "        if not isinstance(df, pyspark.sql.DataFrame):\n",
    "            raise TypeError(\"df must be a pyspark.sql.DataFrame\")\n",
    "\n",
    "        self._original_df = df\n",
    "        self._df = df\n",
    "\n",
    "    def get_dataframe(self) -> pyspark.sql.DataFrame:\n",
    "        \"\"\"\n",
    "        Get the cleaned DataFrame.\n",
    "        \"\"\"\n",
    "        return self._df\n",
    "\n",
    "    def get_original_dataframe(self) -> pyspark.sql.DataFrame:\n",
    "        \"\"\"\n",
    "        Get the original DataFrame.\n",
    "        \"\"\"\n",
    "        return self._original_df"
   ]
  },
  {
   "cell_type": "markdown",
   "id": "9fc988b3-c43a-4166-a062-d41e1354e633",
   "metadata": {},
   "source": [
    "The SilverCleanDataframe class is crafted for the cleaning and transformation of PySpark DataFrames. It is an extension of the CleanDataframe class, providing a structured and customizable approach to enhance the cleaning and transformation processes of PySpark DataFrames.\n",
    "\n",
    "Attributes:\n",
    "- nested_columns: A dictionary specifying nested columns and the corresponding fields to extract.\n",
    "- list_value_columns: A dictionary specifying columns with list values and their cleaning configurations.\n",
    "- remove_old_list_value_columns: A boolean indicating whether to remove old list value columns after the cleaning process.\n",
    "- split_df: A boolean indicating whether to split the DataFrame.\n",
    "- column_to_split: The column used for splitting the DataFrame.\n",
    "- primary_foreign_key: The primary foreign key used during DataFrame splitting."
   ]
  },
  {
   "cell_type": "code",
   "execution_count": 147,
   "id": "565eed6e-be8c-44b3-ab5d-f92ebbba12b1",
   "metadata": {},
   "outputs": [],
   "source": [
    "class SilverCleanDataframe(CleanDataframe):\n",
    "    def __init__(self, df: pyspark.sql.DataFrame,\n",
    "                 nested_columns: Dict[str, pyspark.sql.Column] = None,\n",
    "                 list_value_columns: Dict[str, str] = None,\n",
    "                 remove_old_list_value_columns: bool = True,\n",
    "                 split_df: bool = False,\n",
    "                 column_to_split: str = None,\n",
    "                 primary_foreign_key: str = None):\n",
    "        \"\"\"\n",
    "        Initialize SilverCleanDataframe with additional parameters.\n",
    "        \"\"\"\n",
    "        if not isinstance(df, pyspark.sql.DataFrame):\n",
    "            raise TypeError(\"df must be a pyspark.sql.DataFrame\")\n",
    "        if not isinstance(nested_columns, dict) and nested_columns is not None:\n",
    "            raise TypeError(\"nested_columns must be a dictionary\")\n",
    "        if not isinstance(list_value_columns, dict) and list_value_columns is not None:\n",
    "            raise TypeError(\"list_value_columns must be a dictionary\")\n",
    "        if not isinstance(remove_old_list_value_columns, bool):\n",
    "            raise TypeError(\"remove_old_list_value_columns must be a boolean\")\n",
    "        if not isinstance(split_df, bool):\n",
    "            raise TypeError(\"split_df must be a boolean\")\n",
    "        if not isinstance(column_to_split, str) and column_to_split is not None:\n",
    "            raise TypeError(\"column_to_split must be a string\")\n",
    "        if not isinstance(primary_foreign_key, str) and primary_foreign_key is not None:\n",
    "            raise TypeError(\"primary_foreign_key must be a string\")\n",
    "\n",
    "        if split_df:\n",
    "            if not column_to_split or not primary_foreign_key:\n",
    "                raise ValueError(\n",
    "                    \"Both column_to_split and primary_foreign_key must be specified when split_df is True\")\n",
    "\n",
    "        super().__init__(df)\n",
    "        self._nested_columns = nested_columns\n",
    "        self._list_value_columns = list_value_columns\n",
    "        self._remove_old_list_value_columns = remove_old_list_value_columns\n",
    "        self._split_df = split_df\n",
    "        self._column_to_split = column_to_split\n",
    "        self._primary_foreign_key = primary_foreign_key\n",
    "        pyspark.sql.DataFrame.cleanList = cleanList\n",
    "\n",
    "    def _clean_nested_columns(self, nested_columns: Dict[str, pyspark.sql.Column]):\n",
    "        \"\"\"\n",
    "        Clean nested columns.\n",
    "        \"\"\"\n",
    "        for new_column, field_to_extract in nested_columns.items():\n",
    "            self._df = self._df.withColumn(new_column, field_to_extract)\n",
    "\n",
    "    def _clean_list_value_columns(self, list_value_columns: Dict[str, str]):\n",
    "        \"\"\"\n",
    "        Clean list value columns.\n",
    "        \"\"\"\n",
    "        self._df = self._df.cleanList(\n",
    "            list_value_columns, drop=self._remove_old_list_value_columns)\n",
    "\n",
    "    def _split_dataframe(self, column_to_split: str, primary_foreign_key: str):\n",
    "        \"\"\"\n",
    "        Split the DataFrame.\n",
    "        \"\"\"\n",
    "        df1 = self._df.select(\"*\").drop(column_to_split)\n",
    "        df2 = self._df.select(primary_foreign_key, column_to_split)\n",
    "        self._df = (df1, df2)\n",
    "\n",
    "    def clean(self):\n",
    "        \"\"\"\n",
    "        Clean the DataFrame.\n",
    "        \"\"\"\n",
    "\n",
    "        if self._nested_columns:\n",
    "            # Clean nested columns\n",
    "            self._clean_nested_columns(self._nested_columns)\n",
    "\n",
    "        if self._list_value_columns:\n",
    "            # Clean list value columns\n",
    "            self._clean_list_value_columns(self._list_value_columns)\n",
    "\n",
    "        if self._split_df:\n",
    "            # Split dataframe\n",
    "            self._split_dataframe(self._column_to_split,\n",
    "                                  self._primary_foreign_key)\n",
    "\n",
    "        # Return the cleaned DataFrame\n",
    "        return self.get_dataframe()"
   ]
  },
  {
   "cell_type": "markdown",
   "id": "17ecaa83-889f-44d7-bbc9-5f1a2da81a6e",
   "metadata": {},
   "source": [
    "### Artist Table"
   ]
  },
  {
   "cell_type": "markdown",
   "id": "044fda95-3b23-490c-94ef-b2ea19c8880f",
   "metadata": {},
   "source": [
    "We'll split the genre for the Artist table based on the artist_id, and additionally, we'll address any nested columns present in the Artist table."
   ]
  },
  {
   "cell_type": "code",
   "execution_count": 148,
   "id": "32278f67-f448-4424-9f67-3def3b428c16",
   "metadata": {},
   "outputs": [],
   "source": [
    "def silver_artists_task(spark: SparkSession, table_name: str = 'artists_data'):\n",
    "    \"\"\"Cleaning Artist table\n",
    "    \n",
    "    return: artist table, genre \n",
    "    \"\"\"\n",
    "\n",
    "    hdfs_uri = f\"hdfs://namenode:8020/bronze_layer/{table_name}.parquet\"\n",
    "\n",
    "    print('Getting artist data from HDFS')\n",
    "    artists_data = spark.read.parquet(hdfs_uri, inferSchema=True, header=True)\n",
    "\n",
    "    print('Start Transforming')\n",
    "    silver_artists, silver_genres = SilverCleanDataframe(\n",
    "                                    df=artists_data,\n",
    "                                    nested_columns={\"external_urls\": col(\"external_urls.spotify\"), \n",
    "                                                    \"followers\": col(\"followers.total\"),\n",
    "                                                    \"image_url\": col(\"images\")[0].url},\n",
    "                                    list_value_columns={\"genres\": \"genre\"},\n",
    "                                    remove_old_list_value_columns=True,\n",
    "                                    split_df=True,\n",
    "                                    column_to_split=\"genre\",\n",
    "                                    primary_foreign_key=\"id\").clean()\n",
    "\n",
    "    # Writing to HDFS\n",
    "    tables = {'silver_artists': silver_artists, 'silver_genres': silver_genres}\n",
    "    for table, df in tables.items():\n",
    "        target_uri = f\"hdfs://namenode:8020/silver_layer/{table}.parquet\"\n",
    "        print(f\"Start Writing {table}.parquet\")\n",
    "        df.write.parquet(target_uri, mode=\"overwrite\")\n",
    "        print(f\"Silver: Successfully writing {table}.parquet\")\n",
    "\n",
    "    # return tables\n",
    "    return silver_artists, silver_genres"
   ]
  },
  {
   "cell_type": "markdown",
   "id": "7de003b0-f35d-41b8-a568-6530136df5b2",
   "metadata": {},
   "source": [
    "### Track"
   ]
  },
  {
   "cell_type": "markdown",
   "id": "15fc243b-0fde-4bbf-be1d-faec65f7fb5e",
   "metadata": {},
   "source": [
    "Regarding the Track table, our focus will be on managing the nested column within the 'external_urls' field."
   ]
  },
  {
   "cell_type": "code",
   "execution_count": 149,
   "id": "30597620-2ae5-4252-b7da-71041d3bfead",
   "metadata": {},
   "outputs": [],
   "source": [
    "def silver_tracks_task(spark, table_name: str = 'tracks_data'):\n",
    "    \"\"\"\n",
    "    Cleaning Tracks table\n",
    "    \n",
    "    return: clean tracks table\n",
    "    \"\"\"\n",
    "\n",
    "    hdfs_uri = f\"hdfs://namenode:8020/bronze_layer/{table_name}.parquet\"\n",
    "\n",
    "    print('Getting tracks data from HDFS')\n",
    "    tracks_data = spark.read.parquet(hdfs_uri, inferSchema=True, header=True)\n",
    "\n",
    "    print('Start Transforming')\n",
    "    silver_tracks= SilverCleanDataframe(df=tracks_data,\n",
    "                            nested_columns={\"external_urls\": col(\"external_urls.spotify\")}).clean()\n",
    "\n",
    "    # Writing to HDFS\n",
    "    target_uri = f\"hdfs://namenode:8020/silver_layer/silver_tracks.parquet\"\n",
    "\n",
    "    print(f\"Start Writing silver_tracks.parquet\")\n",
    "    silver_tracks.write.parquet(target_uri, mode=\"overwrite\")\n",
    "    print(f\"Silver: Successfully writing silver_tracks.parquet\")\n",
    "\n",
    "    return silver_tracks\n",
    "\n"
   ]
  },
  {
   "cell_type": "markdown",
   "id": "033fe117-52d9-4fe4-8a72-fa1f2033a97c",
   "metadata": {},
   "source": [
    "### Track Feature data"
   ]
  },
  {
   "cell_type": "markdown",
   "id": "5c44ecde-e384-4aec-ade6-029c489c4b38",
   "metadata": {},
   "source": [
    "For this task, there isn't anything particularly noteworthy to implement with this table as it appears to be quite clean already.."
   ]
  },
  {
   "cell_type": "code",
   "execution_count": 150,
   "id": "0f3d22f9-a3b5-47c4-bf25-f17541806261",
   "metadata": {},
   "outputs": [],
   "source": [
    "def silver_tracks_feat_task(spark, table_name: str = 'tracks_features_data'):\n",
    "    \"\"\"Cleaning Track's features table\n",
    "    \n",
    "    return: clean tracks feature table\n",
    "    \"\"\"\n",
    "\n",
    "    hdfs_uri = f\"hdfs://namenode:8020/bronze_layer/{table_name}.parquet\"\n",
    "\n",
    "    print('Getting tracks features data from HDFS')\n",
    "    tracks_feat_data = spark.read.parquet(hdfs_uri, inferSchema=True, header=True)\n",
    "\n",
    "    print('Start Transforming')\n",
    "    silver_tracks_feat = SilverCleanDataframe(df=tracks_feat_data).clean()\n",
    "\n",
    "    # Writing to HDFS\n",
    "    target_uri = f\"hdfs://namenode:8020/silver_layer/silver_tracks_features.parquet\"\n",
    "\n",
    "    print(f\"Start Writing silver_tracks_features.parquet\")\n",
    "    silver_tracks_feat.write.parquet(target_uri, mode=\"overwrite\")\n",
    "    print(f\"Silver: Successfully writing silver_tracks_features.parquet\")\n",
    "\n",
    "    return silver_tracks_feat"
   ]
  },
  {
   "cell_type": "markdown",
   "id": "dc5b4f7f-ef1a-4059-bed0-3d21073c2899",
   "metadata": {},
   "source": [
    "### Album"
   ]
  },
  {
   "cell_type": "markdown",
   "id": "c547c8de-f651-4e5b-9ac0-2b3d02e51c9c",
   "metadata": {},
   "source": [
    "Regarding the Album table, our focus will be on managing the nested column within the `external_urls` field and `image_url` field."
   ]
  },
  {
   "cell_type": "code",
   "execution_count": 151,
   "id": "6590196d-eb20-4830-81f4-895ea04a4443",
   "metadata": {},
   "outputs": [],
   "source": [
    "def silver_albums_task(spark, table_name: str = 'albums_data'):\n",
    "    \"\"\"Cleaning Albums table\n",
    "    \n",
    "    return: clean Albums table\n",
    "    \"\"\"\n",
    "\n",
    "    hdfs_uri = f\"hdfs://namenode:8020/bronze_layer/{table_name}.parquet\"\n",
    "\n",
    "    print('Getting albums data from HDFS')\n",
    "    albums_data = spark.read.parquet(hdfs_uri, inferSchema=True, header=True)\n",
    "\n",
    "    print('Start Transforming')\n",
    "    silver_albums = SilverCleanDataframe(df=albums_data,\n",
    "                            nested_columns={\"external_urls\": col(\"external_urls.spotify\"), \"image_url\": col(\"images\")[0].url}).clean()\n",
    "\n",
    "    # Writing to HDFS\n",
    "    target_uri = f\"hdfs://namenode:8020/silver_layer/silver_albums.parquet\"\n",
    "\n",
    "    print(f\"Start Writing silver_albums.parquet\")\n",
    "    silver_albums.write.parquet(target_uri, mode=\"overwrite\")\n",
    "    print(f\"Silver: Successfully writing silver_albums.parquet\")\n",
    "\n",
    "    return silver_albums"
   ]
  },
  {
   "cell_type": "markdown",
   "id": "26876494-4f16-4d05-8b6b-1defc4dbaa32",
   "metadata": {},
   "source": [
    "Now we combine all tasks into 1 function SilverLayer"
   ]
  },
  {
   "cell_type": "code",
   "execution_count": 152,
   "id": "c53cfadf-4cc3-48fd-858d-3d9c32f2e0a0",
   "metadata": {},
   "outputs": [],
   "source": [
    "def Silverlayer(spark: SparkSession):\n",
    "    silver_artists, silver_genres = silver_artists_task(spark, 'artists_data')\n",
    "    silver_tracks = silver_tracks_task(spark, 'tracks_data')\n",
    "    silver_tracks_feat = silver_tracks_feat_task(spark, 'tracks_features_data')\n",
    "    silver_albums = silver_albums_task(spark, 'albums_data')\n",
    "\n",
    "    return silver_artists, silver_genres, silver_tracks, silver_tracks_feat, silver_albums"
   ]
  },
  {
   "cell_type": "markdown",
   "id": "c7e6274c-1f1a-4279-96f8-2f766c5fd43b",
   "metadata": {},
   "source": [
    "## Gold layer\n",
    "\n",
    "In this phase, the four tables are split into five, comprising the Artist, Album, Track, Track Feature, and Genre tables. Similar to previous steps, we will once again undergo the transformation of these tables and proceed to rename certain fields."
   ]
  },
  {
   "cell_type": "code",
   "execution_count": 153,
   "id": "7d180c47-b5ad-4a26-964d-14e730bc53f5",
   "metadata": {},
   "outputs": [],
   "source": [
    "silver_artist = cleaned_artist\n",
    "silver_artist_genres = cleaned_artist_genres"
   ]
  },
  {
   "cell_type": "code",
   "execution_count": 154,
   "id": "130f9fbc-0c1f-4ab8-9d1a-9c14bff294a9",
   "metadata": {},
   "outputs": [
    {
     "name": "stdout",
     "output_type": "stream",
     "text": [
      "-RECORD 0------------------------------------------------------------------------------------------------------------------------------------------------------------------------------------------------------------------------------------------------------\n",
      " external_urls    | {https://open.spotify.com/artist/3TVXtAsR1Inumwj472S9r4}                                                                                                                                                                                   \n",
      " followers        | {null, 82834676}                                                                                                                                                                                                                           \n",
      " genres           | [canadian hip hop, canadian pop, hip hop, pop rap, rap]                                                                                                                                                                                    \n",
      " href             | https://api.spotify.com/v1/artists/3TVXtAsR1Inumwj472S9r4                                                                                                                                                                                  \n",
      " id               | 3TVXtAsR1Inumwj472S9r4                                                                                                                                                                                                                     \n",
      " images           | [{640, https://i.scdn.co/image/ab6761610000e5eb4293385d324db8558179afd9, 640}, {320, https://i.scdn.co/image/ab676161000051744293385d324db8558179afd9, 320}, {160, https://i.scdn.co/image/ab6761610000f1784293385d324db8558179afd9, 160}] \n",
      " name             | Drake                                                                                                                                                                                                                                      \n",
      " popularity       | 95                                                                                                                                                                                                                                         \n",
      " type             | artist                                                                                                                                                                                                                                     \n",
      " uri              | spotify:artist:3TVXtAsR1Inumwj472S9r4                                                                                                                                                                                                      \n",
      " artist_url       | https://open.spotify.com/artist/3TVXtAsR1Inumwj472S9r4                                                                                                                                                                                     \n",
      " artist_followers | 82834676                                                                                                                                                                                                                                   \n",
      " artist_image     | https://i.scdn.co/image/ab6761610000e5eb4293385d324db8558179afd9                                                                                                                                                                           \n",
      "only showing top 1 row\n",
      "\n"
     ]
    }
   ],
   "source": [
    "silver_artist.show(1, truncate=False, vertical=True)"
   ]
  },
  {
   "cell_type": "code",
   "execution_count": 155,
   "id": "5ceb3c2d-6a58-4c35-865f-aeb8c86bcd6c",
   "metadata": {},
   "outputs": [
    {
     "name": "stdout",
     "output_type": "stream",
     "text": [
      "-RECORD 0-----------------------\n",
      " id    | 3TVXtAsR1Inumwj472S9r4 \n",
      " genre | canadian hip hop       \n",
      "only showing top 1 row\n",
      "\n"
     ]
    }
   ],
   "source": [
    "silver_artist_genres.show(1, truncate=False, vertical=True)"
   ]
  },
  {
   "cell_type": "code",
   "execution_count": 156,
   "id": "df949b56-d0db-43c0-b5cf-3c21b8b6de0a",
   "metadata": {},
   "outputs": [],
   "source": [
    "## Drop duplicate\n",
    "cleaned_artist_duplicates = silver_artist.dropDuplicates()"
   ]
  },
  {
   "cell_type": "code",
   "execution_count": 157,
   "id": "4786bc18-7653-477c-982a-7a5a1eb5c00e",
   "metadata": {},
   "outputs": [],
   "source": [
    "## Drop null\n",
    "cleaned_artist_null = cleaned_artist_duplicates.dropna(how=\"all\")"
   ]
  },
  {
   "cell_type": "code",
   "execution_count": 158,
   "id": "46eedece-cc6f-4831-a3b7-dca2e6feb9f0",
   "metadata": {},
   "outputs": [],
   "source": [
    "## Drop unnecessary columns\n",
    "unnecessary_columns = [\"external_urls\", \"followers\", \"genres\", \"href\", \"images\", \"type\", \"uri\"]\n",
    "cleaned_artist_columns = cleaned_artist_null.drop(*unnecessary_columns)"
   ]
  },
  {
   "cell_type": "code",
   "execution_count": 159,
   "id": "2c206bfd-0a39-4c9b-a0c6-d08fd1e5cf85",
   "metadata": {},
   "outputs": [],
   "source": [
    "## Rename columns\n",
    "gold_artist = cleaned_artist_columns.withColumnRenamed(\"id\", \"artist_id\")\\\n",
    ".withColumnRenamed(\"name\", \"artist_name\") \\\n",
    ".withColumnRenamed(\"artist_url\", \"artist_external_urls\") \\\n",
    ".withColumnRenamed(\"artist_followers\", \"followers\") \\\n",
    ".withColumnRenamed(\"popularity\", \"artist_popularity\")"
   ]
  },
  {
   "cell_type": "code",
   "execution_count": 160,
   "id": "cb88b798-acec-448f-8bbe-a469d31761aa",
   "metadata": {},
   "outputs": [
    {
     "name": "stdout",
     "output_type": "stream",
     "text": [
      "-RECORD 0--------------------------------------------------------------------------------\n",
      " artist_id            | 3eqjTLE0HfPfh78zjh6TqT                                           \n",
      " artist_name          | Bruce Springsteen                                                \n",
      " artist_popularity    | 74                                                               \n",
      " artist_external_urls | https://open.spotify.com/artist/3eqjTLE0HfPfh78zjh6TqT           \n",
      " followers            | 5987583                                                          \n",
      " artist_image         | https://i.scdn.co/image/ab6761610000e5ebf7cac48c6b587b927ba73f4e \n",
      "only showing top 1 row\n",
      "\n"
     ]
    }
   ],
   "source": [
    "gold_artist.show(1, truncate=False, vertical=True)"
   ]
  },
  {
   "cell_type": "markdown",
   "id": "736caa02-0f55-4e42-8b19-7067f5d521fe",
   "metadata": {},
   "source": [
    "Combine it into a class ```GoldCleanDataframe```"
   ]
  },
  {
   "cell_type": "code",
   "execution_count": 161,
   "id": "db47e6e3-c07f-4b5a-bc39-e452ffcb0902",
   "metadata": {},
   "outputs": [],
   "source": [
    "class GoldCleanDataframe(CleanDataframe):\n",
    "    def __init__(self,\n",
    "                 df: pyspark.sql.DataFrame,\n",
    "                 drop_duplicate: bool = False,\n",
    "                 subset: List[str] = None,\n",
    "                 drop_columns: List[str] = None,\n",
    "                 drop_null: bool = False):\n",
    "        # Check type of argument\n",
    "        if not isinstance(df, pyspark.sql.DataFrame):\n",
    "            raise TypeError(\"df must be a pyspark.sql.DataFrame\")\n",
    "        if not isinstance(drop_duplicate, bool):\n",
    "            raise TypeError(\"drop_duplicate must be a boolean\")\n",
    "        if not isinstance(subset, list) and subset is not None:\n",
    "            raise TypeError(\"subset must be a list\")\n",
    "        if not isinstance(drop_columns, list) and drop_columns is not None:\n",
    "            raise TypeError(\"drop_columns must be a list\")\n",
    "        if not isinstance(drop_null, bool):\n",
    "            raise TypeError(\"drop_null must be a boolean\")\n",
    "\n",
    "        super().__init__(df)\n",
    "        self.drop_duplicate = drop_duplicate\n",
    "        self.subset = subset\n",
    "        self.drop_columns = drop_columns\n",
    "        self.drop_null = drop_null\n",
    "\n",
    "    def _drop_duplicate(self):\n",
    "        \"\"\"\n",
    "        Drop duplicate rows.\n",
    "        \"\"\"\n",
    "        self._df = self._df.dropDuplicates(subset=self.subset)\n",
    "\n",
    "    def _drop_columns(self, columns: List[str]):\n",
    "        \"\"\"\n",
    "        Drop columns.\n",
    "        \"\"\"\n",
    "        self._df = self._df.drop(*columns)\n",
    "\n",
    "    def _drop_null(self):\n",
    "        \"\"\"\n",
    "        Drop null values.\n",
    "        \"\"\"\n",
    "        self._df = self._df.dropna(how=\"all\")\n",
    "\n",
    "    def clean(self):\n",
    "        \"\"\"\n",
    "        Clean the DataFrame.\n",
    "        \"\"\"\n",
    "        if self.drop_duplicate:\n",
    "            # Drop duplicate rows\n",
    "            self._drop_duplicate()\n",
    "\n",
    "        if self.drop_null:\n",
    "            # Drop null values\n",
    "            self._drop_null()\n",
    "\n",
    "        if self.drop_columns:\n",
    "            # Drop columns\n",
    "            self._drop_columns(self.drop_columns)\n",
    "\n",
    "        # Return the cleaned DataFrame\n",
    "        return self.get_dataframe()"
   ]
  },
  {
   "cell_type": "markdown",
   "id": "8d850ba3-375a-40ce-b3b9-659ca4b1f849",
   "metadata": {},
   "source": [
    "### Artist table\n",
    "We will drop duplicate, drop null value and drop unecessary fields include `href`, `images`, `type`, `uri`. Then rename `id`, `name`, `external_urls`,... "
   ]
  },
  {
   "cell_type": "code",
   "execution_count": 162,
   "id": "231086a9-444a-4cb3-9706-8a5d139d38b5",
   "metadata": {},
   "outputs": [],
   "source": [
    "def gold_artist_task(silver_artists: pyspark.sql.DataFrame) -> pyspark.sql.DataFrame:\n",
    "    \"\"\"Cleaning silver artist table\n",
    "\n",
    "    return: gold_artists\n",
    "    \"\"\"\n",
    "    table_name = 'gold_artists'\n",
    "    hdfs_uri = f\"hdfs://namenode:8020/gold_layer/{table_name}.parquet\"\n",
    "\n",
    "    gold_artists = GoldCleanDataframe(df=silver_artists,\n",
    "                        drop_duplicate=True,\n",
    "                        drop_null=True,\n",
    "                        drop_columns=[\"href\", \"images\", \"type\", \"uri\"]).clean()\n",
    "\n",
    "    gold_artists = (gold_artists.withColumnRenamed(\"id\", \"artist_id\")\n",
    "                                .withColumnRenamed(\"name\", \"artist_name\")\n",
    "                                .withColumnRenamed(\"external_urls\", \"artist_external_urls\")\n",
    "                                .withColumnRenamed(\"popularity\", \"artist_popularity\")\n",
    "                                .withColumnRenamed(\"image_url\", \"artist_image\"))\n",
    "\n",
    "   # Write backup\n",
    "    print(f'Start writing {table_name}.parquet')\n",
    "    gold_artists.write.parquet(hdfs_uri, mode='overwrite')\n",
    "    print(f'Gold: Successfully writing {gold_artists.count()} into {table_name}')\n",
    "\n",
    "    return gold_artists"
   ]
  },
  {
   "cell_type": "markdown",
   "id": "3cf7200f-6471-466e-8984-fe76db7e1977",
   "metadata": {},
   "source": [
    "### Genre\n",
    "Drop duplicate and drop null "
   ]
  },
  {
   "cell_type": "code",
   "execution_count": 163,
   "id": "7c4c2d0c-f138-465f-b38f-e2ab7b115cf5",
   "metadata": {},
   "outputs": [],
   "source": [
    "def gold_genres_task(silver_genres: pyspark.sql.DataFrame) -> pyspark.sql.DataFrame:\n",
    "    \"\"\"Cleaning silver genre table\n",
    "\n",
    "    return: gold genre\n",
    "    \"\"\"\n",
    "    table_name = 'gold_genres'\n",
    "    hdfs_uri = f\"hdfs://namenode:8020/gold_layer/{table_name}.parquet\"\n",
    "\n",
    "    gold_genres = GoldCleanDataframe(df=silver_genres,\n",
    "                        drop_duplicate=True,\n",
    "                        drop_null=True).clean()\n",
    "\n",
    "    gold_genres = gold_genres.withColumnRenamed(\"id\", \"artist_id\")\n",
    "\n",
    "   # Write backup\n",
    "    print(f'Start writing {table_name}.parquet')\n",
    "    gold_genres.write.parquet(hdfs_uri, mode='overwrite')\n",
    "    print(f'Gold: Successfully writing {gold_genres.count()} into {table_name}')\n",
    "\n",
    "    return gold_genres"
   ]
  },
  {
   "cell_type": "markdown",
   "id": "69d0ac0f-f12d-416c-95e8-1e54f6000469",
   "metadata": {},
   "source": [
    "### Album"
   ]
  },
  {
   "cell_type": "code",
   "execution_count": 164,
   "id": "4ade4a31-9647-49c8-97b9-c45ca9339f30",
   "metadata": {},
   "outputs": [],
   "source": [
    "def gold_albums_task(silver_albums: pyspark.sql.DataFrame) -> pyspark.sql.DataFrame:\n",
    "    \"\"\"Cleaning silver albums table\n",
    "\n",
    "    return: gold album\n",
    "    \"\"\"\n",
    "    table_name = 'gold_albums'\n",
    "    hdfs_uri = f\"hdfs://namenode:8020/gold_layer/{table_name}.parquet\"\n",
    "\n",
    "    gold_albums= GoldCleanDataframe(df=silver_albums,\n",
    "                        drop_duplicate=True,\n",
    "                        drop_null=True,\n",
    "                        drop_columns=[\"copyrights\", \"external_ids\", \"genres\", \"href\", \"images\", \"type\", \"uri\"]).clean()\n",
    "\n",
    "    gold_albums = (gold_albums.withColumnRenamed(\"id\", \"album_id\") \n",
    "                   .withColumnRenamed('popularity', \"album_popularity\")\n",
    "                   .withColumnRenamed('name', \"album_name\")\n",
    "                   .withColumnRenamed('external_urls', \"album_url\")\n",
    "                   .withColumnRenamed('image_url', \"album_image\")\n",
    "                   )\n",
    "                                \n",
    "   # Write backup\n",
    "    print(f'Start writing {table_name}.parquet')\n",
    "    gold_albums.write.parquet(hdfs_uri, mode='overwrite')\n",
    "    print(f'Gold: Successfully writing {gold_albums.count()} into {table_name}')\n",
    "\n",
    "    return gold_albums"
   ]
  },
  {
   "cell_type": "markdown",
   "id": "2a082f0d-96f7-4f4b-a0d1-1e3669b12f56",
   "metadata": {},
   "source": [
    "### Track"
   ]
  },
  {
   "cell_type": "code",
   "execution_count": 165,
   "id": "2a260b9a-3c6c-4da7-a61a-c5cf926caaca",
   "metadata": {},
   "outputs": [],
   "source": [
    "def gold_tracks_task(silver_tracks: pyspark.sql.DataFrame) -> pyspark.sql.DataFrame:\n",
    "    \"\"\"Cleaning silver tracks table\n",
    "\n",
    "    return: track\n",
    "    \"\"\"\n",
    "    table_name = 'gold_tracks'\n",
    "    hdfs_uri = f\"hdfs://namenode:8020/gold_layer/{table_name}.parquet\"\n",
    "\n",
    "    gold_tracks = GoldCleanDataframe(df=silver_tracks,\n",
    "                        drop_duplicate=True,\n",
    "                        drop_null=True,\n",
    "                        drop_columns=[\"duration_ms\", \"external_ids\", \"href\", \"is_local\", \"type\", \"uri\"]).clean()\n",
    "    gold_tracks = (gold_tracks.withColumnRenamed(\"id\", \"track_id\")\n",
    "                   .withColumnRenamed('external_urls', \"track_url\")\n",
    "                   .withColumnRenamed('name', \"track_name\")\n",
    "                   .withColumnRenamed('preview_url', \"track_preview\")\n",
    "                   .withColumnRenamed('popularity', \"track_popularity\")\n",
    "                   )\n",
    "\n",
    "   # Write backup\n",
    "    print(f'Start writing {table_name}.parquet')\n",
    "    gold_tracks.write.parquet(hdfs_uri, mode='overwrite')\n",
    "    print(f'Gold: Successfully writing {gold_tracks.count()} into {table_name}')\n",
    "\n",
    "    return gold_tracks\n",
    "\n"
   ]
  },
  {
   "cell_type": "markdown",
   "id": "723e0e85-dff3-4409-aa24-824e6acab719",
   "metadata": {},
   "source": [
    "### Track Feature"
   ]
  },
  {
   "cell_type": "code",
   "execution_count": 166,
   "id": "a9e474be-7ec0-406f-942a-d56b9458306e",
   "metadata": {},
   "outputs": [],
   "source": [
    "def gold_tracks_feat_task(silver_tracks_features: pyspark.sql.DataFrame) -> pyspark.sql.DataFrame:\n",
    "    \"\"\"Cleaning silver track's features table\n",
    "\n",
    "    return: None\n",
    "    \"\"\"\n",
    "    table_name = 'gold_tracks_features'\n",
    "    hdfs_uri = f\"hdfs://namenode:8020/gold_layer/{table_name}.parquet\"\n",
    "\n",
    "    gold_tracks_features = GoldCleanDataframe(df=silver_tracks_features,\n",
    "                        drop_duplicate=True,\n",
    "                        drop_null=True,\n",
    "                        drop_columns=[\"type\", \"uri\", \"track_href\", \"analysis_url\"]).clean()\n",
    "\n",
    "    gold_tracks_features = gold_tracks_features.withColumnRenamed(\"id\", \"track_id\")\n",
    "\n",
    "   # Write backup\n",
    "    print(f'Start writing {table_name}.parquet')\n",
    "    gold_tracks_features.write.parquet(hdfs_uri, mode='overwrite')\n",
    "    print(f'Gold: Successfully writing {gold_tracks_features.count()} into {table_name}')\n",
    "\n",
    "    return gold_tracks_features"
   ]
  },
  {
   "cell_type": "markdown",
   "id": "1d71e68d-9813-4cb6-8308-61425011bf8e",
   "metadata": {},
   "source": [
    "Now we combine all gold tasks into one function to perform them"
   ]
  },
  {
   "cell_type": "code",
   "execution_count": 167,
   "id": "4609990f-4b54-460d-b3a5-c5c968dc611b",
   "metadata": {},
   "outputs": [],
   "source": [
    "def Goldlayer(silver_data):\n",
    "    \"\"\"Gold layer\n",
    "    Input: silver data\n",
    "    Output: Gold data\n",
    "    \"\"\"\n",
    "    artist = gold_artist_task(silver_data['artists'])\n",
    "    genre = gold_genres_task(silver_data['genres'])\n",
    "    album = gold_albums_task(silver_data['albums'])\n",
    "    track = gold_tracks_task(silver_data['tracks'])\n",
    "    track_feat = gold_tracks_feat_task(silver_data['tracks_feat'])\n",
    "\n",
    "    return artist, genre, album, track, track_feat"
   ]
  },
  {
   "cell_type": "markdown",
   "id": "4c3eae00-d8ba-4497-9d9b-24f7f3e9c6b3",
   "metadata": {},
   "source": [
    "## Warehouse layer\n",
    "In this layer, we will execute various analytic tasks and feature extraction tasks for the machine learning model. This layer is dedicated to preprocessing the gold-cleaned data and performing feature storage."
   ]
  },
  {
   "cell_type": "markdown",
   "id": "056eb7d4-6cfa-4e32-a193-5603f1c55db9",
   "metadata": {},
   "source": [
    "## Search table\n",
    "We will merge all tables into the Gold Track and concatenate the genres within this table. The resulting table is utilized for searching in the UI, aiming to minimize the implementation cost for Dremio queries each time the UI makes a call to it."
   ]
  },
  {
   "cell_type": "code",
   "execution_count": 168,
   "id": "9e2c5e18-8d03-4142-a962-d956c442473b",
   "metadata": {},
   "outputs": [],
   "source": [
    "def warehouse_search_task(artist, genre, album, track, track_feat):\n",
    "    \"\"\"Merge gold table and return searchs table\"\"\"\n",
    "    hdfs_uri = \"hdfs://namenode:8020/model/searchs.parquet\"\n",
    "\n",
    "    # Merge table\n",
    "    searchs_table = (\n",
    "        track\n",
    "        .join(album, \"album_id\")\n",
    "        .join(artist, \"artist_id\")\n",
    "        .join(track_feat, \"track_id\")\n",
    "        .join(genre, \"artist_id\")\n",
    "    )\n",
    "    \n",
    "    # Concat Genre and groupby\n",
    "    searchs_table = (\n",
    "        searchs_table.withColumn(\"track_release_year\", substring(\"release_date\", 1, 4))\n",
    "        .groupBy(\n",
    "            \"track_id\", \"track_name\", \"track_url\", \"track_popularity\", \"track_preview\",\n",
    "            \"artist_name\", \"artist_popularity\", \"artist_image\", \"track_release_year\",\n",
    "            \"album_name\", \"danceability\", \"energy\", \"key\", \"loudness\", \"mode\",\n",
    "            \"speechiness\", \"acousticness\", \"instrumentalness\", \"liveness\", \"valence\",\n",
    "            \"tempo\", \"duration_ms\", \"time_signature\"\n",
    "        )\n",
    "        # .agg(collect_list('genre')).alias('genre_list')\n",
    "        .agg(concat_ws(',', collect_list(col('genre'))).alias('genres'))\n",
    "        .orderBy(\"track_popularity\")\n",
    "    )\n",
    "\n",
    "    # Writing to HDFS\n",
    "    print('Start writing warehouse_search.parquet')\n",
    "    searchs_table.write.parquet(hdfs_uri, mode='overwrite')\n",
    "    print(f'Warehouse: Successfully wrote {searchs_table.count()} into warehouse_searchs.parquet')\n",
    "\n",
    "    return searchs_table"
   ]
  },
  {
   "cell_type": "markdown",
   "id": "95882068-8a3f-40cc-b768-f5a19f824c98",
   "metadata": {},
   "source": [
    "## Main flow"
   ]
  },
  {
   "cell_type": "code",
   "execution_count": 169,
   "id": "50f0b4e7-6d03-4d28-8f79-97f47e660bf4",
   "metadata": {},
   "outputs": [
    {
     "name": "stdout",
     "output_type": "stream",
     "text": [
      "Create SparkSession app ETL-app-2023-12-19 09:03:15.873381 with local[*] mode\n",
      "MongoDB Connected\n",
      "tracks_features_data start being Ingested...\n",
      "Writing tracks_features_data\n"
     ]
    },
    {
     "name": "stderr",
     "output_type": "stream",
     "text": [
      "                                                                                \r"
     ]
    },
    {
     "name": "stdout",
     "output_type": "stream",
     "text": [
      "Bronze: Successfully writing tracks_features_data.parquet\n",
      "artists_data start being Ingested...\n",
      "Writing artists_data\n"
     ]
    },
    {
     "name": "stderr",
     "output_type": "stream",
     "text": [
      "                                                                                \r"
     ]
    },
    {
     "name": "stdout",
     "output_type": "stream",
     "text": [
      "Bronze: Successfully writing artists_data.parquet\n",
      "tracks_data start being Ingested...\n",
      "Writing tracks_data\n"
     ]
    },
    {
     "name": "stderr",
     "output_type": "stream",
     "text": [
      "                                                                                \r"
     ]
    },
    {
     "name": "stdout",
     "output_type": "stream",
     "text": [
      "Bronze: Successfully writing tracks_data.parquet\n",
      "albums_data start being Ingested...\n",
      "Writing albums_data\n"
     ]
    },
    {
     "name": "stderr",
     "output_type": "stream",
     "text": [
      "                                                                                \r"
     ]
    },
    {
     "name": "stdout",
     "output_type": "stream",
     "text": [
      "Bronze: Successfully writing albums_data.parquet\n",
      "Close connection to MongoDB\n",
      "Getting artist data from HDFS\n",
      "Start Transforming\n",
      "Start Writing silver_artists.parquet\n"
     ]
    },
    {
     "name": "stderr",
     "output_type": "stream",
     "text": [
      "                                                                                \r"
     ]
    },
    {
     "name": "stdout",
     "output_type": "stream",
     "text": [
      "Silver: Successfully writing silver_artists.parquet\n",
      "Start Writing silver_genres.parquet\n",
      "Silver: Successfully writing silver_genres.parquet\n",
      "Getting tracks data from HDFS\n",
      "Start Transforming\n",
      "Start Writing silver_tracks.parquet\n"
     ]
    },
    {
     "name": "stderr",
     "output_type": "stream",
     "text": [
      "                                                                                \r"
     ]
    },
    {
     "name": "stdout",
     "output_type": "stream",
     "text": [
      "Silver: Successfully writing silver_tracks.parquet\n",
      "Getting tracks features data from HDFS\n",
      "Start Transforming\n",
      "Start Writing silver_tracks_features.parquet\n"
     ]
    },
    {
     "name": "stderr",
     "output_type": "stream",
     "text": [
      "                                                                                \r"
     ]
    },
    {
     "name": "stdout",
     "output_type": "stream",
     "text": [
      "Silver: Successfully writing silver_tracks_features.parquet\n",
      "Getting albums data from HDFS\n",
      "Start Transforming\n",
      "Start Writing silver_albums.parquet\n"
     ]
    },
    {
     "name": "stderr",
     "output_type": "stream",
     "text": [
      "                                                                                \r"
     ]
    },
    {
     "name": "stdout",
     "output_type": "stream",
     "text": [
      "Silver: Successfully writing silver_albums.parquet\n",
      "Start writing gold_artists.parquet\n",
      "Gold: Successfully writing 997 into gold_artists\n",
      "Start writing gold_genres.parquet\n",
      "Gold: Successfully writing 3503 into gold_genres\n",
      "Start writing gold_albums.parquet\n"
     ]
    },
    {
     "name": "stderr",
     "output_type": "stream",
     "text": [
      "                                                                                \r"
     ]
    },
    {
     "name": "stdout",
     "output_type": "stream",
     "text": [
      "Gold: Successfully writing 19830 into gold_albums\n",
      "Start writing gold_tracks.parquet\n"
     ]
    },
    {
     "name": "stderr",
     "output_type": "stream",
     "text": [
      "23/12/19 09:04:51 WARN MemoryManager: Total allocation exceeds 95.00% (1,020,054,720 bytes) of heap memory\n",
      "Scaling row group sizes to 95.00% for 8 writers\n",
      "                                                                                \r"
     ]
    },
    {
     "name": "stdout",
     "output_type": "stream",
     "text": [
      "Gold: Successfully writing 172478 into gold_tracks\n",
      "Start writing gold_tracks_features.parquet\n"
     ]
    },
    {
     "name": "stderr",
     "output_type": "stream",
     "text": [
      "23/12/19 09:05:02 WARN MemoryManager: Total allocation exceeds 95.00% (1,020,054,720 bytes) of heap memory\n",
      "Scaling row group sizes to 95.00% for 8 writers\n",
      "                                                                                \r"
     ]
    },
    {
     "name": "stdout",
     "output_type": "stream",
     "text": [
      "Gold: Successfully writing 170218 into gold_tracks_features\n",
      "Start writing warehouse_search.parquet\n"
     ]
    },
    {
     "name": "stderr",
     "output_type": "stream",
     "text": [
      "23/12/19 09:05:24 WARN MemoryManager: Total allocation exceeds 95.00% (1,020,054,720 bytes) of heap memory\n",
      "Scaling row group sizes to 95.00% for 8 writers\n",
      "                                                                                \r"
     ]
    },
    {
     "name": "stdout",
     "output_type": "stream",
     "text": [
      "Warehouse: Successfully wrote 158232 into warehouse_searchs.parquet\n",
      "Stop SparkSession app ETL-app-2023-12-19 09:03:15.873381\n"
     ]
    }
   ],
   "source": [
    "def getMongoAuth():\n",
    "    user = os.getenv(\"MONGODB_USER\")\n",
    "    password = os.getenv(\"MONGODB_PASSWORD\")\n",
    "    cluster = os.getenv(\"MONGODB_SRV\")\n",
    "    cluster = cluster.split(\"//\")[-1]\n",
    "    return f\"mongodb+srv://{user}:{password}@{cluster}/?retryWrites=true&w=majority\"\n",
    "\n",
    "\n",
    "uri = getMongoAuth()\n",
    "conf = (SparkConf().setAppName(\"ETL-app-{}\".format(datetime.today()))\n",
    "        .set(\"spark.executor.memory\", \"2g\")\n",
    "        .set(\"spark.mongodb.read.connection.uri\", uri)\n",
    "        .set(\"spark.mongodb.write.connection.uri\", uri)\n",
    "        .set(\"spark.jars.packages\", \"org.mongodb.spark:mongo-spark-connector_2.12:10.2.1\")\n",
    "        .setMaster(\"local[*]\")\n",
    "        )\n",
    "with SparkIO(conf) as spark:\n",
    "    # Bronze task\n",
    "    with MongodbIO() as client:\n",
    "        IngestHadoop(client, uri, spark)\n",
    "\n",
    "    # # Silver task\n",
    "    silver_artist, silver_genre, silver_tracks, silver_tracks_feat, silver_albums = Silverlayer(\n",
    "        spark)\n",
    "    silver_data = {\"artists\": silver_artist,\n",
    "                   \"genres\": silver_genre,\n",
    "                   \"tracks\": silver_tracks,\n",
    "                   \"tracks_feat\": silver_tracks_feat,\n",
    "                   \"albums\": silver_albums}\n",
    "\n",
    "    # # Gold layer\n",
    "    gold_artist, gold_genre, gold_album, gold_track, gold_track_feat = Goldlayer(silver_data)\n",
    "\n",
    "    # # Warehouse layer\n",
    "    searchs_table = warehouse_search_task(gold_artist, gold_genre, gold_album, gold_track, gold_track_feat)\n"
   ]
  },
  {
   "cell_type": "markdown",
   "id": "37a95990-b807-498e-9b53-7eabfe755261",
   "metadata": {},
   "source": [
    "# Exploratory Data Analysis"
   ]
  },
  {
   "cell_type": "markdown",
   "id": "66a41e41-5dff-42ca-86b5-59a2a2639bc7",
   "metadata": {},
   "source": [
    "## Extract data from gold layer"
   ]
  },
  {
   "cell_type": "markdown",
   "id": "aeeebbe6-da5b-4a3b-ad92-c077ba2ae64f",
   "metadata": {},
   "source": [
    "Create spark session"
   ]
  },
  {
   "cell_type": "code",
   "execution_count": 170,
   "id": "744cfc01-877c-463e-82be-6fcf8dedd132",
   "metadata": {},
   "outputs": [],
   "source": [
    "conf = (SparkConf().setAppName(\"ETL-app-{}\".format(datetime.today()))\n",
    "        .set(\"spark.executor.memory\", \"4g\")\n",
    "        .setMaster(\"local[*]\")\n",
    "        )\n",
    "spark = SparkSession.builder.config(conf=conf).getOrCreate()"
   ]
  },
  {
   "cell_type": "code",
   "execution_count": 171,
   "id": "1b7cafa9-02c7-4ec1-848b-27b5f3ca7784",
   "metadata": {},
   "outputs": [],
   "source": [
    "hdfs = \"hdfs://namenode:8020/gold_layer/gold_{}.parquet\"\n",
    "\n",
    "table_name = \"artists\"\n",
    "artist = spark.read.parquet(hdfs.format(table_name))\n",
    "table_name = \"genres\"\n",
    "genre = spark.read.parquet(hdfs.format(table_name))\n",
    "table_name = \"tracks\"\n",
    "track = spark.read.parquet(hdfs.format(table_name))\n",
    "table_name = \"tracks_features\"\n",
    "track_feat = spark.read.parquet(hdfs.format(table_name))\n",
    "table_name = \"albums\"\n",
    "album = spark.read.parquet(hdfs.format(table_name))"
   ]
  },
  {
   "cell_type": "markdown",
   "id": "d9152b0e-cc11-4de5-9b7b-413251b5d07f",
   "metadata": {},
   "source": [
    "Let see what our data look like"
   ]
  },
  {
   "cell_type": "code",
   "execution_count": 172,
   "id": "cf2c29aa-40ab-4744-b3db-4ea278ffca82",
   "metadata": {},
   "outputs": [
    {
     "name": "stdout",
     "output_type": "stream",
     "text": [
      "+----------+--------------------+--------------------+--------------------+-------------------+----------------+------------+----------------------+------------+--------------------+--------------------+\n",
      "|album_type|           album_url|            album_id|               label|         album_name|album_popularity|release_date|release_date_precision|total_tracks|           artist_id|         album_image|\n",
      "+----------+--------------------+--------------------+--------------------+-------------------+----------------+------------+----------------------+------------+--------------------+--------------------+\n",
      "|    single|https://open.spot...|0yMfdY4CCyG83pX3P...|Beauty Marks Ente...|How We Roll (Remix)|              51|  2023-11-03|                   day|           1|7bXgB6jMjp9ATFy66...|https://i.scdn.co...|\n",
      "|    single|https://open.spot...|7yBnuW3SpMKy3EB9i...|    Atlantic Records|  Treasure Remix EP|              46|  2013-08-13|                   day|           5|0du5cEVh5yTK9QJze...|https://i.scdn.co...|\n",
      "|    single|https://open.spot...|7CrDnyaqZVhO6Uupm...|Right Hand Music ...|            Skyline|              56|  2022-04-28|                   day|           1|6LuN9FCkKOj5Pcnpo...|https://i.scdn.co...|\n",
      "|     album|https://open.spot...|0Nur9t7M0miEBoAnQ...|Young Money Recor...|         I Am Music|              54|  2023-03-31|                   day|          18|55Aa2cqylxrFIXC76...|https://i.scdn.co...|\n",
      "|     album|https://open.spot...|3Lp4JKk2ZgNkybMRS...|Shawn Mendes LP4-...|             Wonder|              70|  2020-12-04|                   day|          14|7n2wHs1TKAczGzO7D...|https://i.scdn.co...|\n",
      "+----------+--------------------+--------------------+--------------------+-------------------+----------------+------------+----------------------+------------+--------------------+--------------------+\n",
      "only showing top 5 rows\n",
      "\n"
     ]
    }
   ],
   "source": [
    "album.show(5)"
   ]
  },
  {
   "cell_type": "code",
   "execution_count": 173,
   "id": "63a5c426-df15-4dc1-b794-411fd34ea145",
   "metadata": {},
   "outputs": [
    {
     "name": "stdout",
     "output_type": "stream",
     "text": [
      "+--------------------+---------+--------------------+--------------------+-----------------+--------------------+\n",
      "|artist_external_urls|followers|           artist_id|         artist_name|artist_popularity|        artist_image|\n",
      "+--------------------+---------+--------------------+--------------------+-----------------+--------------------+\n",
      "|https://open.spot...|  4116049|4QQgXkCYTt3BlENzh...|  Earth, Wind & Fire|               70|https://i.scdn.co...|\n",
      "|https://open.spot...|  1825107|1l2ekx5skC4gJH8dj...|          Don Diablo|               63|https://i.scdn.co...|\n",
      "|https://open.spot...| 10076234|757aE44tKEUQEqRuT...|         Roddy Ricch|               75|https://i.scdn.co...|\n",
      "|https://open.spot...| 19333818|487N2T9nIPEHrlTZL...| Zé Neto & Cristiano|               77|https://i.scdn.co...|\n",
      "|https://open.spot...|  3695306|1EXjXQpDx2pROygh8...|             Melendi|               72|https://i.scdn.co...|\n",
      "|https://open.spot...|  6276353|4npEfmQ6YuiwW1GpU...|             Ava Max|               77|https://i.scdn.co...|\n",
      "|https://open.spot...|  1438185|6U3ybJ9UHNKEdsH7k...|                 JID|               75|https://i.scdn.co...|\n",
      "|https://open.spot...|  1460118|1LIuN7ov1IBQDdLsU...|    Hugo & Guilherme|               74|https://i.scdn.co...|\n",
      "|https://open.spot...|  2942910|0ZHPrnImGh4re3TbS...|               Beret|               67|https://i.scdn.co...|\n",
      "|https://open.spot...|  1796263|28uJnu5EsrGml2tBd...|     Vintage Culture|               69|https://i.scdn.co...|\n",
      "|https://open.spot...|  6723745|0nmQIMXWTXfhgOBdN...|   Avenged Sevenfold|               73|https://i.scdn.co...|\n",
      "|https://open.spot...|  2123750|5ndkK3dpZLKtBklKj...|               B.o.B|               70|https://i.scdn.co...|\n",
      "|https://open.spot...|   914152|0Y8KmFkKOgJybpVob...|   Luciano Pavarotti|               61|https://i.scdn.co...|\n",
      "|https://open.spot...|  2552338|4mxWe1mtYIYfP040G...|        Alan Jackson|               69|https://i.scdn.co...|\n",
      "|https://open.spot...|  1114558|3RqBeV12Tt7A8xH3z...|    Kelsea Ballerini|               68|https://i.scdn.co...|\n",
      "|https://open.spot...|  3594226|4U7lXyKdSf1JbM1aX...|La Oreja de Van Gogh|               70|https://i.scdn.co...|\n",
      "|https://open.spot...|  7078044|57WHJIHrjOE3iAxpi...|     Louis Tomlinson|               65|https://i.scdn.co...|\n",
      "|https://open.spot...| 27767029|711MCceyCBcFnzjGY...|               AC/DC|               78|https://i.scdn.co...|\n",
      "|https://open.spot...|  3049281|4ScCswdRlyA23odg9...|         Jess Glynne|               70|https://i.scdn.co...|\n",
      "|https://open.spot...|  5705598|49tQo2QULno7gxHut...|                LANY|               71|https://i.scdn.co...|\n",
      "+--------------------+---------+--------------------+--------------------+-----------------+--------------------+\n",
      "only showing top 20 rows\n",
      "\n"
     ]
    }
   ],
   "source": [
    "# artist data\n",
    "artist.show()"
   ]
  },
  {
   "cell_type": "code",
   "execution_count": 174,
   "id": "1f2dae6f-114f-4366-9c01-216bd81f3d12",
   "metadata": {},
   "outputs": [
    {
     "name": "stdout",
     "output_type": "stream",
     "text": [
      "+-----------+--------+--------------------+--------------------+--------------------+----------------+--------------------+------------+--------------------+--------------------+\n",
      "|disc_number|explicit|           track_url|            track_id|          track_name|track_popularity|       track_preview|track_number|           artist_id|            album_id|\n",
      "+-----------+--------+--------------------+--------------------+--------------------+----------------+--------------------+------------+--------------------+--------------------+\n",
      "|          2|    true|https://open.spot...|4SUwJA3eUVNHExxMP...|Ratchet Happy Bir...|              56|                null|           6|3TVXtAsR1Inumwj47...|1ATL5GLyefJaxhQzS...|\n",
      "|          1|    true|https://open.spot...|5mZJwWdxAOR4xUvSG...|     6PM In New York|              61|                null|          17|3TVXtAsR1Inumwj47...|0ptlfJfwGTy0Yvrk1...|\n",
      "|          1|    true|https://open.spot...|5qzLdvRViHUrRNdkp...|            BATICANO|              82|https://p.scdn.co...|          15|4q3ewBCX7sLwd24eu...|4FftCsAcXXD1nFO9R...|\n",
      "|          1|   false|https://open.spot...|7gVWKBcfIW93YxNBi...|You're On Your Ow...|              71|                null|           5|06HL4z0CvFAxyc27G...|3lS1y25WAhcqJDATJ...|\n",
      "|          1|   false|https://open.spot...|0lx2cLdOt3piJbcaX...|              willow|              83|                null|           1|06HL4z0CvFAxyc27G...|2Xoteh7uEpea4TohM...|\n",
      "+-----------+--------+--------------------+--------------------+--------------------+----------------+--------------------+------------+--------------------+--------------------+\n",
      "only showing top 5 rows\n",
      "\n"
     ]
    }
   ],
   "source": [
    "# Track data\n",
    "track.show(5)"
   ]
  },
  {
   "cell_type": "code",
   "execution_count": 175,
   "id": "91872744-a432-4159-8f87-fa14a12e4e9e",
   "metadata": {},
   "outputs": [
    {
     "name": "stdout",
     "output_type": "stream",
     "text": [
      "+--------------------+--------------------+\n",
      "|           artist_id|               genre|\n",
      "+--------------------+--------------------+\n",
      "|0VRj0yCOv2FXJNP47...|         atl hip hop|\n",
      "|718COspgdWOnwOFpJ...|contemporary country|\n",
      "|3p7PcrEHaaKLJnPUG...|sertanejo univers...|\n",
      "|3WGpXCj9YhhfX11TT...|      australian pop|\n",
      "|7FBcuc1gsnv6Y1nwF...|            pop punk|\n",
      "|3gd8FJtBJtkRxdfbT...|         modern rock|\n",
      "|5sUrlPAHlS9NEirDB...|         mexican pop|\n",
      "|3tJoFztHeIJkJWMrx...|                 rap|\n",
      "|4Q6nIcaBED8qUel8b...|            uk dance|\n",
      "|7gP3bB2nilZXLfPHJ...|modern alternativ...|\n",
      "|2cy1zPcrFcXAJTP0A...|             reparto|\n",
      "|0my6Pg4I28dVcZLSp...|     musica mexicana|\n",
      "|4xFUf1FHVy696Q1JQ...|classic oklahoma ...|\n",
      "|59wfkuBoNyhDMQGCl...|           dance pop|\n",
      "|6uothxMWeLWIhsGeF...|        middle earth|\n",
      "|0qT79UgT5tY4yudH9...|                rock|\n",
      "|7nwUJBm0HE4ZxD3f5...|        classic soul|\n",
      "|0CbeG1224FS58EUx4...|            big room|\n",
      "|6n28c9qs9hNGriNa7...|australian electr...|\n",
      "|6U1dBXJhC8gXFjamv...|       post-teen pop|\n",
      "+--------------------+--------------------+\n",
      "only showing top 20 rows\n",
      "\n"
     ]
    }
   ],
   "source": [
    "# Genre data\n",
    "genre.show()"
   ]
  },
  {
   "cell_type": "code",
   "execution_count": 176,
   "id": "344d1729-cb9f-4f52-b02b-651cf4830cfe",
   "metadata": {},
   "outputs": [
    {
     "name": "stdout",
     "output_type": "stream",
     "text": [
      "+------------+------+---+--------+----+-----------+------------+----------------+--------+-------+-------+--------------------+-----------+--------------+\n",
      "|danceability|energy|key|loudness|mode|speechiness|acousticness|instrumentalness|liveness|valence|  tempo|            track_id|duration_ms|time_signature|\n",
      "+------------+------+---+--------+----+-----------+------------+----------------+--------+-------+-------+--------------------+-----------+--------------+\n",
      "|       0.834| 0.555|  5|  -7.902|   0|      0.197|      0.0488|             0.0|   0.265|  0.563|125.015|0rDQZJtSGgsB2rdkO...|     123644|             4|\n",
      "|       0.643| 0.727|  1|  -5.506|   1|     0.0389|      0.0439|             0.0|   0.123|  0.295| 90.019|67ACYA3UI6QMNtHX6...|     162299|             4|\n",
      "|       0.423| 0.517|  0|  -7.377|   1|     0.0486|       0.369|             0.0|   0.177|  0.366|185.262|5YL553x8sHderRBDl...|     234516|             4|\n",
      "|       0.546| 0.613|  7|  -7.589|   0|     0.0264|       0.418|             0.0|   0.103|  0.535| 79.015|6uwfVkaOM1mcMkFmS...|     215627|             4|\n",
      "|       0.731| 0.445|  0|  -8.418|   1|     0.0533|      0.0586|         1.96E-5|    0.14|  0.106| 117.97|55n9yjI6qqXh5F2mY...|     247160|             4|\n",
      "+------------+------+---+--------+----+-----------+------------+----------------+--------+-------+-------+--------------------+-----------+--------------+\n",
      "only showing top 5 rows\n",
      "\n"
     ]
    }
   ],
   "source": [
    "# Track features data\n",
    "track_feat.show(5)"
   ]
  },
  {
   "cell_type": "code",
   "execution_count": 177,
   "id": "4495e650-84a9-40a5-9f6a-f2044a028f23",
   "metadata": {},
   "outputs": [
    {
     "name": "stdout",
     "output_type": "stream",
     "text": [
      "Data from data_artist:\n",
      "root\n",
      " |-- artist_external_urls: string (nullable = true)\n",
      " |-- followers: integer (nullable = true)\n",
      " |-- artist_id: string (nullable = true)\n",
      " |-- artist_name: string (nullable = true)\n",
      " |-- artist_popularity: integer (nullable = true)\n",
      " |-- artist_image: string (nullable = true)\n",
      "\n",
      "+--------------------+---------+--------------------+-------------------+-----------------+--------------------+\n",
      "|artist_external_urls|followers|           artist_id|        artist_name|artist_popularity|        artist_image|\n",
      "+--------------------+---------+--------------------+-------------------+-----------------+--------------------+\n",
      "|https://open.spot...|  4116049|4QQgXkCYTt3BlENzh...| Earth, Wind & Fire|               70|https://i.scdn.co...|\n",
      "|https://open.spot...|  1825107|1l2ekx5skC4gJH8dj...|         Don Diablo|               63|https://i.scdn.co...|\n",
      "|https://open.spot...| 10076234|757aE44tKEUQEqRuT...|        Roddy Ricch|               75|https://i.scdn.co...|\n",
      "|https://open.spot...| 19333818|487N2T9nIPEHrlTZL...|Zé Neto & Cristiano|               77|https://i.scdn.co...|\n",
      "|https://open.spot...|  3695306|1EXjXQpDx2pROygh8...|            Melendi|               72|https://i.scdn.co...|\n",
      "+--------------------+---------+--------------------+-------------------+-----------------+--------------------+\n",
      "only showing top 5 rows\n",
      "\n",
      "Data from data_album:\n",
      "root\n",
      " |-- album_type: string (nullable = true)\n",
      " |-- album_url: string (nullable = true)\n",
      " |-- album_id: string (nullable = true)\n",
      " |-- label: string (nullable = true)\n",
      " |-- album_name: string (nullable = true)\n",
      " |-- album_popularity: integer (nullable = true)\n",
      " |-- release_date: string (nullable = true)\n",
      " |-- release_date_precision: string (nullable = true)\n",
      " |-- total_tracks: integer (nullable = true)\n",
      " |-- artist_id: string (nullable = true)\n",
      " |-- album_image: string (nullable = true)\n",
      "\n",
      "+----------+--------------------+--------------------+--------------------+-------------------+----------------+------------+----------------------+------------+--------------------+--------------------+\n",
      "|album_type|           album_url|            album_id|               label|         album_name|album_popularity|release_date|release_date_precision|total_tracks|           artist_id|         album_image|\n",
      "+----------+--------------------+--------------------+--------------------+-------------------+----------------+------------+----------------------+------------+--------------------+--------------------+\n",
      "|    single|https://open.spot...|0yMfdY4CCyG83pX3P...|Beauty Marks Ente...|How We Roll (Remix)|              51|  2023-11-03|                   day|           1|7bXgB6jMjp9ATFy66...|https://i.scdn.co...|\n",
      "|    single|https://open.spot...|7yBnuW3SpMKy3EB9i...|    Atlantic Records|  Treasure Remix EP|              46|  2013-08-13|                   day|           5|0du5cEVh5yTK9QJze...|https://i.scdn.co...|\n",
      "|    single|https://open.spot...|7CrDnyaqZVhO6Uupm...|Right Hand Music ...|            Skyline|              56|  2022-04-28|                   day|           1|6LuN9FCkKOj5Pcnpo...|https://i.scdn.co...|\n",
      "|     album|https://open.spot...|0Nur9t7M0miEBoAnQ...|Young Money Recor...|         I Am Music|              54|  2023-03-31|                   day|          18|55Aa2cqylxrFIXC76...|https://i.scdn.co...|\n",
      "|     album|https://open.spot...|3Lp4JKk2ZgNkybMRS...|Shawn Mendes LP4-...|             Wonder|              70|  2020-12-04|                   day|          14|7n2wHs1TKAczGzO7D...|https://i.scdn.co...|\n",
      "+----------+--------------------+--------------------+--------------------+-------------------+----------------+------------+----------------------+------------+--------------------+--------------------+\n",
      "only showing top 5 rows\n",
      "\n",
      "Data from data_track:\n",
      "root\n",
      " |-- disc_number: integer (nullable = true)\n",
      " |-- explicit: boolean (nullable = true)\n",
      " |-- track_url: string (nullable = true)\n",
      " |-- track_id: string (nullable = true)\n",
      " |-- track_name: string (nullable = true)\n",
      " |-- track_popularity: integer (nullable = true)\n",
      " |-- track_preview: string (nullable = true)\n",
      " |-- track_number: integer (nullable = true)\n",
      " |-- artist_id: string (nullable = true)\n",
      " |-- album_id: string (nullable = true)\n",
      "\n",
      "+-----------+--------+--------------------+--------------------+--------------------+----------------+--------------------+------------+--------------------+--------------------+\n",
      "|disc_number|explicit|           track_url|            track_id|          track_name|track_popularity|       track_preview|track_number|           artist_id|            album_id|\n",
      "+-----------+--------+--------------------+--------------------+--------------------+----------------+--------------------+------------+--------------------+--------------------+\n",
      "|          2|    true|https://open.spot...|4SUwJA3eUVNHExxMP...|Ratchet Happy Bir...|              56|                null|           6|3TVXtAsR1Inumwj47...|1ATL5GLyefJaxhQzS...|\n",
      "|          1|    true|https://open.spot...|5mZJwWdxAOR4xUvSG...|     6PM In New York|              61|                null|          17|3TVXtAsR1Inumwj47...|0ptlfJfwGTy0Yvrk1...|\n",
      "|          1|    true|https://open.spot...|5qzLdvRViHUrRNdkp...|            BATICANO|              82|https://p.scdn.co...|          15|4q3ewBCX7sLwd24eu...|4FftCsAcXXD1nFO9R...|\n",
      "|          1|   false|https://open.spot...|7gVWKBcfIW93YxNBi...|You're On Your Ow...|              71|                null|           5|06HL4z0CvFAxyc27G...|3lS1y25WAhcqJDATJ...|\n",
      "|          1|   false|https://open.spot...|0lx2cLdOt3piJbcaX...|              willow|              83|                null|           1|06HL4z0CvFAxyc27G...|2Xoteh7uEpea4TohM...|\n",
      "+-----------+--------+--------------------+--------------------+--------------------+----------------+--------------------+------------+--------------------+--------------------+\n",
      "only showing top 5 rows\n",
      "\n",
      "Data from data_genre:\n",
      "root\n",
      " |-- artist_id: string (nullable = true)\n",
      " |-- genre: string (nullable = true)\n",
      "\n",
      "+--------------------+--------------------+\n",
      "|           artist_id|               genre|\n",
      "+--------------------+--------------------+\n",
      "|0VRj0yCOv2FXJNP47...|         atl hip hop|\n",
      "|718COspgdWOnwOFpJ...|contemporary country|\n",
      "|3p7PcrEHaaKLJnPUG...|sertanejo univers...|\n",
      "|3WGpXCj9YhhfX11TT...|      australian pop|\n",
      "|7FBcuc1gsnv6Y1nwF...|            pop punk|\n",
      "+--------------------+--------------------+\n",
      "only showing top 5 rows\n",
      "\n",
      "Data from data_feature:\n",
      "root\n",
      " |-- danceability: double (nullable = true)\n",
      " |-- energy: double (nullable = true)\n",
      " |-- key: integer (nullable = true)\n",
      " |-- loudness: double (nullable = true)\n",
      " |-- mode: integer (nullable = true)\n",
      " |-- speechiness: double (nullable = true)\n",
      " |-- acousticness: double (nullable = true)\n",
      " |-- instrumentalness: double (nullable = true)\n",
      " |-- liveness: double (nullable = true)\n",
      " |-- valence: double (nullable = true)\n",
      " |-- tempo: double (nullable = true)\n",
      " |-- track_id: string (nullable = true)\n",
      " |-- duration_ms: long (nullable = true)\n",
      " |-- time_signature: integer (nullable = true)\n",
      "\n",
      "+------------+------+---+--------+----+-----------+------------+----------------+--------+-------+-------+--------------------+-----------+--------------+\n",
      "|danceability|energy|key|loudness|mode|speechiness|acousticness|instrumentalness|liveness|valence|  tempo|            track_id|duration_ms|time_signature|\n",
      "+------------+------+---+--------+----+-----------+------------+----------------+--------+-------+-------+--------------------+-----------+--------------+\n",
      "|       0.834| 0.555|  5|  -7.902|   0|      0.197|      0.0488|             0.0|   0.265|  0.563|125.015|0rDQZJtSGgsB2rdkO...|     123644|             4|\n",
      "|       0.643| 0.727|  1|  -5.506|   1|     0.0389|      0.0439|             0.0|   0.123|  0.295| 90.019|67ACYA3UI6QMNtHX6...|     162299|             4|\n",
      "|       0.423| 0.517|  0|  -7.377|   1|     0.0486|       0.369|             0.0|   0.177|  0.366|185.262|5YL553x8sHderRBDl...|     234516|             4|\n",
      "|       0.546| 0.613|  7|  -7.589|   0|     0.0264|       0.418|             0.0|   0.103|  0.535| 79.015|6uwfVkaOM1mcMkFmS...|     215627|             4|\n",
      "|       0.731| 0.445|  0|  -8.418|   1|     0.0533|      0.0586|         1.96E-5|    0.14|  0.106| 117.97|55n9yjI6qqXh5F2mY...|     247160|             4|\n",
      "+------------+------+---+--------+----+-----------+------------+----------------+--------+-------+-------+--------------------+-----------+--------------+\n",
      "only showing top 5 rows\n",
      "\n"
     ]
    }
   ],
   "source": [
    "data = [artist, album, track, genre, track_feat]\n",
    "\n",
    "# Create info function to summarize data information\n",
    "def info_data(data):\n",
    "    for df in data:\n",
    "        if df is album:\n",
    "            print(\"Data from data_album:\")\n",
    "        elif df is artist:\n",
    "            print(\"Data from data_artist:\")\n",
    "        elif df is genre:\n",
    "            print(\"Data from data_genre:\")\n",
    "        elif df is track:\n",
    "            print(\"Data from data_track:\")\n",
    "        else:\n",
    "            print(\"Data from data_feature:\")\n",
    "\n",
    "        df.printSchema()\n",
    "        df.show(5)\n",
    "\n",
    "# Gọi hàm để hiển thị thông tin\n",
    "info_data(data)"
   ]
  },
  {
   "cell_type": "code",
   "execution_count": 178,
   "id": "cb6dc228-3086-4323-beda-41644872d8cb",
   "metadata": {},
   "outputs": [
    {
     "name": "stdout",
     "output_type": "stream",
     "text": [
      "Data from data_artist:\n",
      "artist_external_urls: 0 missing values\n",
      "followers: 0 missing values\n",
      "artist_id: 0 missing values\n",
      "artist_name: 0 missing values\n",
      "artist_popularity: 0 missing values\n",
      "artist_image: 0 missing values\n",
      "Data from data_album:\n",
      "album_type: 0 missing values\n",
      "album_url: 0 missing values\n",
      "album_id: 0 missing values\n",
      "label: 0 missing values\n",
      "album_name: 0 missing values\n",
      "album_popularity: 0 missing values\n",
      "release_date: 0 missing values\n",
      "release_date_precision: 0 missing values\n",
      "total_tracks: 0 missing values\n",
      "artist_id: 0 missing values\n",
      "album_image: 1 missing values\n",
      "Data from data_track:\n",
      "disc_number: 0 missing values\n",
      "explicit: 0 missing values\n",
      "track_url: 0 missing values\n",
      "track_id: 0 missing values\n",
      "track_name: 0 missing values\n",
      "track_popularity: 0 missing values\n",
      "track_preview: 58691 missing values\n",
      "track_number: 0 missing values\n",
      "artist_id: 0 missing values\n",
      "album_id: 0 missing values\n",
      "Data from data_genre:\n",
      "artist_id: 0 missing values\n",
      "genre: 0 missing values\n",
      "Data from data_track_feature:\n",
      "danceability: 0 missing values\n",
      "energy: 0 missing values\n",
      "key: 0 missing values\n",
      "loudness: 0 missing values\n",
      "mode: 0 missing values\n",
      "speechiness: 0 missing values\n",
      "acousticness: 0 missing values\n",
      "instrumentalness: 0 missing values\n",
      "liveness: 0 missing values\n",
      "valence: 0 missing values\n",
      "tempo: 0 missing values\n",
      "track_id: 0 missing values\n",
      "duration_ms: 0 missing values\n",
      "time_signature: 0 missing values\n"
     ]
    }
   ],
   "source": [
    "# Check missing value\n",
    "def missing_data(data):\n",
    "    for df in data:\n",
    "        if df is album:\n",
    "            print(\"Data from data_album:\")\n",
    "        elif df is artist:\n",
    "            print(\"Data from data_artist:\")\n",
    "        elif df is genre:\n",
    "            print(\"Data from data_genre:\")\n",
    "        elif df is track:\n",
    "            print(\"Data from data_track:\")\n",
    "        else:\n",
    "            print(\"Data from data_track_feature:\")\n",
    "\n",
    "    # check and show number of missing data in each field\n",
    "        for column in df.columns:\n",
    "            missing_count = df.filter(col(column).isNull()).count()\n",
    "            print(f\"{column}: {missing_count} missing values\")\n",
    "\n",
    "missing_data(data)"
   ]
  },
  {
   "cell_type": "code",
   "execution_count": 179,
   "id": "597139ef-f390-414f-9b1a-4648862fc5da",
   "metadata": {},
   "outputs": [
    {
     "name": "stdout",
     "output_type": "stream",
     "text": [
      "Data from data_artist:\n",
      "Duplicate Rows:\n",
      "+--------------------+---------+---------+-----------+-----------------+------------+-----+\n",
      "|artist_external_urls|followers|artist_id|artist_name|artist_popularity|artist_image|count|\n",
      "+--------------------+---------+---------+-----------+-----------------+------------+-----+\n",
      "+--------------------+---------+---------+-----------+-----------------+------------+-----+\n",
      "\n",
      "Data from data_album:\n",
      "Duplicate Rows:\n",
      "+----------+---------+--------+-----+----------+----------------+------------+----------------------+------------+---------+-----------+-----+\n",
      "|album_type|album_url|album_id|label|album_name|album_popularity|release_date|release_date_precision|total_tracks|artist_id|album_image|count|\n",
      "+----------+---------+--------+-----+----------+----------------+------------+----------------------+------------+---------+-----------+-----+\n",
      "+----------+---------+--------+-----+----------+----------------+------------+----------------------+------------+---------+-----------+-----+\n",
      "\n",
      "Data from data_track:\n",
      "Duplicate Rows:\n"
     ]
    },
    {
     "name": "stderr",
     "output_type": "stream",
     "text": [
      "                                                                                \r"
     ]
    },
    {
     "name": "stdout",
     "output_type": "stream",
     "text": [
      "+-----------+--------+---------+--------+----------+----------------+-------------+------------+---------+--------+-----+\n",
      "|disc_number|explicit|track_url|track_id|track_name|track_popularity|track_preview|track_number|artist_id|album_id|count|\n",
      "+-----------+--------+---------+--------+----------+----------------+-------------+------------+---------+--------+-----+\n",
      "+-----------+--------+---------+--------+----------+----------------+-------------+------------+---------+--------+-----+\n",
      "\n",
      "Data from data_genre:\n",
      "Duplicate Rows:\n",
      "+---------+-----+-----+\n",
      "|artist_id|genre|count|\n",
      "+---------+-----+-----+\n",
      "+---------+-----+-----+\n",
      "\n",
      "Data from data_track_feature:\n",
      "Duplicate Rows:\n"
     ]
    },
    {
     "name": "stderr",
     "output_type": "stream",
     "text": [
      "[Stage 162:>                                                        (0 + 8) / 8]\r"
     ]
    },
    {
     "name": "stdout",
     "output_type": "stream",
     "text": [
      "+------------+------+---+--------+----+-----------+------------+----------------+--------+-------+-----+--------+-----------+--------------+-----+\n",
      "|danceability|energy|key|loudness|mode|speechiness|acousticness|instrumentalness|liveness|valence|tempo|track_id|duration_ms|time_signature|count|\n",
      "+------------+------+---+--------+----+-----------+------------+----------------+--------+-------+-----+--------+-----------+--------------+-----+\n",
      "+------------+------+---+--------+----+-----------+------------+----------------+--------+-------+-----+--------+-----------+--------------+-----+\n",
      "\n"
     ]
    },
    {
     "name": "stderr",
     "output_type": "stream",
     "text": [
      "                                                                                \r"
     ]
    }
   ],
   "source": [
    "# Check duplicate data\n",
    "def duplicate_data(data):\n",
    "    for df in data:\n",
    "        if df is album:\n",
    "            print(\"Data from data_album:\")\n",
    "        elif df is artist:\n",
    "            print(\"Data from data_artist:\")\n",
    "        elif df is genre:\n",
    "            print(\"Data from data_genre:\")\n",
    "        elif df is track:\n",
    "            print(\"Data from data_track:\")\n",
    "        else:\n",
    "            print(\"Data from data_track_feature:\")\n",
    "\n",
    "        print(\"Duplicate Rows:\")\n",
    "        duplicate_rows = df.groupBy(df.columns).count().filter(\"count > 1\")\n",
    "        duplicate_rows.show(truncate=False)\n",
    "\n",
    "        # Loại bỏ các dòng trùng lặp\n",
    "        df = df.dropDuplicates()\n",
    "\n",
    "duplicate_data(data)"
   ]
  },
  {
   "cell_type": "code",
   "execution_count": 180,
   "id": "276b0324-f32e-4d7d-ba08-916d1741a8f5",
   "metadata": {},
   "outputs": [
    {
     "data": {
      "text/html": [
       "<div>\n",
       "<style scoped>\n",
       "    .dataframe tbody tr th:only-of-type {\n",
       "        vertical-align: middle;\n",
       "    }\n",
       "\n",
       "    .dataframe tbody tr th {\n",
       "        vertical-align: top;\n",
       "    }\n",
       "\n",
       "    .dataframe thead th {\n",
       "        text-align: right;\n",
       "    }\n",
       "</style>\n",
       "<table border=\"1\" class=\"dataframe\">\n",
       "  <thead>\n",
       "    <tr style=\"text-align: right;\">\n",
       "      <th></th>\n",
       "      <th>danceability</th>\n",
       "      <th>energy</th>\n",
       "      <th>key</th>\n",
       "      <th>loudness</th>\n",
       "      <th>mode</th>\n",
       "      <th>speechiness</th>\n",
       "      <th>acousticness</th>\n",
       "      <th>instrumentalness</th>\n",
       "      <th>liveness</th>\n",
       "      <th>valence</th>\n",
       "      <th>tempo</th>\n",
       "      <th>duration_ms</th>\n",
       "      <th>time_signature</th>\n",
       "      <th>track_popularity</th>\n",
       "    </tr>\n",
       "  </thead>\n",
       "  <tbody>\n",
       "    <tr>\n",
       "      <th>0</th>\n",
       "      <td>0.834</td>\n",
       "      <td>0.555</td>\n",
       "      <td>5</td>\n",
       "      <td>-7.902</td>\n",
       "      <td>0</td>\n",
       "      <td>0.1970</td>\n",
       "      <td>0.0488</td>\n",
       "      <td>0.00000</td>\n",
       "      <td>0.265</td>\n",
       "      <td>0.563</td>\n",
       "      <td>125.015</td>\n",
       "      <td>123644</td>\n",
       "      <td>4</td>\n",
       "      <td>82</td>\n",
       "    </tr>\n",
       "    <tr>\n",
       "      <th>1</th>\n",
       "      <td>0.643</td>\n",
       "      <td>0.727</td>\n",
       "      <td>1</td>\n",
       "      <td>-5.506</td>\n",
       "      <td>1</td>\n",
       "      <td>0.0389</td>\n",
       "      <td>0.0439</td>\n",
       "      <td>0.00000</td>\n",
       "      <td>0.123</td>\n",
       "      <td>0.295</td>\n",
       "      <td>90.019</td>\n",
       "      <td>162299</td>\n",
       "      <td>4</td>\n",
       "      <td>73</td>\n",
       "    </tr>\n",
       "    <tr>\n",
       "      <th>2</th>\n",
       "      <td>0.423</td>\n",
       "      <td>0.517</td>\n",
       "      <td>0</td>\n",
       "      <td>-7.377</td>\n",
       "      <td>1</td>\n",
       "      <td>0.0486</td>\n",
       "      <td>0.3690</td>\n",
       "      <td>0.00000</td>\n",
       "      <td>0.177</td>\n",
       "      <td>0.366</td>\n",
       "      <td>185.262</td>\n",
       "      <td>234516</td>\n",
       "      <td>4</td>\n",
       "      <td>72</td>\n",
       "    </tr>\n",
       "    <tr>\n",
       "      <th>3</th>\n",
       "      <td>0.546</td>\n",
       "      <td>0.613</td>\n",
       "      <td>7</td>\n",
       "      <td>-7.589</td>\n",
       "      <td>0</td>\n",
       "      <td>0.0264</td>\n",
       "      <td>0.4180</td>\n",
       "      <td>0.00000</td>\n",
       "      <td>0.103</td>\n",
       "      <td>0.535</td>\n",
       "      <td>79.015</td>\n",
       "      <td>215627</td>\n",
       "      <td>4</td>\n",
       "      <td>72</td>\n",
       "    </tr>\n",
       "    <tr>\n",
       "      <th>4</th>\n",
       "      <td>0.731</td>\n",
       "      <td>0.445</td>\n",
       "      <td>0</td>\n",
       "      <td>-8.418</td>\n",
       "      <td>1</td>\n",
       "      <td>0.0533</td>\n",
       "      <td>0.0586</td>\n",
       "      <td>0.00002</td>\n",
       "      <td>0.140</td>\n",
       "      <td>0.106</td>\n",
       "      <td>117.970</td>\n",
       "      <td>247160</td>\n",
       "      <td>4</td>\n",
       "      <td>84</td>\n",
       "    </tr>\n",
       "  </tbody>\n",
       "</table>\n",
       "</div>"
      ],
      "text/plain": [
       "   danceability  energy  key  loudness  mode  speechiness  acousticness  \\\n",
       "0         0.834   0.555    5    -7.902     0       0.1970        0.0488   \n",
       "1         0.643   0.727    1    -5.506     1       0.0389        0.0439   \n",
       "2         0.423   0.517    0    -7.377     1       0.0486        0.3690   \n",
       "3         0.546   0.613    7    -7.589     0       0.0264        0.4180   \n",
       "4         0.731   0.445    0    -8.418     1       0.0533        0.0586   \n",
       "\n",
       "   instrumentalness  liveness  valence    tempo  duration_ms  time_signature  \\\n",
       "0           0.00000     0.265    0.563  125.015       123644               4   \n",
       "1           0.00000     0.123    0.295   90.019       162299               4   \n",
       "2           0.00000     0.177    0.366  185.262       234516               4   \n",
       "3           0.00000     0.103    0.535   79.015       215627               4   \n",
       "4           0.00002     0.140    0.106  117.970       247160               4   \n",
       "\n",
       "   track_popularity  \n",
       "0                82  \n",
       "1                73  \n",
       "2                72  \n",
       "3                72  \n",
       "4                84  "
      ]
     },
     "execution_count": 180,
     "metadata": {},
     "output_type": "execute_result"
    }
   ],
   "source": [
    "# merge track and track_feat on track_id\n",
    "data_track = track.select(['track_id',  'track_popularity'])\n",
    "\n",
    "# Đọc dữ liệu từ DataFrame track_feat\n",
    "data_track_feat = track_feat.join(data_track, 'track_id')\n",
    "\n",
    "# Chuyển đổi PySpark DataFrame thành Pandas DataFrame\n",
    "data_track_feat = data_track_feat.toPandas()\n",
    "\n",
    "# Hiển thị một số hàng đầu tiên\n",
    "data_track_feat.head()\n",
    "#\n",
    "corr_data = data_track_feat.loc[:, ~data_track_feat.columns.isin(['track_id'])]\n",
    "corr_data.head()"
   ]
  },
  {
   "cell_type": "code",
   "execution_count": 181,
   "id": "13adee24-556a-4e27-86d8-6372fe28ee51",
   "metadata": {},
   "outputs": [
    {
     "data": {
      "image/png": "[encoded data removed]",
      "text/plain": [
       "<Figure size 1000x800 with 2 Axes>"
      ]
     },
     "metadata": {},
     "output_type": "display_data"
    }
   ],
   "source": [
    "# Generate the correlation matrix\n",
    "corr_matrix = corr_data.corr()\n",
    "\n",
    "# Set up the matplotlib figure\n",
    "plt.figure(figsize=(10, 8))\n",
    "\n",
    "# Create a heatmap with seaborn\n",
    "sns.heatmap(corr_matrix, annot=True, cmap='coolwarm', fmt='.2f', linewidths=.5)\n",
    "\n",
    "# Set the title of the plot\n",
    "plt.title('Correlation Matrix - data_track_feat')\n",
    "\n",
    "# Show the plot\n",
    "plt.show()"
   ]
  },
  {
   "cell_type": "markdown",
   "id": "e7b85467-5072-4644-b0fd-a554b3314498",
   "metadata": {},
   "source": [
    "We observe a noteworthy positive correlation between `loudness` and `track_popularity` with the highest correlation score of 0.24. Additionally, `energy` and `tempo` exhibit positive correlation scores of 0.05 and 0.06, respectively. It is evident that `valence` shows a strong correlation with `danceability` (0.46), `energy` (0.32), and `loudness` (0.28), though not directly correlating with `track_popularity`. Nonetheless, we can infer that these features play a role in influencing the popularity of a track, suggesting that tracks with higher values in these features might garner more interest."
   ]
  },
  {
   "cell_type": "markdown",
   "id": "bb651d80-98d2-4cc6-8813-39c3323e5e45",
   "metadata": {},
   "source": [
    "## Data Pre processing"
   ]
  },
  {
   "cell_type": "markdown",
   "id": "7875c231-93a4-4505-b06a-73618af42058",
   "metadata": {},
   "source": [
    "### Data transforming"
   ]
  },
  {
   "cell_type": "markdown",
   "id": "49e4fd02-2fc2-45a8-8f43-1e3ff576e2ee",
   "metadata": {},
   "source": [
    "We will merge those table into one and concatenate the genre into 1 object"
   ]
  },
  {
   "cell_type": "code",
   "execution_count": 182,
   "id": "e02e568e-c94e-48c6-82b3-98b40f42e621",
   "metadata": {},
   "outputs": [],
   "source": [
    "# Merge all tables into one\n",
    "searchs_table = (\n",
    "    track\n",
    "    .join(album, \"album_id\")\n",
    "    .join(artist, \"artist_id\")\n",
    "    .join(track_feat, \"track_id\")\n",
    "    .join(genre, \"artist_id\")\n",
    ")"
   ]
  },
  {
   "cell_type": "markdown",
   "id": "13d77969-bffa-45e3-82ed-8058902975de",
   "metadata": {},
   "source": [
    "We need to specify the alias for searchs table for more readable"
   ]
  },
  {
   "cell_type": "code",
   "execution_count": 183,
   "id": "f149346d-f98e-4035-af1e-79aba8f7ea44",
   "metadata": {},
   "outputs": [],
   "source": [
    "searchs_table = (\n",
    "    searchs_table.withColumn(\"track_release_year\", substring(\"release_date\", 1, 4))\n",
    "    .groupBy(\n",
    "        \"track_id\", \"track_name\", \"track_url\", \"track_popularity\", \"track_preview\",\n",
    "        \"artist_name\", \"artist_popularity\", \"artist_image\", \"track_release_year\",\n",
    "        \"album_name\", \"danceability\", \"energy\", \"key\", \"loudness\", \"mode\",\n",
    "        \"speechiness\", \"acousticness\", \"instrumentalness\", \"liveness\", \"valence\",\n",
    "        \"tempo\", \"duration_ms\", \"time_signature\"\n",
    "    )\n",
    "    # .agg(collect_list('genre')).alias('genre_list')\n",
    "    .agg(concat_ws(',', collect_list(col('genre'))).alias('genres'))\n",
    "    .orderBy(\"track_popularity\")\n",
    ")"
   ]
  },
  {
   "cell_type": "code",
   "execution_count": 184,
   "id": "2446ebc5-c7dc-4229-945f-c89991b729d1",
   "metadata": {},
   "outputs": [
    {
     "name": "stderr",
     "output_type": "stream",
     "text": [
      "                                                                                \r"
     ]
    },
    {
     "name": "stdout",
     "output_type": "stream",
     "text": [
      "+--------+----------+---------+----------------+-------------+-----------+-----------------+------------+------------------+----------+------------+------+---+--------+----+-----------+------------+----------------+--------+-------+-----+-----------+--------------+------+-----+\n",
      "|track_id|track_name|track_url|track_popularity|track_preview|artist_name|artist_popularity|artist_image|track_release_year|album_name|danceability|energy|key|loudness|mode|speechiness|acousticness|instrumentalness|liveness|valence|tempo|duration_ms|time_signature|genres|count|\n",
      "+--------+----------+---------+----------------+-------------+-----------+-----------------+------------+------------------+----------+------------+------+---+--------+----+-----------+------------+----------------+--------+-------+-----+-----------+--------------+------+-----+\n",
      "+--------+----------+---------+----------------+-------------+-----------+-----------------+------------+------------------+----------+------------+------+---+--------+----+-----------+------------+----------------+--------+-------+-----+-----------+--------------+------+-----+\n",
      "\n"
     ]
    }
   ],
   "source": [
    "# Check duplicate in searchs table\n",
    "duplicate_rows = searchs_table.groupBy(searchs_table.columns).count().filter(\"count > 1\")\n",
    "duplicate_rows.show(truncate=False)"
   ]
  },
  {
   "cell_type": "code",
   "execution_count": 185,
   "id": "60273635-a2eb-4dbb-91b9-5953396c7d07",
   "metadata": {},
   "outputs": [
    {
     "name": "stderr",
     "output_type": "stream",
     "text": [
      "                                                                                \r"
     ]
    },
    {
     "data": {
      "text/plain": [
       "158232"
      ]
     },
     "execution_count": 185,
     "metadata": {},
     "output_type": "execute_result"
    }
   ],
   "source": [
    "searchs_table.count()"
   ]
  },
  {
   "cell_type": "code",
   "execution_count": 186,
   "id": "6b7e4ad1-095a-47c8-93f2-06e5d365b88b",
   "metadata": {},
   "outputs": [
    {
     "name": "stdout",
     "output_type": "stream",
     "text": [
      "root\n",
      " |-- track_id: string (nullable = true)\n",
      " |-- track_name: string (nullable = true)\n",
      " |-- track_url: string (nullable = true)\n",
      " |-- track_popularity: integer (nullable = true)\n",
      " |-- track_preview: string (nullable = true)\n",
      " |-- artist_name: string (nullable = true)\n",
      " |-- artist_popularity: integer (nullable = true)\n",
      " |-- artist_image: string (nullable = true)\n",
      " |-- track_release_year: string (nullable = true)\n",
      " |-- album_name: string (nullable = true)\n",
      " |-- danceability: double (nullable = true)\n",
      " |-- energy: double (nullable = true)\n",
      " |-- key: integer (nullable = true)\n",
      " |-- loudness: double (nullable = true)\n",
      " |-- mode: integer (nullable = true)\n",
      " |-- speechiness: double (nullable = true)\n",
      " |-- acousticness: double (nullable = true)\n",
      " |-- instrumentalness: double (nullable = true)\n",
      " |-- liveness: double (nullable = true)\n",
      " |-- valence: double (nullable = true)\n",
      " |-- tempo: double (nullable = true)\n",
      " |-- duration_ms: long (nullable = true)\n",
      " |-- time_signature: integer (nullable = true)\n",
      " |-- genres: string (nullable = false)\n",
      "\n"
     ]
    }
   ],
   "source": [
    "searchs_table.printSchema()"
   ]
  },
  {
   "cell_type": "code",
   "execution_count": 187,
   "id": "e23300b3-1912-44aa-942f-f76584fb1eb7",
   "metadata": {
    "scrolled": true
   },
   "outputs": [
    {
     "name": "stderr",
     "output_type": "stream",
     "text": [
      "[Stage 196:=================================================>       (7 + 1) / 8]\r"
     ]
    },
    {
     "name": "stdout",
     "output_type": "stream",
     "text": [
      "+--------------------+--------------------+--------------------+----------------+--------------------+--------------------+-----------------+--------------------+------------------+--------------------+------------+------+---+--------+----+-----------+------------+----------------+--------+-------+-------+-----------+--------------+--------------------+\n",
      "|            track_id|          track_name|           track_url|track_popularity|       track_preview|         artist_name|artist_popularity|        artist_image|track_release_year|          album_name|danceability|energy|key|loudness|mode|speechiness|acousticness|instrumentalness|liveness|valence|  tempo|duration_ms|time_signature|              genres|\n",
      "+--------------------+--------------------+--------------------+----------------+--------------------+--------------------+-----------------+--------------------+------------------+--------------------+------------+------+---+--------+----+-----------+------------+----------------+--------+-------+-------+-----------+--------------+--------------------+\n",
      "|0Hckut63HfsZLAg0R...|Soy Mujer - HA-AS...|https://open.spot...|               0|https://p.scdn.co...|              Ha*Ash|               72|https://i.scdn.co...|              2014|Primera Fila - He...|       0.764| 0.245|  5| -19.638|   1|      0.958|       0.806|             0.0|   0.117|  0.716| 59.421|      21960|             5|latin pop,mexican...|\n",
      "|0SqF4pgEBTtTEClY5...|Na Madrugada Você...|https://open.spot...|               0|                null|Os Barões Da Pisa...|               67|https://i.scdn.co...|              2020|Piseiro Em Casa (...|       0.745|  0.77|  5|  -6.749|   0|     0.0423|       0.472|         3.55E-6|  0.0459|  0.942|168.263|     141849|             4|sertanejo univers...|\n",
      "|0M9hh9wtd6zTG6n14...|You Can't Stop th...|https://open.spot...|               0|https://p.scdn.co...|          Bebe Rexha|               78|https://i.scdn.co...|              2022|Goldeneye - Sound...|       0.393| 0.717|  7|  -6.332|   1|     0.0603|       0.705|             0.0|   0.116|  0.252|151.908|     158258|             4|       dance pop,pop|\n",
      "|04pcKokVtjgwAWdSB...|               11:59|https://open.spot...|               0|                null|             Pitbull|               80|https://i.scdn.co...|              2012|Global Warming (D...|       0.734| 0.886|  0|  -4.909|   1|      0.105|      0.0894|             0.0|   0.369|  0.611|134.436|     217680|             4|pop,dance pop,mia...|\n",
      "|0PP46tzuIKadaRS8C...|           Small Axe|https://open.spot...|               0|                null|Bob Marley & The ...|               75|https://i.scdn.co...|              2012|Marley (The Origi...|       0.907| 0.497| 10|  -9.365|   1|      0.248|       0.139|         0.00333|    0.08|  0.852| 98.021|     240320|             4| reggae,roots reggae|\n",
      "+--------------------+--------------------+--------------------+----------------+--------------------+--------------------+-----------------+--------------------+------------------+--------------------+------------+------+---+--------+----+-----------+------------+----------------+--------+-------+-------+-----------+--------------+--------------------+\n",
      "only showing top 5 rows\n",
      "\n"
     ]
    },
    {
     "name": "stderr",
     "output_type": "stream",
     "text": [
      "                                                                                \r"
     ]
    }
   ],
   "source": [
    "searchs_table.show(5)"
   ]
  },
  {
   "cell_type": "markdown",
   "id": "71492238-82bc-4764-93cb-c06cf31869d1",
   "metadata": {},
   "source": [
    "Then in model, we only need track's attribute in numeric, so we would select only them in searchs_table"
   ]
  },
  {
   "cell_type": "code",
   "execution_count": 188,
   "id": "edb61a78-dcf1-42f9-876d-e9f56fc92ef7",
   "metadata": {},
   "outputs": [],
   "source": [
    "from pyspark.ml.feature import CountVectorizer\n",
    "from pyspark.sql.functions import split, col\n",
    "from pyspark.sql import SparkSession\n",
    "\n",
    "def create_features_matrixs(song_library):\n",
    "    # Specify the numerical columns for the features matrix\n",
    "    num_cols = ['track_popularity', 'artist_popularity', 'energy', 'danceability', 'speechiness',\n",
    "                'acousticness', 'instrumentalness', 'liveness', 'valence', 'tempo', 'duration_ms',\n",
    "                'time_signature', 'track_release_year']\n",
    "\n",
    "    # Select the numerical features from the song_library DataFrame\n",
    "    num_features = song_library.select(num_cols)\n",
    "\n",
    "\n",
    "    # Specify the HDFS URI for the Parquet file\n",
    "    hdfs_uri = \"hdfs://namenode:8020/model/feature_matrix.parquet\"\n",
    "\n",
    "    print('Start writing feature_matrix.parquet')\n",
    "    num_features.write.parquet(hdfs_uri, mode='overwrite')\n",
    "    print(f'Successfully wrote {num_features.count()} rows into feature_matrix.parquet')\n",
    "\n",
    "    return num_features"
   ]
  },
  {
   "cell_type": "code",
   "execution_count": 189,
   "id": "a572a151-ae8f-463e-bebc-87007c825476",
   "metadata": {},
   "outputs": [
    {
     "name": "stdout",
     "output_type": "stream",
     "text": [
      "Start writing feature_matrix.parquet\n"
     ]
    },
    {
     "name": "stderr",
     "output_type": "stream",
     "text": [
      "23/12/19 09:06:19 WARN MemoryManager: Total allocation exceeds 95.00% (1,020,054,720 bytes) of heap memory\n",
      "Scaling row group sizes to 95.00% for 8 writers\n",
      "[Stage 215:============================>                            (4 + 4) / 8]\r"
     ]
    },
    {
     "name": "stdout",
     "output_type": "stream",
     "text": [
      "Successfully wrote 158232 rows into feature_matrix.parquet\n"
     ]
    },
    {
     "name": "stderr",
     "output_type": "stream",
     "text": [
      "                                                                                \r"
     ]
    }
   ],
   "source": [
    "num_feat = create_features_matrixs(searchs_table)"
   ]
  },
  {
   "cell_type": "markdown",
   "id": "58e70025-e3a3-4982-ad43-1d976d00eb17",
   "metadata": {},
   "source": [
    "## Model"
   ]
  },
  {
   "cell_type": "markdown",
   "id": "83d767c4-94fb-4508-b567-0c6bcd59afc4",
   "metadata": {},
   "source": [
    "Firstly, we need to create a class to connect with dremio server named `DremioClient`"
   ]
  },
  {
   "cell_type": "code",
   "execution_count": 190,
   "id": "db34d8cb-d5d9-4731-80a6-a8ab2591c9ad",
   "metadata": {},
   "outputs": [],
   "source": [
    "import pyarrow\n",
    "from pyarrow import flight\n",
    "import pandas as pd\n",
    "import os\n",
    "\n",
    "class DremioClient:\n",
    "    def __init__(self, host, port, uid, pwd) -> None:\n",
    "        self._host = host\n",
    "        self._port = port\n",
    "        self._uid = uid\n",
    "        self._pwd = pwd\n",
    "\n",
    "    def connect(self):\n",
    "        self._client = flight.FlightClient(f\"grpc://{self._host}:{self._port}\")\n",
    "\n",
    "    def authenticate(self):\n",
    "        bearer_token = self._client.authenticate_basic_token(\n",
    "            self._uid, self._pwd)\n",
    "        options = flight.FlightCallOptions(headers=[bearer_token])\n",
    "        return options\n",
    "\n",
    "    def query(self, sql, options):\n",
    "        info = self._client.get_flight_info(\n",
    "            flight.FlightDescriptor.for_command(sql), options=options)\n",
    "        reader = self._client.do_get(info.endpoints[0].ticket, options=options)\n",
    "        df = reader.read_all().to_pandas()\n",
    "        return df"
   ]
  },
  {
   "cell_type": "markdown",
   "id": "6da60af4-2a1f-4402-a587-40874a983200",
   "metadata": {},
   "source": [
    "Then Connect with Dremio Server"
   ]
  },
  {
   "cell_type": "code",
   "execution_count": 191,
   "id": "8ebd53fc-044f-4c66-9d3a-9b19283f89d4",
   "metadata": {},
   "outputs": [],
   "source": [
    "host = os.getenv(\"DREMIO_HOST\")\n",
    "port = os.getenv(\"DREMIO_PORT\")\n",
    "uid = os.getenv(\"DREMIO_USER\")\n",
    "pwd = os.getenv(\"DREMIO_PASSWORD\")\n",
    "client = DremioClient(host, port, uid, pwd)\n",
    "client.connect()\n",
    "options = client.authenticate()"
   ]
  },
  {
   "cell_type": "markdown",
   "id": "1bcaadb7-ae4f-491e-8aa0-dbecf803e396",
   "metadata": {},
   "source": [
    "We use KNN to calculate the similarity of track and return top 5 track mostly same. Training KNN model "
   ]
  },
  {
   "cell_type": "code",
   "execution_count": 192,
   "id": "45d7ba7b-05de-4cea-9060-706777dd52e3",
   "metadata": {},
   "outputs": [],
   "source": [
    "class SongRecommendationSystem:\n",
    "    def __init__(self, client, options):\n",
    "        self.client = client\n",
    "        self.options = options\n",
    "        self.knn_model = NearestNeighbors(metric='cosine')\n",
    "\n",
    "    def fit(self, table_name):   \n",
    "        matrix_table = self._get_table(table_name).values\n",
    "        self.knn_model.fit(matrix_table)\n",
    "        \n",
    "    def _get_table(self, table_name):\n",
    "        sql = f\"select * from {table_name}\"\n",
    "        return self.client.query(sql, self.options)\n",
    "        \n",
    "    def recommend_songs(self, track_name: str, table_name='home.searchs', num_recommendations=5):\n",
    "        song_library = self._get_table(table_name).reset_index(drop=True)\n",
    "        \n",
    "        if track_name not in song_library['track_name'].values:\n",
    "            print(f'Track \"{track_name}\" not found in the dataset.')\n",
    "            return None\n",
    "            \n",
    "        features_matrix = self._get_table('home.model')\n",
    "        track_index = song_library.index[song_library['track_name'] == track_name].tolist()[0]\n",
    "        _, indices = self.knn_model.kneighbors([features_matrix.iloc[track_index]], n_neighbors=num_recommendations + 1)\n",
    "        return song_library.loc[indices[0][1:], :]"
   ]
  },
  {
   "cell_type": "markdown",
   "id": "7b8324a1-8903-4fb9-907f-367254d44afb",
   "metadata": {},
   "source": [
    "Now we will create recommendation model using KNN and fit with our data in `searchs` table in dremio"
   ]
  },
  {
   "cell_type": "code",
   "execution_count": 193,
   "id": "bbb8e58d-9d10-44de-b939-581eff55d156",
   "metadata": {},
   "outputs": [],
   "source": [
    "rec_model = SongRecommendationSystem(client, options)\n",
    "rec_model.fit('home.model')"
   ]
  },
  {
   "cell_type": "code",
   "execution_count": 210,
   "id": "668a7ecc-d6a4-48ff-9422-8032b5abefcd",
   "metadata": {},
   "outputs": [
    {
     "data": {
      "text/html": [
       "<div>\n",
       "<style scoped>\n",
       "    .dataframe tbody tr th:only-of-type {\n",
       "        vertical-align: middle;\n",
       "    }\n",
       "\n",
       "    .dataframe tbody tr th {\n",
       "        vertical-align: top;\n",
       "    }\n",
       "\n",
       "    .dataframe thead th {\n",
       "        text-align: right;\n",
       "    }\n",
       "</style>\n",
       "<table border=\"1\" class=\"dataframe\">\n",
       "  <thead>\n",
       "    <tr style=\"text-align: right;\">\n",
       "      <th></th>\n",
       "      <th>track_id</th>\n",
       "      <th>track_name</th>\n",
       "      <th>track_url</th>\n",
       "      <th>track_popularity</th>\n",
       "      <th>track_preview</th>\n",
       "      <th>artist_name</th>\n",
       "      <th>artist_popularity</th>\n",
       "      <th>artist_image</th>\n",
       "      <th>track_release_year</th>\n",
       "      <th>album_name</th>\n",
       "      <th>...</th>\n",
       "      <th>mode</th>\n",
       "      <th>speechiness</th>\n",
       "      <th>acousticness</th>\n",
       "      <th>instrumentalness</th>\n",
       "      <th>liveness</th>\n",
       "      <th>valence</th>\n",
       "      <th>tempo</th>\n",
       "      <th>duration_ms</th>\n",
       "      <th>time_signature</th>\n",
       "      <th>genres</th>\n",
       "    </tr>\n",
       "  </thead>\n",
       "  <tbody>\n",
       "    <tr>\n",
       "      <th>156947</th>\n",
       "      <td>6GnhWMhgJb7uyiiPEiEkDA</td>\n",
       "      <td>Weekend (feat. Miguel)</td>\n",
       "      <td>https://open.spotify.com/track/6GnhWMhgJb7uyii...</td>\n",
       "      <td>80</td>\n",
       "      <td>https://p.scdn.co/mp3-preview/b2ba953f5ad2e0a2...</td>\n",
       "      <td>Mac Miller</td>\n",
       "      <td>80</td>\n",
       "      <td>https://i.scdn.co/image/ab6761610000e5ebed3b89...</td>\n",
       "      <td>2015</td>\n",
       "      <td>GO:OD AM</td>\n",
       "      <td>...</td>\n",
       "      <td>1</td>\n",
       "      <td>0.1780</td>\n",
       "      <td>0.47000</td>\n",
       "      <td>0.000000</td>\n",
       "      <td>0.147</td>\n",
       "      <td>0.190</td>\n",
       "      <td>120.058</td>\n",
       "      <td>208080</td>\n",
       "      <td>4</td>\n",
       "      <td>pittsburgh rap,hip hop,rap,pop rap</td>\n",
       "    </tr>\n",
       "    <tr>\n",
       "      <th>156415</th>\n",
       "      <td>3xby7fOyqmeON8jsnom0AT</td>\n",
       "      <td>Nightcrawler (feat. Swae Lee &amp; Chief Keef)</td>\n",
       "      <td>https://open.spotify.com/track/3xby7fOyqmeON8j...</td>\n",
       "      <td>78</td>\n",
       "      <td>https://p.scdn.co/mp3-preview/23540b3a777ceb28...</td>\n",
       "      <td>Travis Scott</td>\n",
       "      <td>90</td>\n",
       "      <td>https://i.scdn.co/image/ab6761610000e5eb19c279...</td>\n",
       "      <td>2015</td>\n",
       "      <td>Rodeo</td>\n",
       "      <td>...</td>\n",
       "      <td>0</td>\n",
       "      <td>0.0323</td>\n",
       "      <td>0.00134</td>\n",
       "      <td>0.000000</td>\n",
       "      <td>0.132</td>\n",
       "      <td>0.180</td>\n",
       "      <td>124.045</td>\n",
       "      <td>321560</td>\n",
       "      <td>4</td>\n",
       "      <td>slap house,hip hop,rap,slap house,hip hop,rap</td>\n",
       "    </tr>\n",
       "    <tr>\n",
       "      <th>120572</th>\n",
       "      <td>17hUeO3yozyGyXFzpEIX6D</td>\n",
       "      <td>Estrella</td>\n",
       "      <td>https://open.spotify.com/track/17hUeO3yozyGyXF...</td>\n",
       "      <td>44</td>\n",
       "      <td>https://p.scdn.co/mp3-preview/4ba5c04518857cb3...</td>\n",
       "      <td>Zion &amp; Lennox</td>\n",
       "      <td>74</td>\n",
       "      <td>https://i.scdn.co/image/ab6761610000e5ebfa8445...</td>\n",
       "      <td>2021</td>\n",
       "      <td>El Sistema</td>\n",
       "      <td>...</td>\n",
       "      <td>0</td>\n",
       "      <td>0.0640</td>\n",
       "      <td>0.02930</td>\n",
       "      <td>0.000000</td>\n",
       "      <td>0.136</td>\n",
       "      <td>0.750</td>\n",
       "      <td>89.993</td>\n",
       "      <td>214626</td>\n",
       "      <td>4</td>\n",
       "      <td>urbano latino,reggaeton,urbano latino,reggaeto...</td>\n",
       "    </tr>\n",
       "    <tr>\n",
       "      <th>120504</th>\n",
       "      <td>6CrnvqCxBKVWahSiQwOesM</td>\n",
       "      <td>Hands</td>\n",
       "      <td>https://open.spotify.com/track/6CrnvqCxBKVWahS...</td>\n",
       "      <td>58</td>\n",
       "      <td>https://p.scdn.co/mp3-preview/3aedb0e37ba1057c...</td>\n",
       "      <td>Mac Miller</td>\n",
       "      <td>80</td>\n",
       "      <td>https://i.scdn.co/image/ab6761610000e5ebed3b89...</td>\n",
       "      <td>2020</td>\n",
       "      <td>Circles</td>\n",
       "      <td>...</td>\n",
       "      <td>1</td>\n",
       "      <td>0.1710</td>\n",
       "      <td>0.04590</td>\n",
       "      <td>0.000000</td>\n",
       "      <td>0.159</td>\n",
       "      <td>0.542</td>\n",
       "      <td>74.962</td>\n",
       "      <td>199981</td>\n",
       "      <td>4</td>\n",
       "      <td>pittsburgh rap,hip hop,rap,pop rap</td>\n",
       "    </tr>\n",
       "    <tr>\n",
       "      <th>145718</th>\n",
       "      <td>5Bw9bAHGaykCFLP0VyqNbJ</td>\n",
       "      <td>2 Bad</td>\n",
       "      <td>https://open.spotify.com/track/5Bw9bAHGaykCFLP...</td>\n",
       "      <td>50</td>\n",
       "      <td>https://p.scdn.co/mp3-preview/f3a9985de8a264b8...</td>\n",
       "      <td>Michael Jackson</td>\n",
       "      <td>80</td>\n",
       "      <td>https://i.scdn.co/image/ab6761610000e5eb0e08ea...</td>\n",
       "      <td>1995</td>\n",
       "      <td>HIStory - PAST, PRESENT AND FUTURE - BOOK I</td>\n",
       "      <td>...</td>\n",
       "      <td>1</td>\n",
       "      <td>0.2490</td>\n",
       "      <td>0.06980</td>\n",
       "      <td>0.000009</td>\n",
       "      <td>0.401</td>\n",
       "      <td>0.520</td>\n",
       "      <td>103.962</td>\n",
       "      <td>289333</td>\n",
       "      <td>4</td>\n",
       "      <td>r&amp;b,soul</td>\n",
       "    </tr>\n",
       "  </tbody>\n",
       "</table>\n",
       "<p>5 rows × 24 columns</p>\n",
       "</div>"
      ],
      "text/plain": [
       "                      track_id                                  track_name  \\\n",
       "156947  6GnhWMhgJb7uyiiPEiEkDA                      Weekend (feat. Miguel)   \n",
       "156415  3xby7fOyqmeON8jsnom0AT  Nightcrawler (feat. Swae Lee & Chief Keef)   \n",
       "120572  17hUeO3yozyGyXFzpEIX6D                                    Estrella   \n",
       "120504  6CrnvqCxBKVWahSiQwOesM                                       Hands   \n",
       "145718  5Bw9bAHGaykCFLP0VyqNbJ                                       2 Bad   \n",
       "\n",
       "                                                track_url  track_popularity  \\\n",
       "156947  https://open.spotify.com/track/6GnhWMhgJb7uyii...                80   \n",
       "156415  https://open.spotify.com/track/3xby7fOyqmeON8j...                78   \n",
       "120572  https://open.spotify.com/track/17hUeO3yozyGyXF...                44   \n",
       "120504  https://open.spotify.com/track/6CrnvqCxBKVWahS...                58   \n",
       "145718  https://open.spotify.com/track/5Bw9bAHGaykCFLP...                50   \n",
       "\n",
       "                                            track_preview      artist_name  \\\n",
       "156947  https://p.scdn.co/mp3-preview/b2ba953f5ad2e0a2...       Mac Miller   \n",
       "156415  https://p.scdn.co/mp3-preview/23540b3a777ceb28...     Travis Scott   \n",
       "120572  https://p.scdn.co/mp3-preview/4ba5c04518857cb3...    Zion & Lennox   \n",
       "120504  https://p.scdn.co/mp3-preview/3aedb0e37ba1057c...       Mac Miller   \n",
       "145718  https://p.scdn.co/mp3-preview/f3a9985de8a264b8...  Michael Jackson   \n",
       "\n",
       "        artist_popularity                                       artist_image  \\\n",
       "156947                 80  https://i.scdn.co/image/ab6761610000e5ebed3b89...   \n",
       "156415                 90  https://i.scdn.co/image/ab6761610000e5eb19c279...   \n",
       "120572                 74  https://i.scdn.co/image/ab6761610000e5ebfa8445...   \n",
       "120504                 80  https://i.scdn.co/image/ab6761610000e5ebed3b89...   \n",
       "145718                 80  https://i.scdn.co/image/ab6761610000e5eb0e08ea...   \n",
       "\n",
       "       track_release_year                                   album_name  ...  \\\n",
       "156947               2015                                     GO:OD AM  ...   \n",
       "156415               2015                                        Rodeo  ...   \n",
       "120572               2021                                   El Sistema  ...   \n",
       "120504               2020                                      Circles  ...   \n",
       "145718               1995  HIStory - PAST, PRESENT AND FUTURE - BOOK I  ...   \n",
       "\n",
       "        mode  speechiness  acousticness  instrumentalness  liveness  valence  \\\n",
       "156947     1       0.1780       0.47000          0.000000     0.147    0.190   \n",
       "156415     0       0.0323       0.00134          0.000000     0.132    0.180   \n",
       "120572     0       0.0640       0.02930          0.000000     0.136    0.750   \n",
       "120504     1       0.1710       0.04590          0.000000     0.159    0.542   \n",
       "145718     1       0.2490       0.06980          0.000009     0.401    0.520   \n",
       "\n",
       "          tempo  duration_ms  time_signature  \\\n",
       "156947  120.058       208080               4   \n",
       "156415  124.045       321560               4   \n",
       "120572   89.993       214626               4   \n",
       "120504   74.962       199981               4   \n",
       "145718  103.962       289333               4   \n",
       "\n",
       "                                                   genres  \n",
       "156947                 pittsburgh rap,hip hop,rap,pop rap  \n",
       "156415      slap house,hip hop,rap,slap house,hip hop,rap  \n",
       "120572  urbano latino,reggaeton,urbano latino,reggaeto...  \n",
       "120504                 pittsburgh rap,hip hop,rap,pop rap  \n",
       "145718                                           r&b,soul  \n",
       "\n",
       "[5 rows x 24 columns]"
      ]
     },
     "execution_count": 210,
     "metadata": {},
     "output_type": "execute_result"
    }
   ],
   "source": [
    "rec_model.recommend_songs('Something Just Like This', 'home.searchs')"
   ]
  }
 ],
 "metadata": {
  "kernelspec": {
   "display_name": "Python 3 (ipykernel)",
   "language": "python",
   "name": "python3"
  },
  "language_info": {
   "codemirror_mode": {
    "name": "ipython",
    "version": 3
   },
   "file_extension": ".py",
   "mimetype": "text/x-python",
   "name": "python",
   "nbconvert_exporter": "python",
   "pygments_lexer": "ipython3",
   "version": "3.11.6"
  }
 },
 "nbformat": 4,
 "nbformat_minor": 5
}
